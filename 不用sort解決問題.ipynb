{
 "cells": [
  {
   "cell_type": "code",
   "execution_count": 19,
   "metadata": {
    "scrolled": true
   },
   "outputs": [
    {
     "name": "stdout",
     "output_type": "stream",
     "text": [
      "請輸入字串1:app\n",
      "請輸入字串2:paa\n",
      "try again\n",
      "請輸入字串1:aap\n",
      "請輸入字串2:pap\n",
      "try again\n",
      "請輸入字串1:apple\n",
      "請輸入字串2:elppa\n",
      "You are right!!!!\n"
     ]
    }
   ],
   "source": [
    "def f(s1,s2):\n",
    "    s1_new = list(s1)\n",
    "    s1_new.sort()\n",
    "    s2_new = list(s2)\n",
    "    s2_new.sort()\n",
    "    \n",
    "    if s1_new==s2_new:\n",
    "        return True\n",
    "    else:\n",
    "        return False\n",
    "\n",
    "flag = True\n",
    "\n",
    "while flag:\n",
    "    \n",
    "    s1 = input('請輸入字串1:')\n",
    "    s2 = input('請輸入字串2:')\n",
    "    \n",
    "    if f(s1,s2)==True:\n",
    "        print('You are right!!!!')\n",
    "        break\n",
    "    else:\n",
    "        print('try again')"
   ]
  },
  {
   "cell_type": "code",
   "execution_count": 37,
   "metadata": {},
   "outputs": [
    {
     "name": "stdout",
     "output_type": "stream",
     "text": [
      "請輸入字串1:ellll\n",
      "請輸入字串2:lllle\n",
      "You are right!!!!\n"
     ]
    }
   ],
   "source": [
    "def f(s1,s2):\n",
    "    s1_new = list(s1)\n",
    "    s2_new = list(s2)\n",
    "    \n",
    "    d1 = dict()\n",
    "    \n",
    "    if len(s1_new)!=len(s2_new):\n",
    "        return False\n",
    "    \n",
    "    for i in set(s1_new):\n",
    "        d1.update({i:s1_new.count(i)})\n",
    "    \n",
    "    for j in set(s2_new):\n",
    "        try:\n",
    "            if s2_new.count(j) !=d1[j]:\n",
    "                return False\n",
    "        except:\n",
    "            return False\n",
    "        \n",
    "    return True\n",
    "\n",
    "flag = True\n",
    "\n",
    "while flag:\n",
    "    \n",
    "    s1 = input('請輸入字串1:')\n",
    "    s2 = input('請輸入字串2:')\n",
    "    \n",
    "    if f(s1,s2)==True:\n",
    "        print('You are right!!!!')\n",
    "        break\n",
    "    else:\n",
    "        print('try again')"
   ]
  },
  {
   "cell_type": "code",
   "execution_count": 62,
   "metadata": {},
   "outputs": [],
   "source": [
    "L = [3,7,8,9,12,31]\n",
    "P = [5,6,10,13,25,30]\n",
    "\n",
    "K=[]\n",
    "\n",
    "num_L=0\n",
    "num_P=0\n",
    "\n",
    "for i in range(len(L)+len(P)):\n",
    "    if ((num_L<len(L)) and (num_P<len(P))):\n",
    "        if L[num_L]<P[num_P]:\n",
    "            K.append(L[num_L])\n",
    "            num_L+=1\n",
    "        else:\n",
    "            K.append(P[num_P])\n",
    "            num_P+=1\n",
    "    else:\n",
    "        K = K+L[num_L:]+P[num_P:]\n",
    "        break"
   ]
  },
  {
   "cell_type": "code",
   "execution_count": 63,
   "metadata": {
    "scrolled": true
   },
   "outputs": [
    {
     "data": {
      "text/plain": [
       "[3, 5, 6, 7, 8, 9, 10, 12, 13, 25, 30, 31]"
      ]
     },
     "execution_count": 63,
     "metadata": {},
     "output_type": "execute_result"
    }
   ],
   "source": [
    "K"
   ]
  },
  {
   "cell_type": "code",
   "execution_count": 98,
   "metadata": {},
   "outputs": [],
   "source": [
    "L = [1,1,1,2,2,3,3,1,1,4,5,5,5,6,7,7,8,9,9]\n",
    "\n",
    "s = ''\n",
    "K=[]\n",
    "\n",
    "for i in range(len(L)-1):\n",
    "    if L[i+1]==L[i]:\n",
    "        s+=f'{L[i]}'\n",
    "    else:\n",
    "        s+=f'{L[i]}'\n",
    "        K.append(list(s))\n",
    "        s=''\n",
    "    if i+1==len(L)-1:\n",
    "        s+=str(L[i+1])\n",
    "        K.append(list(s))"
   ]
  },
  {
   "cell_type": "code",
   "execution_count": 99,
   "metadata": {},
   "outputs": [
    {
     "data": {
      "text/plain": [
       "[['1', '1', '1'],\n",
       " ['2', '2'],\n",
       " ['3', '3'],\n",
       " ['1', '1'],\n",
       " ['4'],\n",
       " ['5', '5', '5'],\n",
       " ['6'],\n",
       " ['7', '7'],\n",
       " ['8'],\n",
       " ['9', '9']]"
      ]
     },
     "execution_count": 99,
     "metadata": {},
     "output_type": "execute_result"
    }
   ],
   "source": [
    "K"
   ]
  },
  {
   "cell_type": "code",
   "execution_count": null,
   "metadata": {},
   "outputs": [],
   "source": []
  }
 ],
 "metadata": {
  "kernelspec": {
   "display_name": "Python 3",
   "language": "python",
   "name": "python3"
  },
  "language_info": {
   "codemirror_mode": {
    "name": "ipython",
    "version": 3
   },
   "file_extension": ".py",
   "mimetype": "text/x-python",
   "name": "python",
   "nbconvert_exporter": "python",
   "pygments_lexer": "ipython3",
   "version": "3.7.6"
  }
 },
 "nbformat": 4,
 "nbformat_minor": 4
}
