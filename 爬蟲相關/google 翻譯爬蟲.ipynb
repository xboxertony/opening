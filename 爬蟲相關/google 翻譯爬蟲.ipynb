{
 "cells": [
  {
   "cell_type": "code",
   "execution_count": 6,
   "metadata": {},
   "outputs": [
    {
     "name": "stdout",
     "output_type": "stream",
     "text": [
      "請輸入翻譯內容:糖果\n",
      "\n",
      "翻譯結果:candy\n"
     ]
    }
   ],
   "source": [
    "import requests as rq\n",
    "\n",
    "content = input('請輸入翻譯內容:')\n",
    "\n",
    "def translate(content):\n",
    "    \n",
    "    result = ''\n",
    "    \n",
    "    if content != '':\n",
    "    \n",
    "        headers = {'User-Agent':'Mozilla/5.0 (Windows NT 6.2; Win64; x64) AppleWebKit/537.36 (KHTML, like Gecko) Chrome/77.0.3865.90 Safari/537.36'}\n",
    "\n",
    "        URL = 'http://translate.google.cn/translate_a/single?client=gtx&dt=t&ie=UTF-8&oe=UTF-8&sl=auto&tl=en&q='+content\n",
    "    \n",
    "        re = rq.get(URL,headers = headers)\n",
    "        re.encoding = 'utf_8_sig'\n",
    "\n",
    "        result = re.json()[0][0][0]\n",
    "    else:\n",
    "        pass\n",
    "\n",
    "    return '翻譯結果:'+result\n",
    "\n",
    "print('\\n'+translate(content))"
   ]
  },
  {
   "cell_type": "markdown",
   "metadata": {},
   "source": [
    "# 如何創建代理人(代理IP):\n",
    "\n",
    "參數是一個字典{'類型'：'代理ip'}\n",
    "\n",
    "訂製創建opener\n",
    "\n",
    "安裝opener\n",
    "\n",
    "主要是為了加快爬蟲速度，因為用time.sleep(5)會停很久"
   ]
  },
  {
   "cell_type": "markdown",
   "metadata": {},
   "source": [
    "# 自動爬蟲抓圖"
   ]
  },
  {
   "cell_type": "code",
   "execution_count": 2,
   "metadata": {},
   "outputs": [],
   "source": [
    "import urllib.request as request\n",
    "import pandas as pd\n",
    "from io import StringIO\n",
    "from bs4 import BeautifulSoup\n",
    "import requests as rq"
   ]
  },
  {
   "cell_type": "code",
   "execution_count": 3,
   "metadata": {},
   "outputs": [],
   "source": [
    "url ='https://kknews.cc/zh-tw/other/688rob3.html'\n",
    "headers = {'User-Agent':'Mozilla/5.0 (Windows NT 6.2; Win64; x64) AppleWebKit/537.36 (KHTML, like Gecko) Chrome/77.0.3865.90 Safari/537.36'}\n",
    "re = request.Request(url,headers = headers)\n",
    "req = request.urlopen(re)\n",
    "\n",
    "soup = BeautifulSoup(req,'html.parser')"
   ]
  },
  {
   "cell_type": "code",
   "execution_count": 116,
   "metadata": {},
   "outputs": [],
   "source": [
    "paragraph = soup.find_all('p')\n",
    "\n",
    "result=[]\n",
    "jpg=[]\n",
    "\n",
    "for p in paragraph:\n",
    "    if p.find('img'):\n",
    "        result.append(p.find('img'))\n",
    "for i in range(len(result)):\n",
    "    begin = str(result[i]).find('src')\n",
    "    end = str(result[i]).find('.jpg')\n",
    "    jpg.append(str(result[i])[begin+5:end+4])\n",
    "    \n",
    "n=0\n",
    "for i in jpg:\n",
    "    r = rq.get(i)\n",
    "    with open('%d.jpg' %n ,'wb') as f:\n",
    "        f.write(r.content)\n",
    "        f.close()\n",
    "    n+=1"
   ]
  },
  {
   "cell_type": "code",
   "execution_count": 13,
   "metadata": {},
   "outputs": [
    {
     "data": {
      "text/plain": [
       "<img data-src=\"https://i1.kknews.cc/SIG=3g5nvck/1018/7456470124.jpg\" height=\"317\" src=\"//a.kknews.cc/blank-ad4b0f60.gif\" width=\"500\"/>"
      ]
     },
     "execution_count": 13,
     "metadata": {},
     "output_type": "execute_result"
    }
   ],
   "source": [
    "paragraph = soup.find('img')\n",
    "paragraph"
   ]
  },
  {
   "cell_type": "code",
   "execution_count": null,
   "metadata": {},
   "outputs": [],
   "source": []
  }
 ],
 "metadata": {
  "kernelspec": {
   "display_name": "Python 3",
   "language": "python",
   "name": "python3"
  },
  "language_info": {
   "codemirror_mode": {
    "name": "ipython",
    "version": 3
   },
   "file_extension": ".py",
   "mimetype": "text/x-python",
   "name": "python",
   "nbconvert_exporter": "python",
   "pygments_lexer": "ipython3",
   "version": "3.7.3"
  }
 },
 "nbformat": 4,
 "nbformat_minor": 2
}
