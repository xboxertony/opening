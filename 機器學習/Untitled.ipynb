{
 "cells": [
  {
   "cell_type": "code",
   "execution_count": 1,
   "metadata": {},
   "outputs": [],
   "source": [
    "import numpy as np\n",
    "import matplotlib.pylab as plt\n",
    "import ruptures as rpt\n",
    "# creation of data\n",
    "n, dim = 500, 3  # number of samples, dimension\n",
    "n_bkps, sigma = 3, 5  # number of change points, noise standart deviation\n",
    "signal, bkps = rpt.pw_constant(n, dim, n_bkps, noise_std=sigma)"
   ]
  },
  {
   "cell_type": "code",
   "execution_count": 10,
   "metadata": {},
   "outputs": [
    {
     "data": {
      "text/plain": [
       "[array([-1.9267853 , -0.7428434 ,  2.94910524]),\n",
       " array([  4.75094636, -15.11786488,   3.00133176]),\n",
       " array([-4.0644995 , -5.35170327,  4.14565938]),\n",
       " array([-15.29729964,  -2.46739454,  -2.17870728])]"
      ]
     },
     "execution_count": 10,
     "metadata": {},
     "output_type": "execute_result"
    }
   ],
   "source": [
    "[signal[x-1] for x in bkps]"
   ]
  },
  {
   "cell_type": "code",
   "execution_count": 11,
   "metadata": {},
   "outputs": [
    {
     "name": "stdout",
     "output_type": "stream",
     "text": [
      "1381.3989158401002\n"
     ]
    }
   ],
   "source": [
    "c = rpt.costs.CostL1().fit(signal)\n",
    "print(c.error(50, 150))"
   ]
  },
  {
   "cell_type": "code",
   "execution_count": 12,
   "metadata": {},
   "outputs": [
    {
     "data": {
      "text/plain": [
       "<ruptures.costs.costl1.CostL1 at 0x15dec3438>"
      ]
     },
     "execution_count": 12,
     "metadata": {},
     "output_type": "execute_result"
    }
   ],
   "source": [
    "c"
   ]
  },
  {
   "cell_type": "code",
   "execution_count": 13,
   "metadata": {},
   "outputs": [
    {
     "name": "stdout",
     "output_type": "stream",
     "text": [
      "6083.9815326802545\n",
      "6684.169176730472\n"
     ]
    }
   ],
   "source": [
    "print(c.sum_of_costs(bkps))\n",
    "print(c.sum_of_costs([10, 100, 200, 250, n]))"
   ]
  },
  {
   "cell_type": "code",
   "execution_count": null,
   "metadata": {},
   "outputs": [],
   "source": []
  }
 ],
 "metadata": {
  "kernelspec": {
   "display_name": "Python 3",
   "language": "python",
   "name": "python3"
  },
  "language_info": {
   "codemirror_mode": {
    "name": "ipython",
    "version": 3
   },
   "file_extension": ".py",
   "mimetype": "text/x-python",
   "name": "python",
   "nbconvert_exporter": "python",
   "pygments_lexer": "ipython3",
   "version": "3.7.3"
  }
 },
 "nbformat": 4,
 "nbformat_minor": 2
}
