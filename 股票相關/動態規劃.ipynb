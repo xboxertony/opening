{
 "cells": [
  {
   "cell_type": "code",
   "execution_count": 3,
   "metadata": {},
   "outputs": [],
   "source": [
    "L = [-1]*1000\n",
    "L[0],L[1] = 1,1\n",
    "for t in range(2,1000):\n",
    "    L[t] = L[t-1]+L[t-2]"
   ]
  },
  {
   "cell_type": "code",
   "execution_count": 4,
   "metadata": {},
   "outputs": [],
   "source": [
    "def f(n):\n",
    "    if n<3:\n",
    "        return 1\n",
    "    else:\n",
    "        return f(n-1)+f(n-3)"
   ]
  },
  {
   "cell_type": "code",
   "execution_count": 5,
   "metadata": {},
   "outputs": [
    {
     "data": {
      "text/plain": [
       "4"
      ]
     },
     "execution_count": 5,
     "metadata": {},
     "output_type": "execute_result"
    }
   ],
   "source": [
    "f(5)"
   ]
  },
  {
   "cell_type": "code",
   "execution_count": 6,
   "metadata": {},
   "outputs": [
    {
     "data": {
      "text/plain": [
       "122106097"
      ]
     },
     "execution_count": 6,
     "metadata": {},
     "output_type": "execute_result"
    }
   ],
   "source": [
    "f(50)"
   ]
  },
  {
   "cell_type": "code",
   "execution_count": 14,
   "metadata": {},
   "outputs": [],
   "source": [
    "def f(n):\n",
    "    L=[-1]*(n+1)\n",
    "    L[0],L[1],L[2] = 1,1,1\n",
    "    for i in range (3,n+1):\n",
    "        L[i] = L[i-1]+L[i-3]\n",
    "    return L[-1]"
   ]
  },
  {
   "cell_type": "code",
   "execution_count": 15,
   "metadata": {},
   "outputs": [
    {
     "data": {
      "text/plain": [
       "122106097"
      ]
     },
     "execution_count": 15,
     "metadata": {},
     "output_type": "execute_result"
    }
   ],
   "source": [
    "f(50)"
   ]
  },
  {
   "cell_type": "code",
   "execution_count": 22,
   "metadata": {},
   "outputs": [],
   "source": [
    "import numpy as np\n",
    "def f(x,y):\n",
    "    Ans = np.ones((x+1,y+1))\n",
    "    for j in range(1,y+1):\n",
    "        Ans[0,j]=2\n",
    "    for i in range(1,x+1):\n",
    "        Ans[i,0]=3\n",
    "    for i in range(1,x+1):\n",
    "        for j in range(1,y+1):\n",
    "            Ans[i,j] = Ans[i-1,j]+Ans[i,j-1]\n",
    "    return Ans[-1,-1]"
   ]
  },
  {
   "cell_type": "code",
   "execution_count": 70,
   "metadata": {},
   "outputs": [],
   "source": [
    "price = [2,4,6,11,15]\n",
    "def buy(arr,index,remain):\n",
    "    if (remain==0):\n",
    "        for j in range(index):\n",
    "            print(arr[j],end = \"      \")\n",
    "        print(\"\")\n",
    "    if remain ==0:\n",
    "        return 1\n",
    "    if index >= len(price):\n",
    "        return 0\n",
    "    i,ans=0,0\n",
    "    while i*price[index]<=remain:\n",
    "        arr[index] = i\n",
    "        k = buy(arr,index+1,remain-i*price[index])\n",
    "        ans = ans + k\n",
    "        i+=1\n",
    "    return ans"
   ]
  },
  {
   "cell_type": "code",
   "execution_count": 72,
   "metadata": {},
   "outputs": [
    {
     "name": "stdout",
     "output_type": "stream",
     "text": [
      "0      0      0      0      1      \n",
      "0      1      0      1      \n",
      "2      0      0      1      \n"
     ]
    },
    {
     "data": {
      "text/plain": [
       "3"
      ]
     },
     "execution_count": 72,
     "metadata": {},
     "output_type": "execute_result"
    }
   ],
   "source": [
    "L=[0,0,0,0,0]\n",
    "buy(L,0,15)"
   ]
  },
  {
   "cell_type": "code",
   "execution_count": 1,
   "metadata": {},
   "outputs": [],
   "source": [
    "import numpy as np\n",
    "import math"
   ]
  },
  {
   "cell_type": "code",
   "execution_count": 69,
   "metadata": {},
   "outputs": [
    {
     "data": {
      "text/plain": [
       "([[2, 0, 0, 1, 0], [0, 1, 0, 1, 0], [0, 0, 0, 0, 1]], 3)"
      ]
     },
     "execution_count": 69,
     "metadata": {},
     "output_type": "execute_result"
    }
   ],
   "source": [
    "def coin_change(amount, coins):\n",
    "    dp = [0]*(amount+1)\n",
    "    result = [[] for i in range(amount+1)]\n",
    "    dp[0] = 1\n",
    "    jj=0\n",
    "\n",
    "    for coin in coins:\n",
    "        for i in range(coin, amount+1):\n",
    "            dp[i] += dp[i-coin]\n",
    "            if dp[i-coin]>=1:\n",
    "                if i-coin==0:\n",
    "                    gg = [0]*len(coins)\n",
    "                    for g in range(len(coins)):\n",
    "                        if g==jj:\n",
    "                            gg[g]+=1\n",
    "                            result[i].append(gg)\n",
    "                else:\n",
    "                    for j in range(len(result[i-coin])):\n",
    "                        k1 = result[i-coin][j].copy()\n",
    "                        for k in range(len(result[i-coin][j])):\n",
    "                            if k==jj:\n",
    "                                k1[k]+=1\n",
    "                                result[i].append(k1)\n",
    "        jj+=1\n",
    "    return result[-1],dp[amount]\n",
    "\n",
    "coin_change(15,[2,4,6,11,15])"
   ]
  },
  {
   "cell_type": "code",
   "execution_count": 48,
   "metadata": {},
   "outputs": [],
   "source": [
    "import numpy as np\n",
    "def bag(weight):\n",
    "    weight_l = [9,4,6,5]\n",
    "    price = [20,8,13,10]\n",
    "    dp = [0]*(weight+1)\n",
    "    result = [[0 for i in range(len(price))] for i in range(weight+1)]\n",
    "    \n",
    "    for i in range(0,weight+1):\n",
    "        k=[]\n",
    "        g=[]\n",
    "        for w in range(len(weight_l)):\n",
    "            if i-weight_l[w]>=0:\n",
    "                k.append(price[w]+dp[i-weight_l[w]])\n",
    "                g.append(result[i-weight_l[w]].copy())\n",
    "                g[-1][w]+=1\n",
    "            else:\n",
    "                k.append(0)\n",
    "                g.append([0 for i in range(len(price))])\n",
    "        dp[i]=max(np.array(k))\n",
    "        result[i] = g[np.argmax(np.array(k))]\n",
    "        \n",
    "    return result[-1],dp[-1]"
   ]
  },
  {
   "cell_type": "code",
   "execution_count": 52,
   "metadata": {},
   "outputs": [
    {
     "data": {
      "text/plain": [
       "([1, 0, 1, 1], 43)"
      ]
     },
     "execution_count": 52,
     "metadata": {},
     "output_type": "execute_result"
    }
   ],
   "source": [
    "bag(20)"
   ]
  }
 ],
 "metadata": {
  "kernelspec": {
   "display_name": "Python 3",
   "language": "python",
   "name": "python3"
  },
  "language_info": {
   "codemirror_mode": {
    "name": "ipython",
    "version": 3
   },
   "file_extension": ".py",
   "mimetype": "text/x-python",
   "name": "python",
   "nbconvert_exporter": "python",
   "pygments_lexer": "ipython3",
   "version": "3.7.3"
  }
 },
 "nbformat": 4,
 "nbformat_minor": 2
}
