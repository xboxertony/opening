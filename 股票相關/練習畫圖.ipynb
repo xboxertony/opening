{
 "cells": [
  {
   "cell_type": "code",
   "execution_count": 1,
   "metadata": {},
   "outputs": [],
   "source": [
    "import matplotlib.pyplot as plt"
   ]
  },
  {
   "cell_type": "code",
   "execution_count": 2,
   "metadata": {},
   "outputs": [],
   "source": [
    "import pandas as pd"
   ]
  },
  {
   "cell_type": "code",
   "execution_count": 3,
   "metadata": {},
   "outputs": [],
   "source": [
    "import numpy as np"
   ]
  },
  {
   "cell_type": "code",
   "execution_count": 4,
   "metadata": {},
   "outputs": [
    {
     "data": {
      "text/html": [
       "<div>\n",
       "<style scoped>\n",
       "    .dataframe tbody tr th:only-of-type {\n",
       "        vertical-align: middle;\n",
       "    }\n",
       "\n",
       "    .dataframe tbody tr th {\n",
       "        vertical-align: top;\n",
       "    }\n",
       "\n",
       "    .dataframe thead th {\n",
       "        text-align: right;\n",
       "    }\n",
       "</style>\n",
       "<table border=\"1\" class=\"dataframe\">\n",
       "  <thead>\n",
       "    <tr style=\"text-align: right;\">\n",
       "      <th></th>\n",
       "      <th>0</th>\n",
       "      <th>1</th>\n",
       "      <th>2</th>\n",
       "      <th>3</th>\n",
       "    </tr>\n",
       "  </thead>\n",
       "  <tbody>\n",
       "    <tr>\n",
       "      <th>0</th>\n",
       "      <td>0.103573</td>\n",
       "      <td>-0.720814</td>\n",
       "      <td>-0.482861</td>\n",
       "      <td>0.414827</td>\n",
       "    </tr>\n",
       "    <tr>\n",
       "      <th>1</th>\n",
       "      <td>0.268581</td>\n",
       "      <td>-2.086069</td>\n",
       "      <td>-0.848835</td>\n",
       "      <td>-0.026144</td>\n",
       "    </tr>\n",
       "    <tr>\n",
       "      <th>2</th>\n",
       "      <td>-0.987046</td>\n",
       "      <td>-0.592292</td>\n",
       "      <td>0.082451</td>\n",
       "      <td>0.184697</td>\n",
       "    </tr>\n",
       "    <tr>\n",
       "      <th>3</th>\n",
       "      <td>-1.244473</td>\n",
       "      <td>0.356244</td>\n",
       "      <td>-0.712528</td>\n",
       "      <td>0.746727</td>\n",
       "    </tr>\n",
       "    <tr>\n",
       "      <th>4</th>\n",
       "      <td>0.679310</td>\n",
       "      <td>0.948045</td>\n",
       "      <td>0.503827</td>\n",
       "      <td>1.513794</td>\n",
       "    </tr>\n",
       "    <tr>\n",
       "      <th>5</th>\n",
       "      <td>0.078263</td>\n",
       "      <td>0.842214</td>\n",
       "      <td>0.489952</td>\n",
       "      <td>0.803816</td>\n",
       "    </tr>\n",
       "  </tbody>\n",
       "</table>\n",
       "</div>"
      ],
      "text/plain": [
       "          0         1         2         3\n",
       "0  0.103573 -0.720814 -0.482861  0.414827\n",
       "1  0.268581 -2.086069 -0.848835 -0.026144\n",
       "2 -0.987046 -0.592292  0.082451  0.184697\n",
       "3 -1.244473  0.356244 -0.712528  0.746727\n",
       "4  0.679310  0.948045  0.503827  1.513794\n",
       "5  0.078263  0.842214  0.489952  0.803816"
      ]
     },
     "execution_count": 4,
     "metadata": {},
     "output_type": "execute_result"
    }
   ],
   "source": [
    "df = pd.DataFrame(np.random.randn(6,4))\n",
    "df"
   ]
  },
  {
   "cell_type": "code",
   "execution_count": 5,
   "metadata": {},
   "outputs": [],
   "source": [
    "df.rename(columns={1:'year',2:'papa'},inplace = True)"
   ]
  },
  {
   "cell_type": "code",
   "execution_count": 6,
   "metadata": {},
   "outputs": [
    {
     "data": {
      "text/html": [
       "<div>\n",
       "<style scoped>\n",
       "    .dataframe tbody tr th:only-of-type {\n",
       "        vertical-align: middle;\n",
       "    }\n",
       "\n",
       "    .dataframe tbody tr th {\n",
       "        vertical-align: top;\n",
       "    }\n",
       "\n",
       "    .dataframe thead th {\n",
       "        text-align: right;\n",
       "    }\n",
       "</style>\n",
       "<table border=\"1\" class=\"dataframe\">\n",
       "  <thead>\n",
       "    <tr style=\"text-align: right;\">\n",
       "      <th></th>\n",
       "      <th>0</th>\n",
       "      <th>year</th>\n",
       "      <th>papa</th>\n",
       "      <th>3</th>\n",
       "    </tr>\n",
       "  </thead>\n",
       "  <tbody>\n",
       "    <tr>\n",
       "      <th>0</th>\n",
       "      <td>0.103573</td>\n",
       "      <td>-0.720814</td>\n",
       "      <td>-0.482861</td>\n",
       "      <td>0.414827</td>\n",
       "    </tr>\n",
       "    <tr>\n",
       "      <th>1</th>\n",
       "      <td>0.268581</td>\n",
       "      <td>-2.086069</td>\n",
       "      <td>-0.848835</td>\n",
       "      <td>-0.026144</td>\n",
       "    </tr>\n",
       "    <tr>\n",
       "      <th>2</th>\n",
       "      <td>-0.987046</td>\n",
       "      <td>-0.592292</td>\n",
       "      <td>0.082451</td>\n",
       "      <td>0.184697</td>\n",
       "    </tr>\n",
       "    <tr>\n",
       "      <th>3</th>\n",
       "      <td>-1.244473</td>\n",
       "      <td>0.356244</td>\n",
       "      <td>-0.712528</td>\n",
       "      <td>0.746727</td>\n",
       "    </tr>\n",
       "    <tr>\n",
       "      <th>4</th>\n",
       "      <td>0.679310</td>\n",
       "      <td>0.948045</td>\n",
       "      <td>0.503827</td>\n",
       "      <td>1.513794</td>\n",
       "    </tr>\n",
       "    <tr>\n",
       "      <th>5</th>\n",
       "      <td>0.078263</td>\n",
       "      <td>0.842214</td>\n",
       "      <td>0.489952</td>\n",
       "      <td>0.803816</td>\n",
       "    </tr>\n",
       "  </tbody>\n",
       "</table>\n",
       "</div>"
      ],
      "text/plain": [
       "          0      year      papa         3\n",
       "0  0.103573 -0.720814 -0.482861  0.414827\n",
       "1  0.268581 -2.086069 -0.848835 -0.026144\n",
       "2 -0.987046 -0.592292  0.082451  0.184697\n",
       "3 -1.244473  0.356244 -0.712528  0.746727\n",
       "4  0.679310  0.948045  0.503827  1.513794\n",
       "5  0.078263  0.842214  0.489952  0.803816"
      ]
     },
     "execution_count": 6,
     "metadata": {},
     "output_type": "execute_result"
    }
   ],
   "source": [
    "df"
   ]
  },
  {
   "cell_type": "code",
   "execution_count": 7,
   "metadata": {},
   "outputs": [],
   "source": [
    "df.rename(index={3:'CC'},inplace=True)"
   ]
  },
  {
   "cell_type": "code",
   "execution_count": 8,
   "metadata": {},
   "outputs": [],
   "source": [
    "df.drop(columns = ['year'],index = ['CC'],inplace=True)"
   ]
  },
  {
   "cell_type": "code",
   "execution_count": 9,
   "metadata": {
    "scrolled": true
   },
   "outputs": [
    {
     "data": {
      "text/html": [
       "<div>\n",
       "<style scoped>\n",
       "    .dataframe tbody tr th:only-of-type {\n",
       "        vertical-align: middle;\n",
       "    }\n",
       "\n",
       "    .dataframe tbody tr th {\n",
       "        vertical-align: top;\n",
       "    }\n",
       "\n",
       "    .dataframe thead th {\n",
       "        text-align: right;\n",
       "    }\n",
       "</style>\n",
       "<table border=\"1\" class=\"dataframe\">\n",
       "  <thead>\n",
       "    <tr style=\"text-align: right;\">\n",
       "      <th></th>\n",
       "      <th>papa</th>\n",
       "    </tr>\n",
       "  </thead>\n",
       "  <tbody>\n",
       "    <tr>\n",
       "      <th>0</th>\n",
       "      <td>-0.482861</td>\n",
       "    </tr>\n",
       "    <tr>\n",
       "      <th>1</th>\n",
       "      <td>-0.848835</td>\n",
       "    </tr>\n",
       "    <tr>\n",
       "      <th>2</th>\n",
       "      <td>0.082451</td>\n",
       "    </tr>\n",
       "    <tr>\n",
       "      <th>4</th>\n",
       "      <td>0.503827</td>\n",
       "    </tr>\n",
       "  </tbody>\n",
       "</table>\n",
       "</div>"
      ],
      "text/plain": [
       "       papa\n",
       "0 -0.482861\n",
       "1 -0.848835\n",
       "2  0.082451\n",
       "4  0.503827"
      ]
     },
     "execution_count": 9,
     "metadata": {},
     "output_type": "execute_result"
    }
   ],
   "source": [
    "df.drop(columns=[0,3],index=[5])"
   ]
  },
  {
   "cell_type": "code",
   "execution_count": 10,
   "metadata": {},
   "outputs": [
    {
     "data": {
      "text/html": [
       "<div>\n",
       "<style scoped>\n",
       "    .dataframe tbody tr th:only-of-type {\n",
       "        vertical-align: middle;\n",
       "    }\n",
       "\n",
       "    .dataframe tbody tr th {\n",
       "        vertical-align: top;\n",
       "    }\n",
       "\n",
       "    .dataframe thead th {\n",
       "        text-align: right;\n",
       "    }\n",
       "</style>\n",
       "<table border=\"1\" class=\"dataframe\">\n",
       "  <thead>\n",
       "    <tr style=\"text-align: right;\">\n",
       "      <th></th>\n",
       "      <th>0</th>\n",
       "      <th>papa</th>\n",
       "      <th>3</th>\n",
       "    </tr>\n",
       "  </thead>\n",
       "  <tbody>\n",
       "    <tr>\n",
       "      <th>0</th>\n",
       "      <td>0.103573</td>\n",
       "      <td>-0.482861</td>\n",
       "      <td>0.414827</td>\n",
       "    </tr>\n",
       "    <tr>\n",
       "      <th>1</th>\n",
       "      <td>0.268581</td>\n",
       "      <td>-0.848835</td>\n",
       "      <td>-0.026144</td>\n",
       "    </tr>\n",
       "    <tr>\n",
       "      <th>2</th>\n",
       "      <td>-0.987046</td>\n",
       "      <td>0.082451</td>\n",
       "      <td>0.184697</td>\n",
       "    </tr>\n",
       "    <tr>\n",
       "      <th>4</th>\n",
       "      <td>0.679310</td>\n",
       "      <td>0.503827</td>\n",
       "      <td>1.513794</td>\n",
       "    </tr>\n",
       "    <tr>\n",
       "      <th>5</th>\n",
       "      <td>0.078263</td>\n",
       "      <td>0.489952</td>\n",
       "      <td>0.803816</td>\n",
       "    </tr>\n",
       "  </tbody>\n",
       "</table>\n",
       "</div>"
      ],
      "text/plain": [
       "          0      papa         3\n",
       "0  0.103573 -0.482861  0.414827\n",
       "1  0.268581 -0.848835 -0.026144\n",
       "2 -0.987046  0.082451  0.184697\n",
       "4  0.679310  0.503827  1.513794\n",
       "5  0.078263  0.489952  0.803816"
      ]
     },
     "execution_count": 10,
     "metadata": {},
     "output_type": "execute_result"
    }
   ],
   "source": [
    "df"
   ]
  },
  {
   "cell_type": "code",
   "execution_count": 67,
   "metadata": {},
   "outputs": [
    {
     "data": {
      "image/png": "[encoded data removed]",
      "text/plain": [
       "<Figure size 1080x360 with 2 Axes>"
      ]
     },
     "metadata": {
      "needs_background": "light"
     },
     "output_type": "display_data"
    }
   ],
   "source": [
    "import matplotlib.pyplot as plt\n",
    "import numpy as np\n",
    "\n",
    "x=np.linspace(5,20,100)\n",
    "# fig = plt.figure(figsize = (15,5))\n",
    "fig,ax1 = plt.subplots(figsize=(15,5))\n",
    "\n",
    "plt.xticks(fontsize=15,rotation=315)\n",
    "# plt.yticks(fontsize=15)\n",
    "\n",
    "plt.xlabel('CC',fontsize = 17)\n",
    "\n",
    "ax2 = ax1.twinx()\n",
    "\n",
    "\n",
    "\n",
    "k1, = ax1.plot(x,np.sin(x)+5,linewidth=2,label = 'what',color='b')\n",
    "\n",
    "ax1.tick_params(axis='y',labelsize=15,labelcolor='r')\n",
    "\n",
    "k2, = ax2.plot(x,np.cos(x)+20,'+',markersize=10,label = 'what the fuck',color='r')\n",
    "\n",
    "ax2.tick_params(axis='y',labelsize=15,labelcolor='r')\n",
    "\n",
    "plt.legend(handles=[k1,k2],loc='upper right')\n",
    "\n",
    "#kk.yticks(fontsize=15)\n",
    "\n",
    "# ax1.legend(loc='upper left')\n",
    "# ax2.legend(loc='upper right')\n",
    "\n",
    "plt.show()"
   ]
  },
  {
   "cell_type": "code",
   "execution_count": null,
   "metadata": {},
   "outputs": [],
   "source": []
  }
 ],
 "metadata": {
  "kernelspec": {
   "display_name": "Python 3",
   "language": "python",
   "name": "python3"
  },
  "language_info": {
   "codemirror_mode": {
    "name": "ipython",
    "version": 3
   },
   "file_extension": ".py",
   "mimetype": "text/x-python",
   "name": "python",
   "nbconvert_exporter": "python",
   "pygments_lexer": "ipython3",
   "version": "3.7.3"
  }
 },
 "nbformat": 4,
 "nbformat_minor": 2
}
