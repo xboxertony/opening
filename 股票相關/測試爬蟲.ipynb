{
 "cells": [
  {
   "cell_type": "code",
   "execution_count": 28,
   "metadata": {},
   "outputs": [
    {
     "name": "stdout",
     "output_type": "stream",
     "text": [
      "             證券名稱     收盤價\n",
      "證券代號                     \n",
      "0050       元大台灣50   84.60\n",
      "0051      元大中型100   34.06\n",
      "0052         富邦科技   59.90\n",
      "0053         元大電子   37.47\n",
      "0054       元大台商50   22.98\n",
      "0055     元大MSCI金融   18.70\n",
      "0056        元大高股息   27.88\n",
      "0057         富邦摩台   54.00\n",
      "0058         富邦發達   46.73\n",
      "0059         富邦金融   47.16\n",
      "0061        元大寶滬深   17.88\n",
      "006203   元大MSCI台灣   39.65\n",
      "006204     永豐臺灣加權   55.70\n",
      "006205       富邦上証   30.82\n",
      "006206     元大上證50   32.60\n",
      "006207       FH滬深   23.12\n",
      "006208      富邦台50   47.76\n",
      "00625K     富邦上証+R    7.13\n",
      "00631L   元大台灣50正2   42.18\n",
      "00632R   元大台灣50反1   11.22\n",
      "00633L     富邦上証正2   47.32\n",
      "00634R     富邦上証反1    6.00\n",
      "00635U    元大S&P黃金   21.93\n",
      "00636     國泰中國A50   21.44\n",
      "00636K  國泰中國A50+U    6.90\n",
      "00637L  元大滬深300正2   18.12\n",
      "00638R  元大滬深300反1   12.10\n",
      "00639      富邦深100   10.37\n",
      "00640L     富邦日本正2   19.50\n",
      "00641R     富邦日本反1   14.81\n",
      "...           ...     ...\n",
      "9912           偉聯    9.10\n",
      "9914          美利達  176.50\n",
      "9917           中保   88.00\n",
      "9918          欣天然   33.80\n",
      "9919          康那香   10.30\n",
      "9921           巨大  211.00\n",
      "9924           福興   44.05\n",
      "9925           新保   37.50\n",
      "9926           新海   41.05\n",
      "9927           泰銘   31.10\n",
      "9928           中視    4.85\n",
      "9929           秋雨   13.85\n",
      "9930         中聯資源   51.00\n",
      "9931           欣高   35.50\n",
      "9933           中鼎   41.70\n",
      "9934           成霖   16.55\n",
      "9935          慶豐富   32.60\n",
      "9937           全國   40.95\n",
      "9938           百和   77.40\n",
      "9939           宏全   55.30\n",
      "9940           信義   31.50\n",
      "9941           裕融  111.50\n",
      "9941A        裕融甲特   54.20\n",
      "9942           茂順   70.00\n",
      "9943          好樂迪   66.00\n",
      "9944           新麗   17.30\n",
      "9945          潤泰新   41.50\n",
      "9946         三發地產   22.85\n",
      "9955           佳龍   19.30\n",
      "9958          世紀鋼   73.90\n",
      "\n",
      "[1101 rows x 2 columns]\n"
     ]
    }
   ],
   "source": [
    "import requests as rq\n",
    "import pandas as pd\n",
    "from io import StringIO\n",
    "\n",
    "url = 'https://www.twse.com.tw/exchangeReport/MI_INDEX?response=csv&date=20190927&type=ALLBUT0999'\n",
    "data = rq.get(url)\n",
    "df = data.text[data.text.find(\"證券代號\"):]\n",
    "df = pd.read_csv(StringIO(df.replace('=','').replace('號\"','號'))).set_index('證券代號')\n",
    "df = df[['證券名稱','收盤價']]\n",
    "print(df)"
   ]
  },
  {
   "cell_type": "code",
   "execution_count": null,
   "metadata": {},
   "outputs": [],
   "source": []
  }
 ],
 "metadata": {
  "kernelspec": {
   "display_name": "Python 3",
   "language": "python",
   "name": "python3"
  },
  "language_info": {
   "codemirror_mode": {
    "name": "ipython",
    "version": 3
   },
   "file_extension": ".py",
   "mimetype": "text/x-python",
   "name": "python",
   "nbconvert_exporter": "python",
   "pygments_lexer": "ipython3",
   "version": "3.7.3"
  }
 },
 "nbformat": 4,
 "nbformat_minor": 2
}
