{
 "cells": [
  {
   "cell_type": "code",
   "execution_count": 6,
   "metadata": {},
   "outputs": [
    {
     "ename": "ValueError",
     "evalue": "True is not in list",
     "output_type": "error",
     "traceback": [
      "\u001b[1;31m---------------------------------------------------------------------------\u001b[0m",
      "\u001b[1;31mValueError\u001b[0m                                Traceback (most recent call last)",
      "\u001b[1;32m<ipython-input-6-73b5492f147e>\u001b[0m in \u001b[0;36m<module>\u001b[1;34m\u001b[0m\n\u001b[0;32m      3\u001b[0m \u001b[0mURL\u001b[0m \u001b[1;33m=\u001b[0m \u001b[1;34m'https://www.taifex.com.tw/cht/3/pcRatio'\u001b[0m\u001b[1;33m\u001b[0m\u001b[1;33m\u001b[0m\u001b[0m\n\u001b[0;32m      4\u001b[0m \u001b[1;33m\u001b[0m\u001b[0m\n\u001b[1;32m----> 5\u001b[1;33m \u001b[0mr\u001b[0m \u001b[1;33m=\u001b[0m \u001b[0mrequests\u001b[0m\u001b[1;33m.\u001b[0m\u001b[0mget\u001b[0m\u001b[1;33m(\u001b[0m\u001b[0mURL\u001b[0m\u001b[1;33m,\u001b[0m\u001b[0mheader\u001b[0m\u001b[1;33m=\u001b[0m\u001b[1;33m[\u001b[0m\u001b[1;34m\"日期\"\u001b[0m \u001b[1;32min\u001b[0m \u001b[0ml\u001b[0m \u001b[1;32mfor\u001b[0m \u001b[0ml\u001b[0m \u001b[1;32min\u001b[0m \u001b[0mr\u001b[0m\u001b[1;33m.\u001b[0m\u001b[0mtext\u001b[0m\u001b[1;33m]\u001b[0m\u001b[1;33m.\u001b[0m\u001b[0mindex\u001b[0m\u001b[1;33m(\u001b[0m\u001b[1;32mTrue\u001b[0m\u001b[1;33m)\u001b[0m\u001b[1;33m)\u001b[0m\u001b[1;33m\u001b[0m\u001b[1;33m\u001b[0m\u001b[0m\n\u001b[0m\u001b[0;32m      6\u001b[0m \u001b[1;33m\u001b[0m\u001b[0m\n\u001b[0;32m      7\u001b[0m \u001b[1;31m#file=['日期' in l for l in r.text].index(True)\u001b[0m\u001b[1;33m\u001b[0m\u001b[1;33m\u001b[0m\u001b[1;33m\u001b[0m\u001b[0m\n",
      "\u001b[1;31mValueError\u001b[0m: True is not in list"
     ]
    }
   ],
   "source": [
    "import requests\n",
    "\n",
    "URL = 'https://www.taifex.com.tw/cht/3/pcRatio'\n",
    "\n",
    "r = requests.get(URL)\n",
    "\n",
    "print(r.text)"
   ]
  },
  {
   "cell_type": "code",
   "execution_count": 15,
   "metadata": {},
   "outputs": [],
   "source": [
    "from bs4 import BeautifulSoup"
   ]
  },
  {
   "cell_type": "code",
   "execution_count": 16,
   "metadata": {},
   "outputs": [],
   "source": [
    "soup = BeautifulSoup(r.text, 'html.parser')"
   ]
  },
  {
   "cell_type": "code",
   "execution_count": 86,
   "metadata": {},
   "outputs": [],
   "source": [
    "K = [i for i in soup.find_all('tr')[6].find_all('tr')]"
   ]
  },
  {
   "cell_type": "code",
   "execution_count": 143,
   "metadata": {},
   "outputs": [],
   "source": [
    "import pandas as pd\n",
    "Matrix = pd.DataFrame(np.ones((len(K)-1,6)))\n",
    "for i in range(len(K)-1):\n",
    "    index = 0\n",
    "    for j in K[i+1].find_all('td',align=\"center\"):\n",
    "        if index!=0:\n",
    "            Matrix.iloc[i,index-1] = j.string.split('\\t')[-1]\n",
    "        index+=1"
   ]
  },
  {
   "cell_type": "code",
   "execution_count": 107,
   "metadata": {},
   "outputs": [],
   "source": [
    "import pandas as pd\n",
    "import numpy as np"
   ]
  },
  {
   "cell_type": "code",
   "execution_count": 114,
   "metadata": {},
   "outputs": [
    {
     "data": {
      "text/plain": [
       "['2020/2/25', '748,678', '611,861', '122.36', '459,130', '327,185', '140.33']"
      ]
     },
     "execution_count": 114,
     "metadata": {},
     "output_type": "execute_result"
    }
   ],
   "source": [
    "[i.string.split('\\t')[-1] for i in K[5].find_all('td',align=\"center\")]"
   ]
  },
  {
   "cell_type": "code",
   "execution_count": 185,
   "metadata": {
    "scrolled": true
   },
   "outputs": [
    {
     "data": {
      "text/html": [
       "<div>\n",
       "<style scoped>\n",
       "    .dataframe tbody tr th:only-of-type {\n",
       "        vertical-align: middle;\n",
       "    }\n",
       "\n",
       "    .dataframe tbody tr th {\n",
       "        vertical-align: top;\n",
       "    }\n",
       "\n",
       "    .dataframe thead th {\n",
       "        text-align: right;\n",
       "    }\n",
       "</style>\n",
       "<table border=\"1\" class=\"dataframe\">\n",
       "  <thead>\n",
       "    <tr style=\"text-align: right;\">\n",
       "      <th></th>\n",
       "      <th>賣權成交量</th>\n",
       "      <th>買權成交量</th>\n",
       "      <th>買賣權成交量比率%</th>\n",
       "      <th>賣權未平倉量</th>\n",
       "      <th>買權未平倉量</th>\n",
       "      <th>買賣權未平倉量比率%</th>\n",
       "    </tr>\n",
       "  </thead>\n",
       "  <tbody>\n",
       "    <tr>\n",
       "      <th>2020/3/3</th>\n",
       "      <td>626,842</td>\n",
       "      <td>639,462</td>\n",
       "      <td>98.03</td>\n",
       "      <td>506,292</td>\n",
       "      <td>373,077</td>\n",
       "      <td>135.71</td>\n",
       "    </tr>\n",
       "    <tr>\n",
       "      <th>2020/3/2</th>\n",
       "      <td>617,210</td>\n",
       "      <td>584,567</td>\n",
       "      <td>105.58</td>\n",
       "      <td>454,378</td>\n",
       "      <td>353,424</td>\n",
       "      <td>128.56</td>\n",
       "    </tr>\n",
       "    <tr>\n",
       "      <th>2020/2/27</th>\n",
       "      <td>502,340</td>\n",
       "      <td>453,435</td>\n",
       "      <td>110.79</td>\n",
       "      <td>407,701</td>\n",
       "      <td>284,916</td>\n",
       "      <td>143.10</td>\n",
       "    </tr>\n",
       "    <tr>\n",
       "      <th>2020/2/26</th>\n",
       "      <td>957,387</td>\n",
       "      <td>804,123</td>\n",
       "      <td>119.06</td>\n",
       "      <td>333,288</td>\n",
       "      <td>193,558</td>\n",
       "      <td>172.19</td>\n",
       "    </tr>\n",
       "    <tr>\n",
       "      <th>2020/2/25</th>\n",
       "      <td>748,678</td>\n",
       "      <td>611,861</td>\n",
       "      <td>122.36</td>\n",
       "      <td>459,130</td>\n",
       "      <td>327,185</td>\n",
       "      <td>140.33</td>\n",
       "    </tr>\n",
       "    <tr>\n",
       "      <th>2020/2/24</th>\n",
       "      <td>480,336</td>\n",
       "      <td>426,986</td>\n",
       "      <td>112.49</td>\n",
       "      <td>413,261</td>\n",
       "      <td>299,703</td>\n",
       "      <td>137.89</td>\n",
       "    </tr>\n",
       "    <tr>\n",
       "      <th>2020/2/21</th>\n",
       "      <td>399,906</td>\n",
       "      <td>360,692</td>\n",
       "      <td>110.87</td>\n",
       "      <td>384,755</td>\n",
       "      <td>240,611</td>\n",
       "      <td>159.91</td>\n",
       "    </tr>\n",
       "    <tr>\n",
       "      <th>2020/2/20</th>\n",
       "      <td>327,977</td>\n",
       "      <td>319,024</td>\n",
       "      <td>102.81</td>\n",
       "      <td>332,944</td>\n",
       "      <td>204,119</td>\n",
       "      <td>163.11</td>\n",
       "    </tr>\n",
       "    <tr>\n",
       "      <th>2020/2/19</th>\n",
       "      <td>736,411</td>\n",
       "      <td>709,911</td>\n",
       "      <td>103.73</td>\n",
       "      <td>255,122</td>\n",
       "      <td>138,577</td>\n",
       "      <td>184.10</td>\n",
       "    </tr>\n",
       "    <tr>\n",
       "      <th>2020/2/18</th>\n",
       "      <td>524,546</td>\n",
       "      <td>506,021</td>\n",
       "      <td>103.66</td>\n",
       "      <td>509,146</td>\n",
       "      <td>408,308</td>\n",
       "      <td>124.70</td>\n",
       "    </tr>\n",
       "    <tr>\n",
       "      <th>2020/2/17</th>\n",
       "      <td>369,312</td>\n",
       "      <td>343,192</td>\n",
       "      <td>107.61</td>\n",
       "      <td>511,537</td>\n",
       "      <td>353,810</td>\n",
       "      <td>144.58</td>\n",
       "    </tr>\n",
       "    <tr>\n",
       "      <th>2020/2/14</th>\n",
       "      <td>373,738</td>\n",
       "      <td>303,634</td>\n",
       "      <td>123.09</td>\n",
       "      <td>498,267</td>\n",
       "      <td>319,230</td>\n",
       "      <td>156.08</td>\n",
       "    </tr>\n",
       "    <tr>\n",
       "      <th>2020/2/13</th>\n",
       "      <td>328,202</td>\n",
       "      <td>294,257</td>\n",
       "      <td>111.54</td>\n",
       "      <td>475,097</td>\n",
       "      <td>293,571</td>\n",
       "      <td>161.83</td>\n",
       "    </tr>\n",
       "    <tr>\n",
       "      <th>2020/2/12</th>\n",
       "      <td>656,366</td>\n",
       "      <td>569,082</td>\n",
       "      <td>115.34</td>\n",
       "      <td>396,846</td>\n",
       "      <td>256,246</td>\n",
       "      <td>154.87</td>\n",
       "    </tr>\n",
       "    <tr>\n",
       "      <th>2020/2/11</th>\n",
       "      <td>448,976</td>\n",
       "      <td>364,259</td>\n",
       "      <td>123.26</td>\n",
       "      <td>505,735</td>\n",
       "      <td>379,732</td>\n",
       "      <td>133.18</td>\n",
       "    </tr>\n",
       "    <tr>\n",
       "      <th>2020/2/10</th>\n",
       "      <td>539,445</td>\n",
       "      <td>486,241</td>\n",
       "      <td>110.94</td>\n",
       "      <td>476,745</td>\n",
       "      <td>367,483</td>\n",
       "      <td>129.73</td>\n",
       "    </tr>\n",
       "    <tr>\n",
       "      <th>2020/2/7</th>\n",
       "      <td>362,062</td>\n",
       "      <td>325,295</td>\n",
       "      <td>111.30</td>\n",
       "      <td>435,314</td>\n",
       "      <td>328,901</td>\n",
       "      <td>132.35</td>\n",
       "    </tr>\n",
       "    <tr>\n",
       "      <th>2020/2/6</th>\n",
       "      <td>418,677</td>\n",
       "      <td>382,226</td>\n",
       "      <td>109.54</td>\n",
       "      <td>398,362</td>\n",
       "      <td>277,864</td>\n",
       "      <td>143.37</td>\n",
       "    </tr>\n",
       "    <tr>\n",
       "      <th>2020/2/5</th>\n",
       "      <td>827,144</td>\n",
       "      <td>818,048</td>\n",
       "      <td>101.11</td>\n",
       "      <td>310,689</td>\n",
       "      <td>241,968</td>\n",
       "      <td>128.40</td>\n",
       "    </tr>\n",
       "    <tr>\n",
       "      <th>2020/2/4</th>\n",
       "      <td>565,363</td>\n",
       "      <td>536,058</td>\n",
       "      <td>105.47</td>\n",
       "      <td>420,618</td>\n",
       "      <td>356,092</td>\n",
       "      <td>118.12</td>\n",
       "    </tr>\n",
       "    <tr>\n",
       "      <th>2020/2/3</th>\n",
       "      <td>638,723</td>\n",
       "      <td>598,005</td>\n",
       "      <td>106.81</td>\n",
       "      <td>360,434</td>\n",
       "      <td>370,142</td>\n",
       "      <td>97.38</td>\n",
       "    </tr>\n",
       "  </tbody>\n",
       "</table>\n",
       "</div>"
      ],
      "text/plain": [
       "             賣權成交量    買權成交量 買賣權成交量比率%   賣權未平倉量   買權未平倉量 買賣權未平倉量比率%\n",
       "2020/3/3   626,842  639,462     98.03  506,292  373,077     135.71\n",
       "2020/3/2   617,210  584,567    105.58  454,378  353,424     128.56\n",
       "2020/2/27  502,340  453,435    110.79  407,701  284,916     143.10\n",
       "2020/2/26  957,387  804,123    119.06  333,288  193,558     172.19\n",
       "2020/2/25  748,678  611,861    122.36  459,130  327,185     140.33\n",
       "2020/2/24  480,336  426,986    112.49  413,261  299,703     137.89\n",
       "2020/2/21  399,906  360,692    110.87  384,755  240,611     159.91\n",
       "2020/2/20  327,977  319,024    102.81  332,944  204,119     163.11\n",
       "2020/2/19  736,411  709,911    103.73  255,122  138,577     184.10\n",
       "2020/2/18  524,546  506,021    103.66  509,146  408,308     124.70\n",
       "2020/2/17  369,312  343,192    107.61  511,537  353,810     144.58\n",
       "2020/2/14  373,738  303,634    123.09  498,267  319,230     156.08\n",
       "2020/2/13  328,202  294,257    111.54  475,097  293,571     161.83\n",
       "2020/2/12  656,366  569,082    115.34  396,846  256,246     154.87\n",
       "2020/2/11  448,976  364,259    123.26  505,735  379,732     133.18\n",
       "2020/2/10  539,445  486,241    110.94  476,745  367,483     129.73\n",
       "2020/2/7   362,062  325,295    111.30  435,314  328,901     132.35\n",
       "2020/2/6   418,677  382,226    109.54  398,362  277,864     143.37\n",
       "2020/2/5   827,144  818,048    101.11  310,689  241,968     128.40\n",
       "2020/2/4   565,363  536,058    105.47  420,618  356,092     118.12\n",
       "2020/2/3   638,723  598,005    106.81  360,434  370,142      97.38"
      ]
     },
     "execution_count": 185,
     "metadata": {},
     "output_type": "execute_result"
    }
   ],
   "source": [
    "Matrix.columns = [i.string for i in K[0].find_all('th')][1:]\n",
    "Matrix.index = [K[i].find_all('td')[0].string for i in range(1,len(K))]\n",
    "Matrix"
   ]
  },
  {
   "cell_type": "code",
   "execution_count": 236,
   "metadata": {},
   "outputs": [
    {
     "name": "stdout",
     "output_type": "stream",
     "text": [
      "Fails at 20200301\n",
      "Fails at 20200229\n",
      "Fails at 20200228\n",
      "Fails at 20200223\n",
      "Fails at 20200222\n",
      "Fails at 20200216\n",
      "Fails at 20200215\n",
      "Fails at 20200209\n",
      "Fails at 20200208\n"
     ]
    }
   ],
   "source": [
    "from io import StringIO\n",
    "import datetime\n",
    "import time\n",
    "date = datetime.datetime.now()\n",
    "\n",
    "def transfer_date(datestr):\n",
    "    datestr = str(datestr).split(' ')[0].replace('-','')\n",
    "    return datestr\n",
    "L=[]\n",
    "date_index=0\n",
    "dataspan = len(Matrix.index)\n",
    "\n",
    "while len(L)<dataspan:\n",
    "    time.sleep(5)\n",
    "    now_date = transfer_date(date-datetime.timedelta(days=date_index))\n",
    "    \n",
    "    try:\n",
    "        URL1 = 'https://www.twse.com.tw/exchangeReport/MI_INDEX?response=csv&date='+now_date+'&type=ALL'\n",
    "        r1 = requests.post(URL1)\n",
    "        L.append([t[13:22] for t in r1.text.split('\\r\\n') if \"發行量加權股價指數\" in t][0])\n",
    "    except:\n",
    "        print('Fails at'+' '+str(transfer_date(now_date)))\n",
    "    \n",
    "    date_index+=1"
   ]
  },
  {
   "cell_type": "code",
   "execution_count": 238,
   "metadata": {},
   "outputs": [],
   "source": [
    "Matrix['大盤指數'] = L"
   ]
  },
  {
   "cell_type": "code",
   "execution_count": 257,
   "metadata": {},
   "outputs": [],
   "source": [
    "for i in range(len(Matrix.index)):\n",
    "    Matrix.iloc[:,0][i] = Matrix.iloc[:,0][i].split(',')[0]+Matrix.iloc[:,0][i].split(',')[1]\n",
    "    Matrix.iloc[:,1][i] = Matrix.iloc[:,1][i].split(',')[0]+Matrix.iloc[:,1][i].split(',')[1]\n",
    "    Matrix.iloc[:,3][i] = Matrix.iloc[:,3][i].split(',')[0]+Matrix.iloc[:,3][i].split(',')[1]\n",
    "    Matrix.iloc[:,4][i] = Matrix.iloc[:,4][i].split(',')[0]+Matrix.iloc[:,4][i].split(',')[1]\n",
    "    Matrix.iloc[:,6][i] = Matrix.iloc[:,6][i].split(',')[0]+Matrix.iloc[:,6][i].split(',')[1]"
   ]
  },
  {
   "cell_type": "code",
   "execution_count": 282,
   "metadata": {},
   "outputs": [],
   "source": [
    "for i in range(7):\n",
    "    Matrix.iloc[:,i] = pd.to_numeric(Matrix.iloc[:,i])"
   ]
  },
  {
   "cell_type": "code",
   "execution_count": 285,
   "metadata": {},
   "outputs": [],
   "source": [
    "Matrix = Matrix.iloc[::-1]"
   ]
  },
  {
   "cell_type": "code",
   "execution_count": 310,
   "metadata": {},
   "outputs": [
    {
     "data": {
      "image/png": "[encoded data removed]",
      "text/plain": [
       "<Figure size 1080x360 with 2 Axes>"
      ]
     },
     "metadata": {
      "needs_background": "light"
     },
     "output_type": "display_data"
    }
   ],
   "source": [
    "# import numpy as np\n",
    "\n",
    "# x = np.arange(0,10,0.1)\n",
    "# y1=0.05*x**2\n",
    "# y2=-1*y1\n",
    "\n",
    "import matplotlib.pyplot as plt\n",
    "\n",
    "fig,ax1 = plt.subplots(figsize=(15,5))\n",
    "\n",
    "plt.xticks(rotation=45) \n",
    "\n",
    "ax2 = ax1.twinx()\n",
    "ax1, = ax1.plot(Matrix.index,Matrix.iloc[:,-2],'g')\n",
    "ax2, = ax2.plot(Matrix.index,Matrix.iloc[:,-1],'b')\n",
    "\n",
    "plt.legend([ax1,ax2],['Open position','stock index'],loc='best')\n",
    "\n",
    "plt.show()"
   ]
  },
  {
   "cell_type": "code",
   "execution_count": null,
   "metadata": {},
   "outputs": [],
   "source": []
  }
 ],
 "metadata": {
  "kernelspec": {
   "display_name": "Python 3",
   "language": "python",
   "name": "python3"
  },
  "language_info": {
   "codemirror_mode": {
    "name": "ipython",
    "version": 3
   },
   "file_extension": ".py",
   "mimetype": "text/x-python",
   "name": "python",
   "nbconvert_exporter": "python",
   "pygments_lexer": "ipython3",
   "version": "3.7.3"
  }
 },
 "nbformat": 4,
 "nbformat_minor": 2
}
