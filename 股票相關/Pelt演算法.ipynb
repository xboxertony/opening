{
 "cells": [
  {
   "cell_type": "code",
   "execution_count": 9,
   "metadata": {},
   "outputs": [],
   "source": [
    "import numpy as np\n",
    "yt = [0,1,2,3,4,5,99,100,101,102,103,104,105]"
   ]
  },
  {
   "cell_type": "code",
   "execution_count": 10,
   "metadata": {},
   "outputs": [],
   "source": [
    "def cost(L,a,b):\n",
    "    if (b-a)!=0:\n",
    "        mean_value = sum([L[t] for t in range(a,b)])/(b-a)\n",
    "    else:\n",
    "        mean_value = sum([L[t] for t in range(a,b)]) \n",
    "    total_value = sum([(L[t]-mean_value)**2 for t in range(a+1,b)])\n",
    "    return total_value"
   ]
  },
  {
   "cell_type": "code",
   "execution_count": 11,
   "metadata": {},
   "outputs": [],
   "source": [
    "def Pelt(yt):\n",
    "    Z = np.array([0]*(len(yt)+1))\n",
    "    Z[0] = -10\n",
    "    L = [set()]\n",
    "    X = [0]\n",
    "    T = len(yt)\n",
    "        \n",
    "    for t in range(1,T+1):\n",
    "        best_t = X[np.argmin([Z[s]+cost(yt,s,t)+10 for s in X])]\n",
    "        Z[t] = Z[best_t]+cost(yt,best_t,t)+10\n",
    "        K = L[best_t].copy()\n",
    "        K.add(best_t)\n",
    "        L.append(K)\n",
    "        X_copy = [s for s in X if (Z[s]+cost(yt,s,t))<=Z[t]]\n",
    "        X_copy.append(t)\n",
    "        X = X_copy.copy()\n",
    "    return L[-1]"
   ]
  },
  {
   "cell_type": "code",
   "execution_count": 12,
   "metadata": {},
   "outputs": [
    {
     "data": {
      "text/plain": [
       "{0, 6, 10}"
      ]
     },
     "execution_count": 12,
     "metadata": {},
     "output_type": "execute_result"
    }
   ],
   "source": [
    "Pelt(yt)"
   ]
  },
  {
   "cell_type": "code",
   "execution_count": null,
   "metadata": {},
   "outputs": [],
   "source": []
  }
 ],
 "metadata": {
  "kernelspec": {
   "display_name": "Python 3",
   "language": "python",
   "name": "python3"
  },
  "language_info": {
   "codemirror_mode": {
    "name": "ipython",
    "version": 3
   },
   "file_extension": ".py",
   "mimetype": "text/x-python",
   "name": "python",
   "nbconvert_exporter": "python",
   "pygments_lexer": "ipython3",
   "version": "3.7.3"
  }
 },
 "nbformat": 4,
 "nbformat_minor": 2
}
