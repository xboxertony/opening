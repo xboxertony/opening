{
 "cells": [
  {
   "cell_type": "code",
   "execution_count": 1,
   "metadata": {},
   "outputs": [],
   "source": [
    "import requests as req\n",
    "from bs4 import BeautifulSoup"
   ]
  },
  {
   "cell_type": "code",
   "execution_count": 2,
   "metadata": {},
   "outputs": [],
   "source": [
    "l='0050'\n",
    "def crawl(l):\n",
    "    url = 'https://goodinfo.tw/StockInfo/StockDividendSchedule.asp?STOCK_ID='+l\n",
    "    headers = {'User-Agent':'Mozilla/5.0 (Windows NT 6.2; Win64; x64) AppleWebKit/537.36 (KHTML, like Gecko) Chrome/79.0.3945.130 Safari/537.36'}\n",
    "    r = req.post(url,headers = headers)\n",
    "    r.encoding = 'utf_8_sig'\n",
    "    return r.text\n",
    "\n",
    "context = crawl(l)"
   ]
  },
  {
   "cell_type": "code",
   "execution_count": 3,
   "metadata": {},
   "outputs": [
    {
     "name": "stdout",
     "output_type": "stream",
     "text": [
      "[2020, 2019, 2019, 2018, 2018, 2017, 2017, 2016, 2015, 2014, 2013, 2012, 2011, 2010, 2009, 2008, 2007, 2006]\n",
      "[89.25, 82.0, 74.2, 83.95, 85.3, 81.4, 71.6, 68.85, 63.9, 63.5, 57.35, 51.05, 51.65, 54.9, 52.7, 33.51, 68.1, 53.4]\n",
      "[2.9, 0.7, 2.3, 0.7, 2.2, 0.7, 1.7, 0.85, 2.0, 1.55, 1.35, 1.85, 1.95, 2.2, 1.0, 2.0, 2.5, 4.0]\n"
     ]
    }
   ],
   "source": [
    "soup = BeautifulSoup(context,'html.parser')\n",
    "year=[]\n",
    "price_before_dividend=[]\n",
    "dividend=[]\n",
    "for i in range(18):\n",
    "    try:\n",
    "        year+=[int(k) for k in soup.find_all('table')[17].find_all('td')[24+19*i]]\n",
    "        price_before_dividend+=[float(k) for k in soup.find_all('table')[17].find_all('td')[28+19*i]]\n",
    "        dividend+=[float(k) for k in soup.find_all('table')[17].find_all('td')[36+19*i]]\n",
    "    except:\n",
    "        pass\n",
    "print(year)\n",
    "print(price_before_dividend)\n",
    "print(dividend)"
   ]
  },
  {
   "cell_type": "code",
   "execution_count": 4,
   "metadata": {},
   "outputs": [],
   "source": [
    "stock_price = [22.96,21.65,24.05,25.44,24.36,27.23]    #除息前參考價\n",
    "dividend = [1,1,1.3,0.95,1.45,1.8]\n",
    "\n",
    "o_cash = 1000000\n",
    "cash = o_cash-(o_cash//(stock_price[0]*1000))*(stock_price[0]*1000)\n",
    "cash_list = []\n",
    "stock_list = [o_cash//(stock_price[0]*1000)]\n",
    "total_price = o_cash\n",
    "\n",
    "for i in range(len(stock_price)):\n",
    "    cash = cash+stock_list[-1]*dividend[i]*1000\n",
    "    adj_price = ((stock_price[i]-dividend[i])*1000)\n",
    "    buy_by_dividend = cash//adj_price\n",
    "#     print(cash)\n",
    "#     print(buy_by_dividend)\n",
    "#     print(adj_price)\n",
    "    cash = cash-buy_by_dividend*adj_price\n",
    "#     print(cash)\n",
    "    cash_list.append(cash)\n",
    "    stock_list.append(stock_list[i]+buy_by_dividend)\n",
    "#     print(stock_list)\n",
    "    total_price = cash+stock_list[-1]*adj_price"
   ]
  },
  {
   "cell_type": "code",
   "execution_count": 5,
   "metadata": {},
   "outputs": [
    {
     "data": {
      "text/plain": [
       "10819.99999999997"
      ]
     },
     "execution_count": 5,
     "metadata": {},
     "output_type": "execute_result"
    }
   ],
   "source": [
    "cash"
   ]
  },
  {
   "cell_type": "code",
   "execution_count": 6,
   "metadata": {},
   "outputs": [
    {
     "data": {
      "text/plain": [
       "1511190.0"
      ]
     },
     "execution_count": 6,
     "metadata": {},
     "output_type": "execute_result"
    }
   ],
   "source": [
    "total_price"
   ]
  },
  {
   "cell_type": "code",
   "execution_count": 7,
   "metadata": {},
   "outputs": [
    {
     "data": {
      "text/plain": [
       "0.51119"
      ]
     },
     "execution_count": 7,
     "metadata": {},
     "output_type": "execute_result"
    }
   ],
   "source": [
    "ratio = (total_price-o_cash)/o_cash\n",
    "ratio"
   ]
  },
  {
   "cell_type": "code",
   "execution_count": 8,
   "metadata": {},
   "outputs": [
    {
     "data": {
      "text/plain": [
       "0.07123933653532744"
      ]
     },
     "execution_count": 8,
     "metadata": {},
     "output_type": "execute_result"
    }
   ],
   "source": [
    "(1+ratio)**(1/6)-1"
   ]
  },
  {
   "cell_type": "code",
   "execution_count": null,
   "metadata": {},
   "outputs": [],
   "source": []
  }
 ],
 "metadata": {
  "kernelspec": {
   "display_name": "Python 3",
   "language": "python",
   "name": "python3"
  },
  "language_info": {
   "codemirror_mode": {
    "name": "ipython",
    "version": 3
   },
   "file_extension": ".py",
   "mimetype": "text/x-python",
   "name": "python",
   "nbconvert_exporter": "python",
   "pygments_lexer": "ipython3",
   "version": "3.7.3"
  }
 },
 "nbformat": 4,
 "nbformat_minor": 2
}
