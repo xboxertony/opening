{
 "cells": [
  {
   "cell_type": "code",
   "execution_count": 1,
   "metadata": {},
   "outputs": [
    {
     "ename": "ModuleNotFoundError",
     "evalue": "No module named 'clr'",
     "output_type": "error",
     "traceback": [
      "\u001b[1;31m---------------------------------------------------------------------------\u001b[0m",
      "\u001b[1;31mModuleNotFoundError\u001b[0m                       Traceback (most recent call last)",
      "\u001b[1;32m<ipython-input-1-fa57dbf993f8>\u001b[0m in \u001b[0;36m<module>\u001b[1;34m\u001b[0m\n\u001b[1;32m----> 1\u001b[1;33m \u001b[1;32mfrom\u001b[0m \u001b[0mclr\u001b[0m \u001b[1;32mimport\u001b[0m \u001b[0mAddReference\u001b[0m\u001b[1;33m\u001b[0m\u001b[1;33m\u001b[0m\u001b[0m\n\u001b[0m\u001b[0;32m      2\u001b[0m \u001b[0mAddReference\u001b[0m\u001b[1;33m(\u001b[0m\u001b[1;34m\"System\"\u001b[0m\u001b[1;33m)\u001b[0m\u001b[1;33m\u001b[0m\u001b[1;33m\u001b[0m\u001b[0m\n\u001b[0;32m      3\u001b[0m \u001b[0mAddReference\u001b[0m\u001b[1;33m(\u001b[0m\u001b[1;34m\"QuantConnect.Common\"\u001b[0m\u001b[1;33m)\u001b[0m\u001b[1;33m\u001b[0m\u001b[1;33m\u001b[0m\u001b[0m\n\u001b[0;32m      4\u001b[0m \u001b[0mAddReference\u001b[0m\u001b[1;33m(\u001b[0m\u001b[1;34m\"QuantConnect.Jupyter\"\u001b[0m\u001b[1;33m)\u001b[0m\u001b[1;33m\u001b[0m\u001b[1;33m\u001b[0m\u001b[0m\n\u001b[0;32m      5\u001b[0m \u001b[0mAddReference\u001b[0m\u001b[1;33m(\u001b[0m\u001b[1;34m\"QuantConnect.Indicators\"\u001b[0m\u001b[1;33m)\u001b[0m\u001b[1;33m\u001b[0m\u001b[1;33m\u001b[0m\u001b[0m\n",
      "\u001b[1;31mModuleNotFoundError\u001b[0m: No module named 'clr'"
     ]
    }
   ],
   "source": [
    "from clr import AddReference\n",
    "AddReference(\"System\")\n",
    "AddReference(\"QuantConnect.Common\")\n",
    "AddReference(\"QuantConnect.Jupyter\")\n",
    "AddReference(\"QuantConnect.Indicators\")\n",
    "from System import *\n",
    "from QuantConnect import *\n",
    "from QuantConnect.Data.Market import TradeBar, QuoteBar\n",
    "from QuantConnect.Jupyter import *\n",
    "from QuantConnect.Indicators import *\n",
    "from datetime import datetime, timedelta\n",
    "import matplotlib.pyplot as plt\n",
    "import pandas as pd\n",
    "\n",
    "def initial_system():\n",
    "    qb = QuantBook()\n",
    "\n",
    "    volatility_etfs = [\"SQQQ\", \"TQQQ\", \"TVIX\", \"VIXY\", \"SPLV\",\n",
    "                   \"UVXY\", \"EEMV\", \"EFAV\", \"USMV\",\"SPY\"]\n",
    "    # Add Equity ------------------------------------------------\n",
    "    for i in range(len(volatility_etfs)):\n",
    "        qb.AddEquity(volatility_etfs[i],Resolution.Daily)\n",
    "    history = qb.History(qb.Securities.Keys, 252*15,Resolution.Daily)\n",
    "    return qb,history"
   ]
  },
  {
   "cell_type": "code",
   "execution_count": null,
   "metadata": {},
   "outputs": [],
   "source": [
    "qb,history = initial_system()[0],initial_system()[1]\n",
    "\n",
    "#先把收盤價換成成log\n",
    "close = history.loc[qb.Securities.Keys[0]]['close']\n",
    "close_log = np.log(close)\n",
    "\n",
    "#處理 At*Ax = At*b\n",
    "identity = pd.DataFrame(np.ones((len(close_log.index),1)),index = close_log.index)\n",
    "another = pd.DataFrame([x for x in range(1,len(close_log.index)+1,1)],index = close_log.index)\n",
    "matrix = pd.concat((another,identity),axis = 1)\n",
    "close_log = np.array(close_log)\n",
    "\n",
    "#利用反矩陣算出最佳解\n",
    "matrix = np.array(matrix)\n",
    "matrix_I = np.linalg.inv((matrix.T).dot(matrix)) \n",
    "Answer = (matrix_I.dot(matrix.T)).dot(close_log)\n",
    "\n",
    "#劃出預估圖跟原始資料對比，來預測收盤價是否有吻合\n",
    "Monitor_price = [np.exp(Answer[0]*x+Answer[1]) for x in range(1,len(close.index)+1,1)]\n",
    "Monitor_price = pd.DataFrame(Monitor_price,index = close.index,columns=['Pre_close'])\n",
    "pd.concat([Monitor_price,close],axis = 1).plot()"
   ]
  }
 ],
 "metadata": {
  "kernelspec": {
   "display_name": "Python 3",
   "language": "python",
   "name": "python3"
  },
  "language_info": {
   "codemirror_mode": {
    "name": "ipython",
    "version": 3
   },
   "file_extension": ".py",
   "mimetype": "text/x-python",
   "name": "python",
   "nbconvert_exporter": "python",
   "pygments_lexer": "ipython3",
   "version": "3.7.3"
  }
 },
 "nbformat": 4,
 "nbformat_minor": 2
}
