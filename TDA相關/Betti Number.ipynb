{
 "cells": [
  {
   "cell_type": "code",
   "execution_count": 1,
   "metadata": {},
   "outputs": [],
   "source": [
    "import numpy as np\n",
    "from itertools import combinations\n",
    "from scipy.sparse import dok_matrix\n",
    "from operator import add\n",
    "\n",
    "class SimplicialComplex:\n",
    "    def __init__(self, simplices=[]):\n",
    "        self.import_simplices(simplices=simplices)\n",
    "        \n",
    "    def import_simplices(self, simplices=[]):\n",
    "        self.simplices = map(lambda simplex: tuple(sorted(simplex)), simplices)\n",
    "        self.face_set = self.faces()\n",
    "        \n",
    "    def faces(self):\n",
    "        faceset = set()\n",
    "        for simplex in self.simplices:\n",
    "            numnodes = len(simplex)\n",
    "            for r in range(numnodes, 0, -1):\n",
    "                for face in combinations(simplex, r):\n",
    "                    faceset.add(face)\n",
    "        return faceset\n",
    "    \n",
    "    def n_faces(self, n):\n",
    "        return filter(lambda face: len(face)==n+1, list(self.face_set))\n",
    "        \n",
    "    def boundary_operator(self, i):\n",
    "        source_simplices = [h for h in self.n_faces(i)]\n",
    "        target_simplices = [h for h in self.n_faces(i-1)]\n",
    " \n",
    "        if len(target_simplices)==0:\n",
    "            S = dok_matrix((1, len(source_simplices)), dtype=np.float32)\n",
    "            S[0, 0:len(source_simplices)] = 1\n",
    "        else:\n",
    "            source_simplices_dict = {}\n",
    "            for j in range(len(source_simplices)):\n",
    "                source_simplices_dict[source_simplices[j]] = j\n",
    "                target_simplices_dict = {}\n",
    "            for i in range(len(target_simplices)):\n",
    "                target_simplices_dict[target_simplices[i]] = i\n",
    "        \n",
    "        S = dok_matrix((len(target_simplices), len(source_simplices)), dtype=np.float32)\n",
    "        for source_simplex in source_simplices:\n",
    "            for a in range(len(source_simplex)):\n",
    "                target_simplex = source_simplex[:a]+source_simplex[(a+1):]\n",
    "                i = target_simplices_dict[target_simplex]\n",
    "                j = source_simplices_dict[source_simplex]\n",
    "                S[i, j] = -1 if a%2==1 else 1 \n",
    "                # S[i, j] = (-1)**a\n",
    "        return S\n",
    "      \n",
    "    def betti_number(self, i):\n",
    "        boundop_i = self.boundary_operator(i)\n",
    "        boundop_ip1 = self.boundary_operator(i+1)\n",
    " \n",
    "        if i==0:\n",
    "          boundop_i_rank = 0\n",
    "        else:\n",
    "            try:\n",
    "                boundop_i_rank = np.linalg.matrix_rank(boundop_i.toarray())\n",
    "            except np.linalg.LinAlgError:\n",
    "                boundop_i_rank = boundop_i.shape[1]\n",
    "                \n",
    "        try:\n",
    "            boundop_ip1_rank = np.linalg.matrix_rank(boundop_ip1.toarray())\n",
    "        except np.linalg.LinAlgError:\n",
    "            boundop_ip1_rank = boundop_ip1.shape[1]\n",
    "            \n",
    "        return ((boundop_i.shape[1]-boundop_i_rank)-boundop_ip1_rank)"
   ]
  },
  {
   "cell_type": "code",
   "execution_count": 6,
   "metadata": {},
   "outputs": [
    {
     "data": {
      "text/plain": [
       "2"
      ]
     },
     "execution_count": 6,
     "metadata": {},
     "output_type": "execute_result"
    }
   ],
   "source": [
    "e2 = [(1,2), (2,3), (3,1), (4,5,6), (6,7), (7,4)]\n",
    "sc2 = SimplicialComplex(e2)\n",
    "sc2.betti_number(1)"
   ]
  },
  {
   "cell_type": "code",
   "execution_count": 12,
   "metadata": {},
   "outputs": [
    {
     "name": "stderr",
     "output_type": "stream",
     "text": [
      "C:\\Users\\user\\Anaconda3\\lib\\site-packages\\networkx\\drawing\\nx_pylab.py:579: MatplotlibDeprecationWarning: \n",
      "The iterable function was deprecated in Matplotlib 3.1 and will be removed in 3.3. Use np.iterable instead.\n",
      "  if not cb.iterable(width):\n"
     ]
    },
    {
     "data": {
      "image/png": "[encoded data removed]",
      "text/plain": [
       "<Figure size 432x288 with 1 Axes>"
      ]
     },
     "metadata": {},
     "output_type": "display_data"
    }
   ],
   "source": [
    "import networkx as nx\n",
    "import matplotlib.pyplot as plt\n",
    "n2 = nx.Graph()\n",
    "n2.add_edges_from(sc2.n_faces(1))\n",
    "nx.draw(n2)\n",
    "plt.show(nx)"
   ]
  }
 ],
 "metadata": {
  "kernelspec": {
   "display_name": "Python 3",
   "language": "python",
   "name": "python3"
  },
  "language_info": {
   "codemirror_mode": {
    "name": "ipython",
    "version": 3
   },
   "file_extension": ".py",
   "mimetype": "text/x-python",
   "name": "python",
   "nbconvert_exporter": "python",
   "pygments_lexer": "ipython3",
   "version": "3.7.3"
  }
 },
 "nbformat": 4,
 "nbformat_minor": 2
}
