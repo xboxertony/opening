{
 "cells": [
  {
   "cell_type": "code",
   "execution_count": 6,
   "metadata": {
    "scrolled": true
   },
   "outputs": [
    {
     "ename": "ImportError",
     "evalue": "cannot import name 'hmm' from 'sklearn' (C:\\Users\\user\\Anaconda3\\lib\\site-packages\\sklearn\\__init__.py)",
     "output_type": "error",
     "traceback": [
      "\u001b[1;31m---------------------------------------------------------------------------\u001b[0m",
      "\u001b[1;31mImportError\u001b[0m                               Traceback (most recent call last)",
      "\u001b[1;32m<ipython-input-6-e2c6bf33ff2b>\u001b[0m in \u001b[0;36m<module>\u001b[1;34m\u001b[0m\n\u001b[0;32m      2\u001b[0m \u001b[1;32mimport\u001b[0m \u001b[0mmatplotlib\u001b[0m\u001b[1;33m.\u001b[0m\u001b[0mpyplot\u001b[0m \u001b[1;32mas\u001b[0m \u001b[0mplt\u001b[0m\u001b[1;33m\u001b[0m\u001b[1;33m\u001b[0m\u001b[0m\n\u001b[0;32m      3\u001b[0m \u001b[1;31m# hmmlearn可以在安装numpy以后，再使用pip install hmmlearn安装\u001b[0m\u001b[1;33m\u001b[0m\u001b[1;33m\u001b[0m\u001b[1;33m\u001b[0m\u001b[0m\n\u001b[1;32m----> 4\u001b[1;33m \u001b[1;32mfrom\u001b[0m \u001b[0msklearn\u001b[0m \u001b[1;32mimport\u001b[0m \u001b[0mhmm\u001b[0m\u001b[1;33m\u001b[0m\u001b[1;33m\u001b[0m\u001b[0m\n\u001b[0m\u001b[0;32m      5\u001b[0m \u001b[1;33m\u001b[0m\u001b[0m\n\u001b[0;32m      6\u001b[0m \u001b[0mstates\u001b[0m \u001b[1;33m=\u001b[0m \u001b[1;33m[\u001b[0m\u001b[1;34m\"Rainy\"\u001b[0m\u001b[1;33m,\u001b[0m \u001b[1;34m\"Sunny\"\u001b[0m\u001b[1;33m]\u001b[0m\u001b[1;31m##隐藏状态\u001b[0m\u001b[1;33m\u001b[0m\u001b[1;33m\u001b[0m\u001b[0m\n",
      "\u001b[1;31mImportError\u001b[0m: cannot import name 'hmm' from 'sklearn' (C:\\Users\\user\\Anaconda3\\lib\\site-packages\\sklearn\\__init__.py)"
     ]
    }
   ],
   "source": [
    "import numpy as np\n",
    "import matplotlib.pyplot as plt\n",
    "# hmmlearn可以在安装numpy以后，再使用pip install hmmlearn安装\n",
    "from sklearn import hmm\n",
    "\n",
    "states = [\"Rainy\", \"Sunny\"]##隐藏状态\n",
    "n_states = len(states)##隐藏状态长度\n",
    "\n",
    "observations = [\"walk\", \"shop\", \"clean\"]##可观察的状态\n",
    "n_observations = len(observations)##可观察序列的长度\n",
    "\n",
    "start_probability = np.array([0.6, 0.4])##开始转移概率，即开始是Rainy和Sunny的概率\n",
    "##隐藏间天气转移混淆矩阵，即Rainy和Sunny之间的转换关系，例如[0,0]表示今天Rainy，明天Rainy的概率\n",
    "transition_probability = np.array([\n",
    "  [0.7, 0.3],\n",
    "  [0.4, 0.6]\n",
    "])\n",
    "##隐藏状态天气和可视行为混淆矩阵，例如[0,0]表示今天Rainy，walk行为的概率为0.1\n",
    "emission_probability = np.array([\n",
    "  [0.1, 0.4, 0.5],\n",
    "  [0.6, 0.3, 0.1]\n",
    "])\n",
    "\n",
    "#构建了一个MultinomialHMM模型，这模型包括开始的转移概率，隐藏间天气转换混淆矩阵（transmat），隐藏状态天气和可视行为混淆矩阵emissionprob，对模型参数初始化\n",
    "model = hmm.MultinomialHMM(n_components=n_states)\n",
    "model.startprob_= start_probability\n",
    "model.transmat_ = transition_probability\n",
    "model.emissionprob_ = emission_probability\n",
    "\n",
    "#给出一个可见序列\n",
    "bob_Actions = np.array([[2, 0, 1, 1, 2, 0]]).T\n",
    "\n",
    "# 解决问题1,解码问题,已知模型参数和X，估计最可能的Z； 维特比算法 \n",
    "logprob, weathers = model.decode(bob_Actions, algorithm=\"viterbi\")\n",
    "print(\"Bob Actions:\"+\", \".join(map(lambda x: observations[x], bob_Actions)))\n",
    "print(\"weathers:\"+\", \".join(map(lambda x: states[x], weathers)))\n",
    "print(logprob)#该参数反映模型拟合的好坏,数值越大越好"
   ]
  },
  {
   "cell_type": "code",
   "execution_count": null,
   "metadata": {},
   "outputs": [],
   "source": []
  }
 ],
 "metadata": {
  "kernelspec": {
   "display_name": "Python 3",
   "language": "python",
   "name": "python3"
  },
  "language_info": {
   "codemirror_mode": {
    "name": "ipython",
    "version": 3
   },
   "file_extension": ".py",
   "mimetype": "text/x-python",
   "name": "python",
   "nbconvert_exporter": "python",
   "pygments_lexer": "ipython3",
   "version": "3.7.3"
  }
 },
 "nbformat": 4,
 "nbformat_minor": 2
}
