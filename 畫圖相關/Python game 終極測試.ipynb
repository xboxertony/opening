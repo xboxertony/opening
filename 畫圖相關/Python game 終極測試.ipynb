{
 "cells": [
  {
   "cell_type": "code",
   "execution_count": 1,
   "metadata": {},
   "outputs": [
    {
     "name": "stdout",
     "output_type": "stream",
     "text": [
      "pygame 1.9.6\n",
      "Hello from the pygame community. https://www.pygame.org/contribute.html\n",
      "1.1\n",
      "1.2000000000000002\n",
      "1.3000000000000003\n",
      "1.4000000000000004\n",
      "1.3000000000000003\n",
      "1.2000000000000002\n",
      "1.1\n",
      "1.0\n",
      "0.9\n",
      "0.8\n",
      "0.7000000000000001\n",
      "0.6000000000000001\n",
      "0.7000000000000001\n",
      "0.8\n",
      "0.9\n",
      "1.0\n",
      "0.9\n",
      "0.8\n",
      "0.7000000000000001\n",
      "0.8\n",
      "0.9\n",
      "1.0\n",
      "0.9\n",
      "0.8\n",
      "0.7000000000000001\n",
      "0.6000000000000001\n",
      "0.7000000000000001\n",
      "0.8\n",
      "0.9\n"
     ]
    },
    {
     "ename": "error",
     "evalue": "display Surface quit",
     "output_type": "error",
     "traceback": [
      "\u001b[1;31m---------------------------------------------------------------------------\u001b[0m",
      "\u001b[1;31merror\u001b[0m                                     Traceback (most recent call last)",
      "\u001b[1;32m<ipython-input-1-0137d4cb3396>\u001b[0m in \u001b[0;36m<module>\u001b[1;34m\u001b[0m\n\u001b[0;32m     67\u001b[0m \u001b[1;33m\u001b[0m\u001b[0m\n\u001b[0;32m     68\u001b[0m     \u001b[1;31m#填充背景\u001b[0m\u001b[1;33m\u001b[0m\u001b[1;33m\u001b[0m\u001b[1;33m\u001b[0m\u001b[0m\n\u001b[1;32m---> 69\u001b[1;33m     \u001b[0mscreen\u001b[0m\u001b[1;33m.\u001b[0m\u001b[0mfill\u001b[0m\u001b[1;33m(\u001b[0m\u001b[0mbg\u001b[0m\u001b[1;33m)\u001b[0m\u001b[1;33m\u001b[0m\u001b[1;33m\u001b[0m\u001b[0m\n\u001b[0m\u001b[0;32m     70\u001b[0m \u001b[1;33m\u001b[0m\u001b[0m\n\u001b[0;32m     71\u001b[0m     \u001b[1;31m#更新圖像\u001b[0m\u001b[1;33m\u001b[0m\u001b[1;33m\u001b[0m\u001b[1;33m\u001b[0m\u001b[0m\n",
      "\u001b[1;31merror\u001b[0m: display Surface quit"
     ]
    }
   ],
   "source": [
    "import pygame\n",
    "from pygame.locals import *\n",
    "pygame.init()\n",
    "\n",
    "size = width,height = 600,400    #左上角 0,0，右下角 600,400\n",
    "speed = [-2,1]\n",
    "bg = (255,255,255)    #RGB元素\n",
    "\n",
    "Fullscreen = False\n",
    "\n",
    "clock = pygame.time.Clock()   #偵率調控\n",
    "\n",
    "screen = pygame.display.set_mode(size,RESIZABLE)\n",
    "\n",
    "#pygame.display.list_modes()    畫素比\n",
    "\n",
    "kkk = pygame.image.load('welcome.gif')\n",
    "New_kkk = kkk\n",
    "position = kkk.get_rect()\n",
    "kkk_rect = kkk.get_rect()\n",
    "New_kkk_rect = kkk_rect\n",
    "ratio = 1.0\n",
    "\n",
    "\n",
    "while True:\n",
    "    for event in pygame.event.get():\n",
    "        if event.type == pygame.QUIT:\n",
    "            pygame.quit()\n",
    "        if event.type == KEYDOWN:\n",
    "            if event.key == K_F11:\n",
    "                Fullscreen = not Fullscreen\n",
    "                if Fullscreen:\n",
    "                    screen = pygame.display.set_mode((1024,768),FULLSCREEN | HWSURFACE)\n",
    "                else:\n",
    "                    screen = pygame.display.set_mode(size)\n",
    "        \n",
    "        #調整窗口大小\n",
    "        if event.type == VIDEORESIZE:\n",
    "            size = event.size\n",
    "            screen = pygame.display.set_mode(size,RESIZABLE)\n",
    "        if event.type == KEYDOWN:\n",
    "        #放大、縮小kkk，空格建恢復原始尺寸\n",
    "            if event.key == K_EQUALS or event.key == K_MINUS or event.key == K_SPACE:\n",
    "            #最大只能放大一倍，縮小50%\n",
    "                if event.key == K_EQUALS and ratio<2:\n",
    "                    ratio += 0.1\n",
    "                if event.key == K_MINUS and ratio>0.5:\n",
    "                    ratio -= 0.1\n",
    "                if event.key == K_SPACE:\n",
    "                    ratio = 1.0\n",
    "\n",
    "                New_kkk = pygame.transform.scale(kkk,(int(kkk_rect.width*ratio),int(kkk_rect.height*ratio)))\n",
    "    \n",
    "    position = position.move(speed)\n",
    "    \n",
    "    #全螢幕\n",
    "    \n",
    "    if position.left<0 or position.right>width:\n",
    "        \n",
    "        kkk = pygame.transform.flip(kkk,True,False)   #水平翻轉，垂直翻轉\n",
    "        \n",
    "        speed[0]=-speed[0]\n",
    "        \n",
    "    if position.top<0 or position.bottom>height:\n",
    "        \n",
    "        speed[1]=-speed[1]\n",
    "        \n",
    "    #填充背景    \n",
    "    screen.fill(bg)\n",
    "    \n",
    "    #更新圖像\n",
    "    screen.blit(New_kkk,position)\n",
    "    \n",
    "    #更新介面\n",
    "    pygame.display.flip()\n",
    "    \n",
    "    #延遲10毫秒\n",
    "#     pygame.time.delay(10)\n",
    "    clock.tick(50)"
   ]
  },
  {
   "cell_type": "code",
   "execution_count": 1,
   "metadata": {
    "scrolled": false
   },
   "outputs": [
    {
     "name": "stdout",
     "output_type": "stream",
     "text": [
      "pygame 1.9.6\n",
      "Hello from the pygame community. https://www.pygame.org/contribute.html\n"
     ]
    }
   ],
   "source": [
    "import pygame\n",
    "from pygame.locals import *"
   ]
  },
  {
   "cell_type": "code",
   "execution_count": 2,
   "metadata": {},
   "outputs": [
    {
     "data": {
      "text/plain": [
       "'1.9.6'"
      ]
     },
     "execution_count": 2,
     "metadata": {},
     "output_type": "execute_result"
    }
   ],
   "source": [
    "pygame.ver"
   ]
  },
  {
   "cell_type": "code",
   "execution_count": 3,
   "metadata": {
    "scrolled": true
   },
   "outputs": [],
   "source": [
    "import pygame\n",
    "from pygame.locals import *"
   ]
  },
  {
   "cell_type": "code",
   "execution_count": 4,
   "metadata": {
    "scrolled": false
   },
   "outputs": [],
   "source": [
    "# import pygame\n",
    "# from pygame.locals import *\n",
    "pygame.init()\n",
    "\n",
    "screen = pygame.display.set_mode((800,600))\n",
    "running = True    #保證主循環運行的變量\n",
    "\n",
    "class Player(pygame.sprite.Sprite):\n",
    "        \n",
    "    def __init__(self):\n",
    "        \n",
    "        super(Player,self).__init__()\n",
    "      #創建surface的長度和寬度\n",
    "        self.surf = pygame.Surface((75,25))\n",
    "    \n",
    "      #設定Surface的顏色，使其和屏幕分開\n",
    "        self.surf.fill((255,255,255))\n",
    "        self.rect = self.surf.get_rect()\n",
    "        \n",
    "        self.rect.x = 50    #創建起始位置\n",
    "        self.rect.y = 60\n",
    "        \n",
    "        #screen.blit(self.surf,(400,300))\n",
    "            \n",
    "    def update(self,press_keys):\n",
    "        \n",
    "        out_size = self.rect.left==0 or self.rect.right>pygame.display.get_surface().get_size()[0]\n",
    "        \n",
    "        if press_keys[K_UP]:\n",
    "            self.rect.move_ip(0,-1)\n",
    "        if press_keys[K_DOWN]:\n",
    "            self.rect.move_ip(0,1)\n",
    "        if press_keys[K_LEFT] and out_size == False:\n",
    "            self.rect.move_ip(-1,0)\n",
    "        if press_keys[K_RIGHT] and out_size == False:\n",
    "            self.rect.move_ip(1,0)\n",
    "        if out_size == True:\n",
    "            if self.rect.left==0 and press_keys[K_RIGHT]:\n",
    "                self.rect.move_ip(1,0)\n",
    "            elif self.rect.right>pygame.display.get_surface().get_size()[0] and press_keys[K_LEFT]:\n",
    "                self.rect.move_ip(-1,0)\n",
    "            \n",
    "        screen.fill((0,0,0))\n",
    "        screen.blit(self.surf,self.rect)\n",
    "\n",
    "Player1 = Player()\n",
    "\n",
    "#將surface畫到螢幕 x=400 , y=300 的位置\n",
    "\n",
    "\n",
    "while running:\n",
    "    #for 循環遍歷事件對列\n",
    "    \n",
    "    for event in pygame.event.get():\n",
    "        \n",
    "        if event.type == KEYDOWN:\n",
    "            #按下ESC離開\n",
    "            if event.key == K_ESCAPE:\n",
    "                running = False\n",
    "        #或者看到QUIT:終止主循環        \n",
    "        elif event.type == QUIT:\n",
    "            running = False\n",
    "            \n",
    "    pressed_keys = pygame.key.get_pressed()\n",
    "    \n",
    "    Player1.update(pressed_keys)\n",
    "    \n",
    "    pygame.display.flip()\n",
    "    \n",
    "    \n",
    "pygame.quit()"
   ]
  },
  {
   "cell_type": "markdown",
   "metadata": {},
   "source": [
    "# 甚麼是surface?\n",
    "\n",
    "Pygame 表示圖像的對象\n",
    "\n",
    "#將一個圖像繪製到另一個圖像?\n",
    "\n",
    "小烏龜 --> screen ，截圖只有幾個圖像? 一個圖像!!!!!!\n",
    "\n",
    "Blit 的方法是修該令一個圖像的像素，小烏龜-->screen，\n",
    "\n",
    "其實是修改screen 的圖像像速配合烏龜"
   ]
  },
  {
   "cell_type": "markdown",
   "metadata": {},
   "source": [
    "# 畫偵，一偵就是一個圖像，珍率就是圖像速度"
   ]
  },
  {
   "cell_type": "code",
   "execution_count": 3,
   "metadata": {
    "scrolled": true
   },
   "outputs": [
    {
     "ename": "error",
     "evalue": "video system not initialized",
     "output_type": "error",
     "traceback": [
      "\u001b[1;31m---------------------------------------------------------------------------\u001b[0m",
      "\u001b[1;31merror\u001b[0m                                     Traceback (most recent call last)",
      "\u001b[1;32m<ipython-input-3-fcfda0692423>\u001b[0m in \u001b[0;36m<module>\u001b[1;34m\u001b[0m\n\u001b[0;32m     14\u001b[0m \u001b[1;33m\u001b[0m\u001b[0m\n\u001b[0;32m     15\u001b[0m \u001b[1;32mwhile\u001b[0m \u001b[1;32mTrue\u001b[0m\u001b[1;33m:\u001b[0m\u001b[1;33m\u001b[0m\u001b[1;33m\u001b[0m\u001b[0m\n\u001b[1;32m---> 16\u001b[1;33m     \u001b[1;32mfor\u001b[0m \u001b[0mevent\u001b[0m \u001b[1;32min\u001b[0m \u001b[0mpygame\u001b[0m\u001b[1;33m.\u001b[0m\u001b[0mevent\u001b[0m\u001b[1;33m.\u001b[0m\u001b[0mget\u001b[0m\u001b[1;33m(\u001b[0m\u001b[1;33m)\u001b[0m\u001b[1;33m:\u001b[0m\u001b[1;33m\u001b[0m\u001b[1;33m\u001b[0m\u001b[0m\n\u001b[0m\u001b[0;32m     17\u001b[0m \u001b[1;33m\u001b[0m\u001b[0m\n\u001b[0;32m     18\u001b[0m         \u001b[0mscreen\u001b[0m\u001b[1;33m.\u001b[0m\u001b[0mblit\u001b[0m\u001b[1;33m(\u001b[0m\u001b[0mfont\u001b[0m\u001b[1;33m.\u001b[0m\u001b[0mrender\u001b[0m\u001b[1;33m(\u001b[0m\u001b[0mstr\u001b[0m\u001b[1;33m(\u001b[0m\u001b[0mevent\u001b[0m\u001b[1;33m)\u001b[0m\u001b[1;33m,\u001b[0m\u001b[1;32mTrue\u001b[0m\u001b[1;33m,\u001b[0m\u001b[1;33m(\u001b[0m\u001b[1;36m0\u001b[0m\u001b[1;33m,\u001b[0m\u001b[1;36m255\u001b[0m\u001b[1;33m,\u001b[0m\u001b[1;36m0\u001b[0m\u001b[1;33m)\u001b[0m\u001b[1;33m)\u001b[0m\u001b[1;33m,\u001b[0m\u001b[1;33m(\u001b[0m\u001b[1;36m0\u001b[0m\u001b[1;33m,\u001b[0m\u001b[0mposition\u001b[0m\u001b[1;33m)\u001b[0m\u001b[1;33m)\u001b[0m\u001b[1;33m\u001b[0m\u001b[1;33m\u001b[0m\u001b[0m\n",
      "\u001b[1;31merror\u001b[0m: video system not initialized"
     ]
    }
   ],
   "source": [
    "import pygame\n",
    "pygame.init()\n",
    "\n",
    "size = width,height = 600,400\n",
    "screen = pygame.display.set_mode(size)\n",
    "pygame.display.set_caption('初次見面!!!!!')\n",
    "\n",
    "bg = (0,0,0)\n",
    "\n",
    "font = pygame.font.Font(None,20)   #font字體、大小\n",
    "screen.fill(bg)\n",
    "position = 0\n",
    "line_height = font.get_linesize()\n",
    "\n",
    "while True:\n",
    "    for event in pygame.event.get():\n",
    "        \n",
    "        screen.blit(font.render(str(event),True,(0,255,0)),(0,position))\n",
    "        position+=line_height\n",
    "        \n",
    "        if position>height:\n",
    "            position = 0\n",
    "            screen.fill(bg)\n",
    "    \n",
    "        pygame.display.flip()\n",
    "        \n",
    "        if event.type == pygame.QUIT:\n",
    "            pygame.quit()"
   ]
  },
  {
   "cell_type": "code",
   "execution_count": null,
   "metadata": {},
   "outputs": [],
   "source": []
  }
 ],
 "metadata": {
  "kernelspec": {
   "display_name": "Python 3",
   "language": "python",
   "name": "python3"
  },
  "language_info": {
   "codemirror_mode": {
    "name": "ipython",
    "version": 3
   },
   "file_extension": ".py",
   "mimetype": "text/x-python",
   "name": "python",
   "nbconvert_exporter": "python",
   "pygments_lexer": "ipython3",
   "version": "3.7.3"
  }
 },
 "nbformat": 4,
 "nbformat_minor": 2
}
