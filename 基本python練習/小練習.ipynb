{
 "cells": [
  {
   "cell_type": "code",
   "execution_count": 1,
   "metadata": {},
   "outputs": [],
   "source": [
    "def f(x):\n",
    "    return x+3"
   ]
  },
  {
   "cell_type": "code",
   "execution_count": 2,
   "metadata": {},
   "outputs": [
    {
     "data": {
      "text/plain": [
       "[8, 9, 10]"
      ]
     },
     "execution_count": 2,
     "metadata": {},
     "output_type": "execute_result"
    }
   ],
   "source": [
    "L = [5,6,7]\n",
    "list(map(f,L))"
   ]
  },
  {
   "cell_type": "code",
   "execution_count": 4,
   "metadata": {},
   "outputs": [
    {
     "data": {
      "text/plain": [
       "[8, 9, 10]"
      ]
     },
     "execution_count": 4,
     "metadata": {},
     "output_type": "execute_result"
    }
   ],
   "source": [
    "list(map(lambda x:x+3,L))"
   ]
  },
  {
   "cell_type": "code",
   "execution_count": 6,
   "metadata": {},
   "outputs": [],
   "source": [
    "def isodd(x):\n",
    "    return x%2!=0"
   ]
  },
  {
   "cell_type": "code",
   "execution_count": 7,
   "metadata": {},
   "outputs": [
    {
     "data": {
      "text/plain": [
       "True"
      ]
     },
     "execution_count": 7,
     "metadata": {},
     "output_type": "execute_result"
    }
   ],
   "source": [
    "isodd(3)"
   ]
  },
  {
   "cell_type": "code",
   "execution_count": 8,
   "metadata": {},
   "outputs": [
    {
     "data": {
      "text/plain": [
       "[5, 7]"
      ]
     },
     "execution_count": 8,
     "metadata": {},
     "output_type": "execute_result"
    }
   ],
   "source": [
    "list(filter(isodd,L))"
   ]
  },
  {
   "cell_type": "code",
   "execution_count": 9,
   "metadata": {},
   "outputs": [],
   "source": [
    "K = list(filter(isodd,L))"
   ]
  },
  {
   "cell_type": "code",
   "execution_count": 10,
   "metadata": {},
   "outputs": [
    {
     "data": {
      "text/plain": [
       "[5, 7]"
      ]
     },
     "execution_count": 10,
     "metadata": {},
     "output_type": "execute_result"
    }
   ],
   "source": [
    "K"
   ]
  },
  {
   "cell_type": "code",
   "execution_count": 11,
   "metadata": {},
   "outputs": [
    {
     "data": {
      "text/plain": [
       "[5, 7]"
      ]
     },
     "execution_count": 11,
     "metadata": {},
     "output_type": "execute_result"
    }
   ],
   "source": [
    "list(filter(lambda x:x%2!=0,L))"
   ]
  },
  {
   "cell_type": "code",
   "execution_count": 12,
   "metadata": {},
   "outputs": [
    {
     "data": {
      "text/plain": [
       "[10, 12, 14]"
      ]
     },
     "execution_count": 12,
     "metadata": {},
     "output_type": "execute_result"
    }
   ],
   "source": [
    "list(map(lambda x,y:x+y,L,L))"
   ]
  },
  {
   "cell_type": "code",
   "execution_count": 13,
   "metadata": {},
   "outputs": [
    {
     "data": {
      "text/plain": [
       "[5, 6, 7]"
      ]
     },
     "execution_count": 13,
     "metadata": {},
     "output_type": "execute_result"
    }
   ],
   "source": [
    "L"
   ]
  },
  {
   "cell_type": "code",
   "execution_count": 24,
   "metadata": {},
   "outputs": [
    {
     "data": {
      "text/plain": [
       "['C']"
      ]
     },
     "execution_count": 24,
     "metadata": {},
     "output_type": "execute_result"
    }
   ],
   "source": [
    "K = [(50,'A'),(5000,'B'),(10,'C'),(400,'D'),(500,'E')]\n",
    "[i[1] for i in K if i[0]<50]"
   ]
  },
  {
   "cell_type": "code",
   "execution_count": 26,
   "metadata": {},
   "outputs": [
    {
     "data": {
      "text/plain": [
       "[('A', 50), ('B', 60), ('C', 70)]"
      ]
     },
     "execution_count": 26,
     "metadata": {},
     "output_type": "execute_result"
    }
   ],
   "source": [
    "o = ['A','B','C']\n",
    "p=[50,60,70]\n",
    "list(map(lambda x,y:(x,y),o,p))"
   ]
  },
  {
   "cell_type": "code",
   "execution_count": 27,
   "metadata": {},
   "outputs": [],
   "source": [
    "class prime:\n",
    "    r=5\n",
    "    g=6"
   ]
  },
  {
   "cell_type": "code",
   "execution_count": 28,
   "metadata": {},
   "outputs": [],
   "source": [
    "prime1 = prime()"
   ]
  },
  {
   "cell_type": "code",
   "execution_count": 29,
   "metadata": {},
   "outputs": [
    {
     "data": {
      "text/plain": [
       "5"
      ]
     },
     "execution_count": 29,
     "metadata": {},
     "output_type": "execute_result"
    }
   ],
   "source": [
    "prime1.r"
   ]
  },
  {
   "cell_type": "code",
   "execution_count": 30,
   "metadata": {},
   "outputs": [],
   "source": [
    "prime1.g = 7"
   ]
  },
  {
   "cell_type": "code",
   "execution_count": 31,
   "metadata": {},
   "outputs": [
    {
     "data": {
      "text/plain": [
       "7"
      ]
     },
     "execution_count": 31,
     "metadata": {},
     "output_type": "execute_result"
    }
   ],
   "source": [
    "prime1.g"
   ]
  },
  {
   "cell_type": "code",
   "execution_count": 35,
   "metadata": {},
   "outputs": [
    {
     "name": "stdout",
     "output_type": "stream",
     "text": [
      "e,g,g\n"
     ]
    }
   ],
   "source": [
    "L = ['e','g','g']\n",
    "print(','.join(L))"
   ]
  },
  {
   "cell_type": "code",
   "execution_count": 38,
   "metadata": {},
   "outputs": [
    {
     "name": "stdout",
     "output_type": "stream",
     "text": [
      "2,3,4,5,6,7,8,9,10,11\n"
     ]
    }
   ],
   "source": [
    "print(','.join(map(lambda x:str(x+2),range(10))))"
   ]
  },
  {
   "cell_type": "code",
   "execution_count": 42,
   "metadata": {},
   "outputs": [
    {
     "data": {
      "text/plain": [
       "'你好,我是承翰,今年25歲'"
      ]
     },
     "execution_count": 42,
     "metadata": {},
     "output_type": "execute_result"
    }
   ],
   "source": [
    "'你好,我是%s,今年%d歲' %('承翰',25)"
   ]
  },
  {
   "cell_type": "code",
   "execution_count": 48,
   "metadata": {},
   "outputs": [
    {
     "data": {
      "text/plain": [
       "'我愛你 ...........****...........'"
      ]
     },
     "execution_count": 48,
     "metadata": {},
     "output_type": "execute_result"
    }
   ],
   "source": [
    "star = '****'\n",
    "f'我愛你 {star:.^26}'"
   ]
  },
  {
   "cell_type": "code",
   "execution_count": 49,
   "metadata": {},
   "outputs": [],
   "source": [
    "rawdata = '''yy\n",
    "kk\n",
    "ll\n",
    "\n",
    "pp'''"
   ]
  },
  {
   "cell_type": "code",
   "execution_count": 50,
   "metadata": {},
   "outputs": [],
   "source": [
    "words = rawdata.split('\\n')"
   ]
  },
  {
   "cell_type": "code",
   "execution_count": 51,
   "metadata": {},
   "outputs": [
    {
     "data": {
      "text/plain": [
       "['yy', 'kk', 'll', '', 'pp']"
      ]
     },
     "execution_count": 51,
     "metadata": {},
     "output_type": "execute_result"
    }
   ],
   "source": [
    "words"
   ]
  },
  {
   "cell_type": "code",
   "execution_count": 52,
   "metadata": {},
   "outputs": [
    {
     "data": {
      "text/plain": [
       "'yykkllpp'"
      ]
     },
     "execution_count": 52,
     "metadata": {},
     "output_type": "execute_result"
    }
   ],
   "source": [
    "''.join(words)"
   ]
  },
  {
   "cell_type": "code",
   "execution_count": 53,
   "metadata": {},
   "outputs": [],
   "source": [
    "import numpy as np"
   ]
  },
  {
   "cell_type": "code",
   "execution_count": 63,
   "metadata": {},
   "outputs": [],
   "source": [
    "a = list(np.random.choice(words,3,replace=False))"
   ]
  },
  {
   "cell_type": "code",
   "execution_count": 64,
   "metadata": {},
   "outputs": [
    {
     "data": {
      "text/plain": [
       "['', 'pp', 'kk']"
      ]
     },
     "execution_count": 64,
     "metadata": {},
     "output_type": "execute_result"
    }
   ],
   "source": [
    "a"
   ]
  },
  {
   "cell_type": "code",
   "execution_count": 65,
   "metadata": {},
   "outputs": [
    {
     "data": {
      "text/plain": [
       "['', 'pp', 'kk']"
      ]
     },
     "execution_count": 65,
     "metadata": {},
     "output_type": "execute_result"
    }
   ],
   "source": [
    "a"
   ]
  },
  {
   "cell_type": "code",
   "execution_count": 66,
   "metadata": {},
   "outputs": [
    {
     "data": {
      "text/plain": [
       "['', 'pp', 'kk']"
      ]
     },
     "execution_count": 66,
     "metadata": {},
     "output_type": "execute_result"
    }
   ],
   "source": [
    "a"
   ]
  },
  {
   "cell_type": "code",
   "execution_count": 74,
   "metadata": {},
   "outputs": [
    {
     "data": {
      "text/plain": [
       "'llkkyy'"
      ]
     },
     "execution_count": 74,
     "metadata": {},
     "output_type": "execute_result"
    }
   ],
   "source": [
    "''.join(np.random.choice(words,3,False))"
   ]
  },
  {
   "cell_type": "code",
   "execution_count": 1,
   "metadata": {},
   "outputs": [],
   "source": [
    "import numpy as np"
   ]
  },
  {
   "cell_type": "code",
   "execution_count": 3,
   "metadata": {},
   "outputs": [
    {
     "name": "stdout",
     "output_type": "stream",
     "text": [
      "請輸入數字:1234\n",
      "1A1B\n",
      "請輸入數字:5678\n",
      "0A2B\n",
      "請輸入數字:1526\n",
      "0A3B\n",
      "請輸入數字:6152\n",
      "0A3B\n",
      "請輸入數字:2615\n",
      "2A1B\n",
      "請輸入數字:2610\n",
      "1A1B\n",
      "請輸入數字:2905\n",
      "1A1B\n",
      "請輸入數字:9215\n",
      "3A0B\n",
      "請輸入數字:7215\n",
      "太神了\n"
     ]
    }
   ],
   "source": [
    "write = ''\n",
    "a = ''.join(np.random.choice(list(map(str,range(10))),4,False))\n",
    "\n",
    "while str(write)!=a:\n",
    "    write = input('請輸入數字:')\n",
    "    K = str(write)\n",
    "    La = [i for i in range(len(a)) if a[i]==K[i]]\n",
    "    Lb = [i for i in range(len(a)) if (K[i] in a) and (K[i]!=a[i])]\n",
    "    if K!=a:\n",
    "        print(f'{len(La)}A{len(Lb)}B')\n",
    "    else:\n",
    "        print('太神了')"
   ]
  },
  {
   "cell_type": "code",
   "execution_count": 4,
   "metadata": {},
   "outputs": [],
   "source": [
    "from IPython.display import display"
   ]
  },
  {
   "cell_type": "code",
   "execution_count": 5,
   "metadata": {},
   "outputs": [],
   "source": [
    "from IPython.display import Markdown"
   ]
  },
  {
   "cell_type": "code",
   "execution_count": 6,
   "metadata": {},
   "outputs": [
    {
     "data": {
      "text/markdown": [
       "## 你好!"
      ],
      "text/plain": [
       "<IPython.core.display.Markdown object>"
      ]
     },
     "execution_count": 6,
     "metadata": {},
     "output_type": "execute_result"
    }
   ],
   "source": [
    "egg = r'## 你好!'\n",
    "Markdown(egg)"
   ]
  },
  {
   "cell_type": "code",
   "execution_count": 7,
   "metadata": {},
   "outputs": [
    {
     "data": {
      "text/markdown": [
       "## 你好!"
      ],
      "text/plain": [
       "<IPython.core.display.Markdown object>"
      ]
     },
     "metadata": {},
     "output_type": "display_data"
    }
   ],
   "source": [
    "display(Markdown(egg))"
   ]
  },
  {
   "cell_type": "code",
   "execution_count": 8,
   "metadata": {},
   "outputs": [
    {
     "name": "stdout",
     "output_type": "stream",
     "text": [
      "請問一加一等於多少2\n"
     ]
    },
    {
     "data": {
      "text/markdown": [
       "## 太神了!!!!!!"
      ],
      "text/plain": [
       "<IPython.core.display.Markdown object>"
      ]
     },
     "metadata": {},
     "output_type": "display_data"
    }
   ],
   "source": [
    "ans = input('請問一加一等於多少')\n",
    "display(Markdown(r'## 太神了!!!!!!'))"
   ]
  },
  {
   "cell_type": "code",
   "execution_count": 9,
   "metadata": {},
   "outputs": [],
   "source": [
    "from IPython.display import YouTubeVideo"
   ]
  },
  {
   "cell_type": "code",
   "execution_count": 14,
   "metadata": {},
   "outputs": [],
   "source": [
    "egg = YouTubeVideo('I2uCbli2Zg4')"
   ]
  },
  {
   "cell_type": "code",
   "execution_count": 15,
   "metadata": {},
   "outputs": [
    {
     "data": {
      "image/jpeg": "[encoded data removed]",
      "text/html": [
       "\n",
       "        <iframe\n",
       "            width=\"400\"\n",
       "            height=\"300\"\n",
       "            src=\"https://www.youtube.com/embed/I2uCbli2Zg4\"\n",
       "            frameborder=\"0\"\n",
       "            allowfullscreen\n",
       "        ></iframe>\n",
       "        "
      ],
      "text/plain": [
       "<IPython.lib.display.YouTubeVideo at 0x1ae31ea5208>"
      ]
     },
     "metadata": {},
     "output_type": "display_data"
    }
   ],
   "source": [
    "display(egg)"
   ]
  },
  {
   "cell_type": "code",
   "execution_count": 16,
   "metadata": {},
   "outputs": [],
   "source": [
    "egg = ['a','b','c']"
   ]
  },
  {
   "cell_type": "code",
   "execution_count": 17,
   "metadata": {},
   "outputs": [
    {
     "data": {
      "text/plain": [
       "<enumerate at 0x1ae31daf598>"
      ]
     },
     "execution_count": 17,
     "metadata": {},
     "output_type": "execute_result"
    }
   ],
   "source": [
    "enumerate(egg)"
   ]
  },
  {
   "cell_type": "code",
   "execution_count": 18,
   "metadata": {},
   "outputs": [
    {
     "data": {
      "text/plain": [
       "[(0, 'a'), (1, 'b'), (2, 'c')]"
      ]
     },
     "execution_count": 18,
     "metadata": {},
     "output_type": "execute_result"
    }
   ],
   "source": [
    "list(enumerate(egg))"
   ]
  },
  {
   "cell_type": "code",
   "execution_count": 27,
   "metadata": {},
   "outputs": [
    {
     "name": "stdout",
     "output_type": "stream",
     "text": [
      "請輸入你的身分證字號:1\n",
      "星期一 可以買口罩\n",
      "星期二 不可以買口罩\n",
      "星期三 可以買口罩\n",
      "星期四 不可以買口罩\n",
      "星期五 可以買口罩\n",
      "星期六 不可以買口罩\n",
      "星期日 大家都可以買口罩\n"
     ]
    }
   ],
   "source": [
    "M = ['不可以買口罩','可以買口罩']\n",
    "L = '一 二 三 四 五 六'.split(' ')\n",
    "\n",
    "number = input('請輸入你的身分證字號:')\n",
    "\n",
    "for i,item in enumerate(L):\n",
    "    if int(number[-1])%2==0:\n",
    "        print(f'星期{item}',M[i%2])\n",
    "    else:\n",
    "        print(f'星期{item}',M[(i+1)%2])\n",
    "print('星期日 大家都可以買口罩')"
   ]
  },
  {
   "cell_type": "code",
   "execution_count": 28,
   "metadata": {},
   "outputs": [],
   "source": [
    "import numpy as np"
   ]
  },
  {
   "cell_type": "code",
   "execution_count": 29,
   "metadata": {},
   "outputs": [],
   "source": [
    "vocabulary = {'apple':'蘋果','orange':'橘子'}"
   ]
  },
  {
   "cell_type": "code",
   "execution_count": 34,
   "metadata": {},
   "outputs": [],
   "source": [
    "f = open('vocabulary.csv','w')"
   ]
  },
  {
   "cell_type": "code",
   "execution_count": 35,
   "metadata": {},
   "outputs": [],
   "source": [
    "for i in vocabulary.keys():\n",
    "    print(f'{i}是{vocabulary[i]}',file=f)"
   ]
  },
  {
   "cell_type": "code",
   "execution_count": 36,
   "metadata": {},
   "outputs": [],
   "source": [
    "f.close()"
   ]
  },
  {
   "cell_type": "code",
   "execution_count": 37,
   "metadata": {},
   "outputs": [
    {
     "name": "stdout",
     "output_type": "stream",
     "text": [
      " 磁碟區 C 中的磁碟是 OS\n",
      " 磁碟區序號:  8E14-4C10\n",
      "\n",
      " C:\\Users\\Tony\\Desktop\\opening 的目錄\n",
      "\n",
      "2020/07/18  上午 11:55    <DIR>          .\n",
      "2020/07/18  上午 11:55    <DIR>          ..\n",
      "2020/07/12  下午 04:16                44 .gitignore\n",
      "2020/07/18  上午 11:06    <DIR>          .ipynb_checkpoints\n",
      "2020/07/12  下午 04:16                 9 README.md\n",
      "2020/07/12  下午 04:16    <DIR>          TDA相關\n",
      "2020/07/18  上午 11:54                27 vocabulary.csv\n",
      "2020/07/12  下午 04:16            21,246 三大法人連買日數.ipynb\n",
      "2020/07/18  上午 11:55            88,665 小練習.ipynb\n",
      "2020/07/17  下午 09:16             2,383 互動介面.ipynb\n",
      "2020/07/12  下午 04:16            25,614 合併欄位.ipynb\n",
      "2020/07/12  下午 04:16             4,966 含息報酬率.ipynb\n",
      "2020/07/12  下午 04:16    <DIR>          爬蟲相關\n",
      "2020/07/12  下午 04:16    <DIR>          股票相關\n",
      "2020/07/12  下午 04:16            49,265 金融海嘯.ipynb\n",
      "2020/07/12  下午 04:16             1,556 動態規劃加強版.ipynb\n",
      "2020/07/12  下午 04:16    <DIR>          基本python練習\n",
      "2020/07/12  下午 04:16           108,813 富邦00692.ipynb\n",
      "2020/07/12  下午 04:16    <DIR>          畫圖相關\n",
      "2020/07/12  下午 04:16            29,610 匯率整理.ipynb\n",
      "2020/07/12  下午 04:16            62,418 練習畫圖.ipynb\n",
      "2020/07/12  下午 04:16    <DIR>          機器學習\n",
      "2020/07/12  下午 04:16            85,996 歷史油價.ipynb\n",
      "              14 個檔案         480,612 位元組\n",
      "               9 個目錄  445,813,768,192 位元組可用\n"
     ]
    }
   ],
   "source": [
    "%ls"
   ]
  },
  {
   "cell_type": "code",
   "execution_count": 38,
   "metadata": {},
   "outputs": [],
   "source": [
    "f = open('vocabulary.csv','r')"
   ]
  },
  {
   "cell_type": "code",
   "execution_count": 39,
   "metadata": {},
   "outputs": [
    {
     "data": {
      "text/plain": [
       "['apple是蘋果\\n', 'orange是橘子\\n']"
      ]
     },
     "execution_count": 39,
     "metadata": {},
     "output_type": "execute_result"
    }
   ],
   "source": [
    "f.readlines()"
   ]
  },
  {
   "cell_type": "code",
   "execution_count": 41,
   "metadata": {},
   "outputs": [
    {
     "data": {
      "text/plain": [
       "''"
      ]
     },
     "execution_count": 41,
     "metadata": {},
     "output_type": "execute_result"
    }
   ],
   "source": [
    "f.readline()"
   ]
  },
  {
   "cell_type": "code",
   "execution_count": 42,
   "metadata": {},
   "outputs": [
    {
     "data": {
      "text/plain": [
       "''"
      ]
     },
     "execution_count": 42,
     "metadata": {},
     "output_type": "execute_result"
    }
   ],
   "source": [
    "f.read()"
   ]
  },
  {
   "cell_type": "code",
   "execution_count": 43,
   "metadata": {},
   "outputs": [],
   "source": [
    "f.close()"
   ]
  },
  {
   "cell_type": "code",
   "execution_count": 44,
   "metadata": {},
   "outputs": [],
   "source": [
    "f = open('vocabulary.csv','a')"
   ]
  },
  {
   "cell_type": "code",
   "execution_count": 45,
   "metadata": {},
   "outputs": [],
   "source": [
    "print('kkkkk',file=f)"
   ]
  },
  {
   "cell_type": "code",
   "execution_count": 46,
   "metadata": {},
   "outputs": [],
   "source": [
    "f.close()"
   ]
  },
  {
   "cell_type": "code",
   "execution_count": 47,
   "metadata": {},
   "outputs": [],
   "source": [
    "%matplotlib inline\n",
    "\n",
    "import matplotlib.pyplot as plt\n",
    "import numpy as np"
   ]
  },
  {
   "cell_type": "code",
   "execution_count": 48,
   "metadata": {},
   "outputs": [],
   "source": [
    "import matplotlib as mpl"
   ]
  },
  {
   "cell_type": "code",
   "execution_count": 58,
   "metadata": {},
   "outputs": [
    {
     "name": "stderr",
     "output_type": "stream",
     "text": [
      "'rm' 不是內部或外部命令、可執行的程式或批次檔。\n"
     ]
    }
   ],
   "source": [
    "!rm -rf {mpl.get_cachedir()}\n",
    "mpl.font_manager._rebuild()"
   ]
  },
  {
   "cell_type": "code",
   "execution_count": 65,
   "metadata": {},
   "outputs": [],
   "source": [
    "mpl.rc('font',family = 'Noto Sans CJK TC')"
   ]
  },
  {
   "cell_type": "code",
   "execution_count": 62,
   "metadata": {},
   "outputs": [
    {
     "name": "stdout",
     "output_type": "stream",
     "text": [
      "C:\\ProgramData\\Anaconda3\\lib\\site-packages\\matplotlib\\__init__.py\n"
     ]
    }
   ],
   "source": [
    "print(mpl.__file__)"
   ]
  },
  {
   "cell_type": "code",
   "execution_count": 63,
   "metadata": {},
   "outputs": [],
   "source": [
    "import matplotlib as mpl"
   ]
  },
  {
   "cell_type": "code",
   "execution_count": 64,
   "metadata": {
    "scrolled": true
   },
   "outputs": [
    {
     "name": "stdout",
     "output_type": "stream",
     "text": [
      "Agency FB\n",
      "Agency FB\n",
      "Algerian\n",
      "Arial\n",
      "Arial\n",
      "Arial\n",
      "Arial\n",
      "Arial\n",
      "Arial\n",
      "Arial\n",
      "Arial\n",
      "Arial\n",
      "Arial Rounded MT Bold\n",
      "Bahnschrift\n",
      "Baskerville Old Face\n",
      "Bauhaus 93\n",
      "Bell MT\n",
      "Bell MT\n",
      "Bell MT\n",
      "Berlin Sans FB\n",
      "Berlin Sans FB\n",
      "Berlin Sans FB Demi\n",
      "Bernard MT Condensed\n",
      "Blackadder ITC\n",
      "Bodoni MT\n",
      "Bodoni MT\n",
      "Bodoni MT\n",
      "Bodoni MT\n",
      "Bodoni MT\n",
      "Bodoni MT\n",
      "Bodoni MT\n",
      "Bodoni MT\n",
      "Bodoni MT\n",
      "Bodoni MT\n",
      "Bodoni MT\n",
      "Book Antiqua\n",
      "Book Antiqua\n",
      "Book Antiqua\n",
      "Book Antiqua\n",
      "Bookman Old Style\n",
      "Bookman Old Style\n",
      "Bookman Old Style\n",
      "Bookman Old Style\n",
      "Bookshelf Symbol 7\n",
      "Bradley Hand ITC\n",
      "Britannic Bold\n",
      "Broadway\n",
      "Brush Script MT\n",
      "Calibri\n",
      "Calibri\n",
      "Calibri\n",
      "Calibri\n",
      "Calibri\n",
      "Calibri\n",
      "Californian FB\n",
      "Californian FB\n",
      "Californian FB\n",
      "Calisto MT\n",
      "Calisto MT\n",
      "Calisto MT\n",
      "Calisto MT\n",
      "Cambria\n",
      "Cambria\n",
      "Cambria\n",
      "Cambria\n",
      "Candara\n",
      "Candara\n",
      "Candara\n",
      "Candara\n",
      "Candara\n",
      "Candara\n",
      "Castellar\n",
      "Centaur\n",
      "Century\n",
      "Century Gothic\n",
      "Century Gothic\n",
      "Century Gothic\n",
      "Century Gothic\n",
      "Century Schoolbook\n",
      "Century Schoolbook\n",
      "Century Schoolbook\n",
      "Century Schoolbook\n",
      "Chiller\n",
      "Colonna MT\n",
      "Comic Sans MS\n",
      "Comic Sans MS\n",
      "Comic Sans MS\n",
      "Comic Sans MS\n",
      "Consolas\n",
      "Consolas\n",
      "Consolas\n",
      "Consolas\n",
      "Constantia\n",
      "Constantia\n",
      "Constantia\n",
      "Constantia\n",
      "Cooper Black\n",
      "Copperplate Gothic Bold\n",
      "Copperplate Gothic Light\n",
      "Corbel\n",
      "Corbel\n",
      "Corbel\n",
      "Corbel\n",
      "Corbel\n",
      "Corbel\n",
      "Courier New\n",
      "Courier New\n",
      "Courier New\n",
      "Courier New\n",
      "Curlz MT\n",
      "DFKai-SB\n",
      "DejaVu Sans\n",
      "DejaVu Sans\n",
      "DejaVu Sans\n",
      "DejaVu Sans\n",
      "DejaVu Sans Display\n",
      "DejaVu Sans Mono\n",
      "DejaVu Sans Mono\n",
      "DejaVu Sans Mono\n",
      "DejaVu Sans Mono\n",
      "DejaVu Serif\n",
      "DejaVu Serif\n",
      "DejaVu Serif\n",
      "DejaVu Serif\n",
      "DejaVu Serif Display\n",
      "Dubai\n",
      "Dubai\n",
      "Dubai\n",
      "Dubai\n",
      "Ebrima\n",
      "Ebrima\n",
      "Edwardian Script ITC\n",
      "Elephant\n",
      "Elephant\n",
      "Engravers MT\n",
      "Eras Bold ITC\n",
      "Eras Demi ITC\n",
      "Eras Light ITC\n",
      "Eras Medium ITC\n",
      "FZShuTi\n",
      "FZYaoTi\n",
      "Felix Titling\n",
      "Footlight MT Light\n",
      "Forte\n",
      "Franklin Gothic Book\n",
      "Franklin Gothic Book\n",
      "Franklin Gothic Demi\n",
      "Franklin Gothic Demi\n",
      "Franklin Gothic Demi Cond\n",
      "Franklin Gothic Heavy\n",
      "Franklin Gothic Heavy\n",
      "Franklin Gothic Medium\n",
      "Franklin Gothic Medium\n",
      "Franklin Gothic Medium Cond\n",
      "Freestyle Script\n",
      "French Script MT\n",
      "Gabriola\n",
      "Gadugi\n",
      "Gadugi\n",
      "Garamond\n",
      "Garamond\n",
      "Garamond\n",
      "Georgia\n",
      "Georgia\n",
      "Georgia\n",
      "Georgia\n",
      "Gigi\n",
      "Gill Sans MT\n",
      "Gill Sans MT\n",
      "Gill Sans MT\n",
      "Gill Sans MT\n",
      "Gill Sans MT Condensed\n",
      "Gill Sans MT Ext Condensed Bold\n",
      "Gill Sans Ultra Bold\n",
      "Gill Sans Ultra Bold Condensed\n",
      "Gloucester MT Extra Condensed\n",
      "Goudy Old Style\n",
      "Goudy Old Style\n",
      "Goudy Old Style\n",
      "Goudy Stout\n",
      "Haettenschweiler\n",
      "Harlow Solid Italic\n",
      "Harrington\n",
      "High Tower Text\n",
      "High Tower Text\n",
      "HoloLens MDL2 Assets\n",
      "Impact\n",
      "Imprint MT Shadow\n",
      "Informal Roman\n",
      "Ink Free\n",
      "Javanese Text\n",
      "Jokerman\n",
      "Juice ITC\n",
      "Kristen ITC\n",
      "Kunstler Script\n",
      "Leelawadee UI\n",
      "Leelawadee UI\n",
      "Leelawadee UI\n",
      "LiSu\n",
      "Lucida Bright\n",
      "Lucida Bright\n",
      "Lucida Bright\n",
      "Lucida Bright\n",
      "Lucida Calligraphy\n",
      "Lucida Console\n",
      "Lucida Fax\n",
      "Lucida Fax\n",
      "Lucida Fax\n",
      "Lucida Fax\n",
      "Lucida Handwriting\n",
      "Lucida Sans\n",
      "Lucida Sans\n",
      "Lucida Sans\n",
      "Lucida Sans\n",
      "Lucida Sans Typewriter\n",
      "Lucida Sans Typewriter\n",
      "Lucida Sans Typewriter\n",
      "Lucida Sans Typewriter\n",
      "Lucida Sans Unicode\n",
      "MS Gothic\n",
      "MS Outlook\n",
      "MS Reference Sans Serif\n",
      "MS Reference Specialty\n",
      "MT Extra\n",
      "MV Boli\n",
      "Magneto\n",
      "Maiandra GD\n",
      "Malgun Gothic\n",
      "Malgun Gothic\n",
      "Malgun Gothic\n",
      "Marlett\n",
      "Matura MT Script Capitals\n",
      "Microsoft Himalaya\n",
      "Microsoft JhengHei\n",
      "Microsoft JhengHei\n",
      "Microsoft JhengHei\n",
      "Microsoft New Tai Lue\n",
      "Microsoft New Tai Lue\n",
      "Microsoft PhagsPa\n",
      "Microsoft PhagsPa\n",
      "Microsoft Sans Serif\n",
      "Microsoft Tai Le\n",
      "Microsoft Tai Le\n",
      "Microsoft YaHei\n",
      "Microsoft YaHei\n",
      "Microsoft YaHei\n",
      "Microsoft Yi Baiti\n",
      "MingLiU\n",
      "MingLiU-ExtB\n",
      "Mistral\n",
      "Modern No. 20\n",
      "Mongolian Baiti\n",
      "Monotype Corsiva\n",
      "Myanmar Text\n",
      "Myanmar Text\n",
      "Niagara Engraved\n",
      "Niagara Solid\n",
      "Nirmala UI\n",
      "Nirmala UI\n",
      "Nirmala UI\n",
      "Noto Sans CJK TC\n",
      "OCR A Extended\n",
      "Old English Text MT\n",
      "Onyx\n",
      "Palace Script MT\n",
      "Palatino Linotype\n",
      "Palatino Linotype\n",
      "Palatino Linotype\n",
      "Palatino Linotype\n",
      "Papyrus\n",
      "Parchment\n",
      "Perpetua\n",
      "Perpetua\n",
      "Perpetua\n",
      "Perpetua\n",
      "Perpetua Titling MT\n",
      "Perpetua Titling MT\n",
      "Playbill\n",
      "Poor Richard\n",
      "Pristina\n",
      "ROG Fonts\n",
      "Rage Italic\n",
      "Ravie\n",
      "Rockwell\n",
      "Rockwell\n",
      "Rockwell\n",
      "Rockwell\n",
      "Rockwell Condensed\n",
      "Rockwell Condensed\n",
      "Rockwell Extra Bold\n",
      "STCaiyun\n",
      "STFangsong\n",
      "STHupo\n",
      "STIXGeneral\n",
      "STIXGeneral\n",
      "STIXGeneral\n",
      "STIXGeneral\n",
      "STIXNonUnicode\n",
      "STIXNonUnicode\n",
      "STIXNonUnicode\n",
      "STIXNonUnicode\n",
      "STIXSizeFiveSym\n",
      "STIXSizeFourSym\n",
      "STIXSizeFourSym\n",
      "STIXSizeOneSym\n",
      "STIXSizeOneSym\n",
      "STIXSizeThreeSym\n",
      "STIXSizeThreeSym\n",
      "STIXSizeTwoSym\n",
      "STIXSizeTwoSym\n",
      "STKaiti\n",
      "STLiti\n",
      "STSong\n",
      "STXihei\n",
      "STXingkai\n",
      "STXinwei\n",
      "STZhongsong\n",
      "Script MT Bold\n",
      "Segoe MDL2 Assets\n",
      "Segoe Print\n",
      "Segoe Print\n",
      "Segoe Script\n",
      "Segoe Script\n",
      "Segoe UI\n",
      "Segoe UI\n",
      "Segoe UI\n",
      "Segoe UI\n",
      "Segoe UI\n",
      "Segoe UI\n",
      "Segoe UI\n",
      "Segoe UI\n",
      "Segoe UI\n",
      "Segoe UI\n",
      "Segoe UI\n",
      "Segoe UI\n",
      "Segoe UI Emoji\n",
      "Segoe UI Historic\n",
      "Segoe UI Symbol\n",
      "Showcard Gothic\n",
      "SimSun\n",
      "SimSun-ExtB\n",
      "Sitka Small\n",
      "Sitka Small\n",
      "Sitka Small\n",
      "Sitka Small\n",
      "Snap ITC\n",
      "Stencil\n",
      "Sylfaen\n",
      "Symbol\n",
      "Tahoma\n",
      "Tahoma\n",
      "Tempus Sans ITC\n",
      "Times New Roman\n",
      "Times New Roman\n",
      "Times New Roman\n",
      "Times New Roman\n",
      "Trebuchet MS\n",
      "Trebuchet MS\n",
      "Trebuchet MS\n",
      "Trebuchet MS\n",
      "Tw Cen MT\n",
      "Tw Cen MT\n",
      "Tw Cen MT\n",
      "Tw Cen MT\n",
      "Tw Cen MT Condensed\n",
      "Tw Cen MT Condensed\n",
      "Tw Cen MT Condensed Extra Bold\n",
      "Verdana\n",
      "Verdana\n",
      "Verdana\n",
      "Verdana\n",
      "Viner Hand ITC\n",
      "Vivaldi\n",
      "Vladimir Script\n",
      "Webdings\n",
      "Wide Latin\n",
      "Wingdings\n",
      "Wingdings 2\n",
      "Wingdings 3\n",
      "YouYuan\n",
      "Yu Gothic\n",
      "Yu Gothic\n",
      "Yu Gothic\n",
      "Yu Gothic\n",
      "cmb10\n",
      "cmex10\n",
      "cmmi10\n",
      "cmr10\n",
      "cmss10\n",
      "cmsy10\n",
      "cmtt10\n"
     ]
    }
   ],
   "source": [
    "import matplotlib.font_manager\n",
    " \n",
    "a = sorted([f.name for f in matplotlib.font_manager.fontManager.ttflist])\n",
    " \n",
    "for i in a:\n",
    "    print(i)"
   ]
  },
  {
   "cell_type": "code",
   "execution_count": 73,
   "metadata": {},
   "outputs": [
    {
     "data": {
      "text/plain": [
       "[<matplotlib.lines.Line2D at 0x1ae3b79f848>]"
      ]
     },
     "execution_count": 73,
     "metadata": {},
     "output_type": "execute_result"
    },
    {
     "name": "stderr",
     "output_type": "stream",
     "text": [
      "C:\\ProgramData\\Anaconda3\\lib\\site-packages\\matplotlib\\backends\\backend_agg.py:211: RuntimeWarning: Glyph 8722 missing from current font.\n",
      "  font.set_text(s, 0.0, flags=flags)\n",
      "C:\\ProgramData\\Anaconda3\\lib\\site-packages\\matplotlib\\backends\\backend_agg.py:180: RuntimeWarning: Glyph 8722 missing from current font.\n",
      "  font.set_text(s, 0, flags=flags)\n"
     ]
    },
    {
     "data": {
      "image/png": "[encoded data removed]",
      "text/plain": [
       "<Figure size 432x288 with 1 Axes>"
      ]
     },
     "metadata": {
      "needs_background": "light"
     },
     "output_type": "display_data"
    }
   ],
   "source": [
    "mpl.rcParams['font.family'] = 'Microsoft JhengHei'\n",
    "\n",
    "x = np.linspace(1,100,200)\n",
    "y = np.sin(x)\n",
    "\n",
    "plt.title('來看看我的$\\sin$',fontsize=25)\n",
    "plt.plot(x,y)"
   ]
  },
  {
   "cell_type": "code",
   "execution_count": null,
   "metadata": {},
   "outputs": [],
   "source": []
  }
 ],
 "metadata": {
  "kernelspec": {
   "display_name": "Python 3",
   "language": "python",
   "name": "python3"
  },
  "language_info": {
   "codemirror_mode": {
    "name": "ipython",
    "version": 3
   },
   "file_extension": ".py",
   "mimetype": "text/x-python",
   "name": "python",
   "nbconvert_exporter": "python",
   "pygments_lexer": "ipython3",
   "version": "3.7.6"
  }
 },
 "nbformat": 4,
 "nbformat_minor": 4
}
