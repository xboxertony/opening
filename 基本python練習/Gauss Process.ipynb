{
 "cells": [
  {
   "cell_type": "code",
   "execution_count": 2,
   "metadata": {},
   "outputs": [
    {
     "data": {
      "text/html": [
       "\n",
       "    <div class=\"bk-root\">\n",
       "        <a href=\"https://bokeh.pydata.org\" target=\"_blank\" class=\"bk-logo bk-logo-small bk-logo-notebook\"></a>\n",
       "        <span id=\"1001\">Loading BokehJS ...</span>\n",
       "    </div>"
      ]
     },
     "metadata": {},
     "output_type": "display_data"
    },
    {
     "data": {
      "application/javascript": [
       "\n",
       "(function(root) {\n",
       "  function now() {\n",
       "    return new Date();\n",
       "  }\n",
       "\n",
       "  var force = true;\n",
       "\n",
       "  if (typeof root._bokeh_onload_callbacks === \"undefined\" || force === true) {\n",
       "    root._bokeh_onload_callbacks = [];\n",
       "    root._bokeh_is_loading = undefined;\n",
       "  }\n",
       "\n",
       "  var JS_MIME_TYPE = 'application/javascript';\n",
       "  var HTML_MIME_TYPE = 'text/html';\n",
       "  var EXEC_MIME_TYPE = 'application/vnd.bokehjs_exec.v0+json';\n",
       "  var CLASS_NAME = 'output_bokeh rendered_html';\n",
       "\n",
       "  /**\n",
       "   * Render data to the DOM node\n",
       "   */\n",
       "  function render(props, node) {\n",
       "    var script = document.createElement(\"script\");\n",
       "    node.appendChild(script);\n",
       "  }\n",
       "\n",
       "  /**\n",
       "   * Handle when an output is cleared or removed\n",
       "   */\n",
       "  function handleClearOutput(event, handle) {\n",
       "    var cell = handle.cell;\n",
       "\n",
       "    var id = cell.output_area._bokeh_element_id;\n",
       "    var server_id = cell.output_area._bokeh_server_id;\n",
       "    // Clean up Bokeh references\n",
       "    if (id != null && id in Bokeh.index) {\n",
       "      Bokeh.index[id].model.document.clear();\n",
       "      delete Bokeh.index[id];\n",
       "    }\n",
       "\n",
       "    if (server_id !== undefined) {\n",
       "      // Clean up Bokeh references\n",
       "      var cmd = \"from bokeh.io.state import curstate; print(curstate().uuid_to_server['\" + server_id + \"'].get_sessions()[0].document.roots[0]._id)\";\n",
       "      cell.notebook.kernel.execute(cmd, {\n",
       "        iopub: {\n",
       "          output: function(msg) {\n",
       "            var id = msg.content.text.trim();\n",
       "            if (id in Bokeh.index) {\n",
       "              Bokeh.index[id].model.document.clear();\n",
       "              delete Bokeh.index[id];\n",
       "            }\n",
       "          }\n",
       "        }\n",
       "      });\n",
       "      // Destroy server and session\n",
       "      var cmd = \"import bokeh.io.notebook as ion; ion.destroy_server('\" + server_id + \"')\";\n",
       "      cell.notebook.kernel.execute(cmd);\n",
       "    }\n",
       "  }\n",
       "\n",
       "  /**\n",
       "   * Handle when a new output is added\n",
       "   */\n",
       "  function handleAddOutput(event, handle) {\n",
       "    var output_area = handle.output_area;\n",
       "    var output = handle.output;\n",
       "\n",
       "    // limit handleAddOutput to display_data with EXEC_MIME_TYPE content only\n",
       "    if ((output.output_type != \"display_data\") || (!output.data.hasOwnProperty(EXEC_MIME_TYPE))) {\n",
       "      return\n",
       "    }\n",
       "\n",
       "    var toinsert = output_area.element.find(\".\" + CLASS_NAME.split(' ')[0]);\n",
       "\n",
       "    if (output.metadata[EXEC_MIME_TYPE][\"id\"] !== undefined) {\n",
       "      toinsert[toinsert.length - 1].firstChild.textContent = output.data[JS_MIME_TYPE];\n",
       "      // store reference to embed id on output_area\n",
       "      output_area._bokeh_element_id = output.metadata[EXEC_MIME_TYPE][\"id\"];\n",
       "    }\n",
       "    if (output.metadata[EXEC_MIME_TYPE][\"server_id\"] !== undefined) {\n",
       "      var bk_div = document.createElement(\"div\");\n",
       "      bk_div.innerHTML = output.data[HTML_MIME_TYPE];\n",
       "      var script_attrs = bk_div.children[0].attributes;\n",
       "      for (var i = 0; i < script_attrs.length; i++) {\n",
       "        toinsert[toinsert.length - 1].firstChild.setAttribute(script_attrs[i].name, script_attrs[i].value);\n",
       "      }\n",
       "      // store reference to server id on output_area\n",
       "      output_area._bokeh_server_id = output.metadata[EXEC_MIME_TYPE][\"server_id\"];\n",
       "    }\n",
       "  }\n",
       "\n",
       "  function register_renderer(events, OutputArea) {\n",
       "\n",
       "    function append_mime(data, metadata, element) {\n",
       "      // create a DOM node to render to\n",
       "      var toinsert = this.create_output_subarea(\n",
       "        metadata,\n",
       "        CLASS_NAME,\n",
       "        EXEC_MIME_TYPE\n",
       "      );\n",
       "      this.keyboard_manager.register_events(toinsert);\n",
       "      // Render to node\n",
       "      var props = {data: data, metadata: metadata[EXEC_MIME_TYPE]};\n",
       "      render(props, toinsert[toinsert.length - 1]);\n",
       "      element.append(toinsert);\n",
       "      return toinsert\n",
       "    }\n",
       "\n",
       "    /* Handle when an output is cleared or removed */\n",
       "    events.on('clear_output.CodeCell', handleClearOutput);\n",
       "    events.on('delete.Cell', handleClearOutput);\n",
       "\n",
       "    /* Handle when a new output is added */\n",
       "    events.on('output_added.OutputArea', handleAddOutput);\n",
       "\n",
       "    /**\n",
       "     * Register the mime type and append_mime function with output_area\n",
       "     */\n",
       "    OutputArea.prototype.register_mime_type(EXEC_MIME_TYPE, append_mime, {\n",
       "      /* Is output safe? */\n",
       "      safe: true,\n",
       "      /* Index of renderer in `output_area.display_order` */\n",
       "      index: 0\n",
       "    });\n",
       "  }\n",
       "\n",
       "  // register the mime type if in Jupyter Notebook environment and previously unregistered\n",
       "  if (root.Jupyter !== undefined) {\n",
       "    var events = require('base/js/events');\n",
       "    var OutputArea = require('notebook/js/outputarea').OutputArea;\n",
       "\n",
       "    if (OutputArea.prototype.mime_types().indexOf(EXEC_MIME_TYPE) == -1) {\n",
       "      register_renderer(events, OutputArea);\n",
       "    }\n",
       "  }\n",
       "\n",
       "  \n",
       "  if (typeof (root._bokeh_timeout) === \"undefined\" || force === true) {\n",
       "    root._bokeh_timeout = Date.now() + 5000;\n",
       "    root._bokeh_failed_load = false;\n",
       "  }\n",
       "\n",
       "  var NB_LOAD_WARNING = {'data': {'text/html':\n",
       "     \"<div style='background-color: #fdd'>\\n\"+\n",
       "     \"<p>\\n\"+\n",
       "     \"BokehJS does not appear to have successfully loaded. If loading BokehJS from CDN, this \\n\"+\n",
       "     \"may be due to a slow or bad network connection. Possible fixes:\\n\"+\n",
       "     \"</p>\\n\"+\n",
       "     \"<ul>\\n\"+\n",
       "     \"<li>re-rerun `output_notebook()` to attempt to load from CDN again, or</li>\\n\"+\n",
       "     \"<li>use INLINE resources instead, as so:</li>\\n\"+\n",
       "     \"</ul>\\n\"+\n",
       "     \"<code>\\n\"+\n",
       "     \"from bokeh.resources import INLINE\\n\"+\n",
       "     \"output_notebook(resources=INLINE)\\n\"+\n",
       "     \"</code>\\n\"+\n",
       "     \"</div>\"}};\n",
       "\n",
       "  function display_loaded() {\n",
       "    var el = document.getElementById(\"1001\");\n",
       "    if (el != null) {\n",
       "      el.textContent = \"BokehJS is loading...\";\n",
       "    }\n",
       "    if (root.Bokeh !== undefined) {\n",
       "      if (el != null) {\n",
       "        el.textContent = \"BokehJS \" + root.Bokeh.version + \" successfully loaded.\";\n",
       "      }\n",
       "    } else if (Date.now() < root._bokeh_timeout) {\n",
       "      setTimeout(display_loaded, 100)\n",
       "    }\n",
       "  }\n",
       "\n",
       "\n",
       "  function run_callbacks() {\n",
       "    try {\n",
       "      root._bokeh_onload_callbacks.forEach(function(callback) {\n",
       "        if (callback != null)\n",
       "          callback();\n",
       "      });\n",
       "    } finally {\n",
       "      delete root._bokeh_onload_callbacks\n",
       "    }\n",
       "    console.debug(\"Bokeh: all callbacks have finished\");\n",
       "  }\n",
       "\n",
       "  function load_libs(css_urls, js_urls, callback) {\n",
       "    if (css_urls == null) css_urls = [];\n",
       "    if (js_urls == null) js_urls = [];\n",
       "\n",
       "    root._bokeh_onload_callbacks.push(callback);\n",
       "    if (root._bokeh_is_loading > 0) {\n",
       "      console.debug(\"Bokeh: BokehJS is being loaded, scheduling callback at\", now());\n",
       "      return null;\n",
       "    }\n",
       "    if (js_urls == null || js_urls.length === 0) {\n",
       "      run_callbacks();\n",
       "      return null;\n",
       "    }\n",
       "    console.debug(\"Bokeh: BokehJS not loaded, scheduling load and callback at\", now());\n",
       "    root._bokeh_is_loading = css_urls.length + js_urls.length;\n",
       "\n",
       "    function on_load() {\n",
       "      root._bokeh_is_loading--;\n",
       "      if (root._bokeh_is_loading === 0) {\n",
       "        console.debug(\"Bokeh: all BokehJS libraries/stylesheets loaded\");\n",
       "        run_callbacks()\n",
       "      }\n",
       "    }\n",
       "\n",
       "    function on_error() {\n",
       "      console.error(\"failed to load \" + url);\n",
       "    }\n",
       "\n",
       "    for (var i = 0; i < css_urls.length; i++) {\n",
       "      var url = css_urls[i];\n",
       "      const element = document.createElement(\"link\");\n",
       "      element.onload = on_load;\n",
       "      element.onerror = on_error;\n",
       "      element.rel = \"stylesheet\";\n",
       "      element.type = \"text/css\";\n",
       "      element.href = url;\n",
       "      console.debug(\"Bokeh: injecting link tag for BokehJS stylesheet: \", url);\n",
       "      document.body.appendChild(element);\n",
       "    }\n",
       "\n",
       "    for (var i = 0; i < js_urls.length; i++) {\n",
       "      var url = js_urls[i];\n",
       "      var element = document.createElement('script');\n",
       "      element.onload = on_load;\n",
       "      element.onerror = on_error;\n",
       "      element.async = false;\n",
       "      element.src = url;\n",
       "      console.debug(\"Bokeh: injecting script tag for BokehJS library: \", url);\n",
       "      document.head.appendChild(element);\n",
       "    }\n",
       "  };var element = document.getElementById(\"1001\");\n",
       "  if (element == null) {\n",
       "    console.error(\"Bokeh: ERROR: autoload.js configured with elementid '1001' but no matching script tag was found. \")\n",
       "    return false;\n",
       "  }\n",
       "\n",
       "  function inject_raw_css(css) {\n",
       "    const element = document.createElement(\"style\");\n",
       "    element.appendChild(document.createTextNode(css));\n",
       "    document.body.appendChild(element);\n",
       "  }\n",
       "\n",
       "  var js_urls = [\"https://cdn.pydata.org/bokeh/release/bokeh-1.2.0.min.js\", \"https://cdn.pydata.org/bokeh/release/bokeh-widgets-1.2.0.min.js\", \"https://cdn.pydata.org/bokeh/release/bokeh-tables-1.2.0.min.js\", \"https://cdn.pydata.org/bokeh/release/bokeh-gl-1.2.0.min.js\"];\n",
       "  var css_urls = [\"https://cdn.pydata.org/bokeh/release/bokeh-1.2.0.min.css\", \"https://cdn.pydata.org/bokeh/release/bokeh-widgets-1.2.0.min.css\", \"https://cdn.pydata.org/bokeh/release/bokeh-tables-1.2.0.min.css\"];\n",
       "\n",
       "  var inline_js = [\n",
       "    function(Bokeh) {\n",
       "      Bokeh.set_log_level(\"info\");\n",
       "    },\n",
       "    \n",
       "    function(Bokeh) {\n",
       "      \n",
       "    },\n",
       "    function(Bokeh) {} // ensure no trailing comma for IE\n",
       "  ];\n",
       "\n",
       "  function run_inline_js() {\n",
       "    \n",
       "    if ((root.Bokeh !== undefined) || (force === true)) {\n",
       "      for (var i = 0; i < inline_js.length; i++) {\n",
       "        inline_js[i].call(root, root.Bokeh);\n",
       "      }if (force === true) {\n",
       "        display_loaded();\n",
       "      }} else if (Date.now() < root._bokeh_timeout) {\n",
       "      setTimeout(run_inline_js, 100);\n",
       "    } else if (!root._bokeh_failed_load) {\n",
       "      console.log(\"Bokeh: BokehJS failed to load within specified timeout.\");\n",
       "      root._bokeh_failed_load = true;\n",
       "    } else if (force !== true) {\n",
       "      var cell = $(document.getElementById(\"1001\")).parents('.cell').data().cell;\n",
       "      cell.output_area.append_execute_result(NB_LOAD_WARNING)\n",
       "    }\n",
       "\n",
       "  }\n",
       "\n",
       "  if (root._bokeh_is_loading === 0) {\n",
       "    console.debug(\"Bokeh: BokehJS loaded, going straight to plotting\");\n",
       "    run_inline_js();\n",
       "  } else {\n",
       "    load_libs(css_urls, js_urls, function() {\n",
       "      console.debug(\"Bokeh: BokehJS plotting callback run at\", now());\n",
       "      run_inline_js();\n",
       "    });\n",
       "  }\n",
       "}(window));"
      ],
      "application/vnd.bokehjs_load.v0+json": "\n(function(root) {\n  function now() {\n    return new Date();\n  }\n\n  var force = true;\n\n  if (typeof root._bokeh_onload_callbacks === \"undefined\" || force === true) {\n    root._bokeh_onload_callbacks = [];\n    root._bokeh_is_loading = undefined;\n  }\n\n  \n\n  \n  if (typeof (root._bokeh_timeout) === \"undefined\" || force === true) {\n    root._bokeh_timeout = Date.now() + 5000;\n    root._bokeh_failed_load = false;\n  }\n\n  var NB_LOAD_WARNING = {'data': {'text/html':\n     \"<div style='background-color: #fdd'>\\n\"+\n     \"<p>\\n\"+\n     \"BokehJS does not appear to have successfully loaded. If loading BokehJS from CDN, this \\n\"+\n     \"may be due to a slow or bad network connection. Possible fixes:\\n\"+\n     \"</p>\\n\"+\n     \"<ul>\\n\"+\n     \"<li>re-rerun `output_notebook()` to attempt to load from CDN again, or</li>\\n\"+\n     \"<li>use INLINE resources instead, as so:</li>\\n\"+\n     \"</ul>\\n\"+\n     \"<code>\\n\"+\n     \"from bokeh.resources import INLINE\\n\"+\n     \"output_notebook(resources=INLINE)\\n\"+\n     \"</code>\\n\"+\n     \"</div>\"}};\n\n  function display_loaded() {\n    var el = document.getElementById(\"1001\");\n    if (el != null) {\n      el.textContent = \"BokehJS is loading...\";\n    }\n    if (root.Bokeh !== undefined) {\n      if (el != null) {\n        el.textContent = \"BokehJS \" + root.Bokeh.version + \" successfully loaded.\";\n      }\n    } else if (Date.now() < root._bokeh_timeout) {\n      setTimeout(display_loaded, 100)\n    }\n  }\n\n\n  function run_callbacks() {\n    try {\n      root._bokeh_onload_callbacks.forEach(function(callback) {\n        if (callback != null)\n          callback();\n      });\n    } finally {\n      delete root._bokeh_onload_callbacks\n    }\n    console.debug(\"Bokeh: all callbacks have finished\");\n  }\n\n  function load_libs(css_urls, js_urls, callback) {\n    if (css_urls == null) css_urls = [];\n    if (js_urls == null) js_urls = [];\n\n    root._bokeh_onload_callbacks.push(callback);\n    if (root._bokeh_is_loading > 0) {\n      console.debug(\"Bokeh: BokehJS is being loaded, scheduling callback at\", now());\n      return null;\n    }\n    if (js_urls == null || js_urls.length === 0) {\n      run_callbacks();\n      return null;\n    }\n    console.debug(\"Bokeh: BokehJS not loaded, scheduling load and callback at\", now());\n    root._bokeh_is_loading = css_urls.length + js_urls.length;\n\n    function on_load() {\n      root._bokeh_is_loading--;\n      if (root._bokeh_is_loading === 0) {\n        console.debug(\"Bokeh: all BokehJS libraries/stylesheets loaded\");\n        run_callbacks()\n      }\n    }\n\n    function on_error() {\n      console.error(\"failed to load \" + url);\n    }\n\n    for (var i = 0; i < css_urls.length; i++) {\n      var url = css_urls[i];\n      const element = document.createElement(\"link\");\n      element.onload = on_load;\n      element.onerror = on_error;\n      element.rel = \"stylesheet\";\n      element.type = \"text/css\";\n      element.href = url;\n      console.debug(\"Bokeh: injecting link tag for BokehJS stylesheet: \", url);\n      document.body.appendChild(element);\n    }\n\n    for (var i = 0; i < js_urls.length; i++) {\n      var url = js_urls[i];\n      var element = document.createElement('script');\n      element.onload = on_load;\n      element.onerror = on_error;\n      element.async = false;\n      element.src = url;\n      console.debug(\"Bokeh: injecting script tag for BokehJS library: \", url);\n      document.head.appendChild(element);\n    }\n  };var element = document.getElementById(\"1001\");\n  if (element == null) {\n    console.error(\"Bokeh: ERROR: autoload.js configured with elementid '1001' but no matching script tag was found. \")\n    return false;\n  }\n\n  function inject_raw_css(css) {\n    const element = document.createElement(\"style\");\n    element.appendChild(document.createTextNode(css));\n    document.body.appendChild(element);\n  }\n\n  var js_urls = [\"https://cdn.pydata.org/bokeh/release/bokeh-1.2.0.min.js\", \"https://cdn.pydata.org/bokeh/release/bokeh-widgets-1.2.0.min.js\", \"https://cdn.pydata.org/bokeh/release/bokeh-tables-1.2.0.min.js\", \"https://cdn.pydata.org/bokeh/release/bokeh-gl-1.2.0.min.js\"];\n  var css_urls = [\"https://cdn.pydata.org/bokeh/release/bokeh-1.2.0.min.css\", \"https://cdn.pydata.org/bokeh/release/bokeh-widgets-1.2.0.min.css\", \"https://cdn.pydata.org/bokeh/release/bokeh-tables-1.2.0.min.css\"];\n\n  var inline_js = [\n    function(Bokeh) {\n      Bokeh.set_log_level(\"info\");\n    },\n    \n    function(Bokeh) {\n      \n    },\n    function(Bokeh) {} // ensure no trailing comma for IE\n  ];\n\n  function run_inline_js() {\n    \n    if ((root.Bokeh !== undefined) || (force === true)) {\n      for (var i = 0; i < inline_js.length; i++) {\n        inline_js[i].call(root, root.Bokeh);\n      }if (force === true) {\n        display_loaded();\n      }} else if (Date.now() < root._bokeh_timeout) {\n      setTimeout(run_inline_js, 100);\n    } else if (!root._bokeh_failed_load) {\n      console.log(\"Bokeh: BokehJS failed to load within specified timeout.\");\n      root._bokeh_failed_load = true;\n    } else if (force !== true) {\n      var cell = $(document.getElementById(\"1001\")).parents('.cell').data().cell;\n      cell.output_area.append_execute_result(NB_LOAD_WARNING)\n    }\n\n  }\n\n  if (root._bokeh_is_loading === 0) {\n    console.debug(\"Bokeh: BokehJS loaded, going straight to plotting\");\n    run_inline_js();\n  } else {\n    load_libs(css_urls, js_urls, function() {\n      console.debug(\"Bokeh: BokehJS plotting callback run at\", now());\n      run_inline_js();\n    });\n  }\n}(window));"
     },
     "metadata": {},
     "output_type": "display_data"
    }
   ],
   "source": [
    "import numpy as np\n",
    "from bokeh.plotting import figure, show\n",
    "from bokeh.io import output_notebook\n",
    "from bokeh.models import LinearColorMapper, BasicTicker, ColorBar\n",
    "from bokeh.palettes import Category10\n",
    "output_notebook()"
   ]
  },
  {
   "cell_type": "code",
   "execution_count": 6,
   "metadata": {},
   "outputs": [
    {
     "data": {
      "text/plain": [
       "['#1f77b4',\n",
       " '#ff7f0e',\n",
       " '#2ca02c',\n",
       " '#d62728',\n",
       " '#9467bd',\n",
       " '#8c564b',\n",
       " '#e377c2',\n",
       " '#7f7f7f',\n",
       " '#bcbd22',\n",
       " '#17becf']"
      ]
     },
     "execution_count": 6,
     "metadata": {},
     "output_type": "execute_result"
    }
   ],
   "source": [
    "Category10[10]"
   ]
  },
  {
   "cell_type": "code",
   "execution_count": 16,
   "metadata": {},
   "outputs": [],
   "source": [
    "ys = np.random.multivariate_normal(np.zeros(3), np.eye(3))"
   ]
  },
  {
   "cell_type": "code",
   "execution_count": 17,
   "metadata": {},
   "outputs": [
    {
     "data": {
      "text/plain": [
       "array([0.10165967, 1.48336598, 0.79460701])"
      ]
     },
     "execution_count": 17,
     "metadata": {},
     "output_type": "execute_result"
    }
   ],
   "source": [
    "ys"
   ]
  },
  {
   "cell_type": "code",
   "execution_count": 18,
   "metadata": {},
   "outputs": [
    {
     "data": {
      "text/plain": [
       "array([0., 0., 0.])"
      ]
     },
     "execution_count": 18,
     "metadata": {},
     "output_type": "execute_result"
    }
   ],
   "source": [
    "np.zeros(3)"
   ]
  },
  {
   "cell_type": "code",
   "execution_count": 19,
   "metadata": {},
   "outputs": [
    {
     "data": {
      "text/plain": [
       "array([[1., 0., 0.],\n",
       "       [0., 1., 0.],\n",
       "       [0., 0., 1.]])"
      ]
     },
     "execution_count": 19,
     "metadata": {},
     "output_type": "execute_result"
    }
   ],
   "source": [
    "np.eye(3)"
   ]
  },
  {
   "cell_type": "code",
   "execution_count": 11,
   "metadata": {},
   "outputs": [],
   "source": [
    "xs = np.linspace(0, 1, 2)"
   ]
  },
  {
   "cell_type": "code",
   "execution_count": 12,
   "metadata": {},
   "outputs": [
    {
     "data": {
      "text/plain": [
       "array([0., 1.])"
      ]
     },
     "execution_count": 12,
     "metadata": {},
     "output_type": "execute_result"
    }
   ],
   "source": [
    "xs"
   ]
  },
  {
   "cell_type": "code",
   "execution_count": 13,
   "metadata": {},
   "outputs": [],
   "source": [
    "def plot_unit_gaussian_samples(D):\n",
    "    p = figure(plot_width=800, plot_height=500, title='Samples from a unit {}D Gaussian'.format(D))\n",
    "\n",
    "    xs = np.linspace(0, 1, D)\n",
    "    for color in Category10[10]:\n",
    "        ys = np.random.multivariate_normal(np.zeros(D), np.eye(D))\n",
    "        p.line(xs, ys, line_width=1, color=color)\n",
    "    return p"
   ]
  },
  {
   "cell_type": "code",
   "execution_count": 20,
   "metadata": {},
   "outputs": [
    {
     "data": {
      "text/html": [
       "<div style=\"display: table;\"><div style=\"display: table-row;\"><div style=\"display: table-cell;\"><b title=\"bokeh.plotting.figure.Figure\">Figure</b>(</div><div style=\"display: table-cell;\">id&nbsp;=&nbsp;'1355', <span id=\"1440\" style=\"cursor: pointer;\">&hellip;)</span></div></div><div class=\"1439\" style=\"display: none;\"><div style=\"display: table-cell;\"></div><div style=\"display: table-cell;\">above&nbsp;=&nbsp;[],</div></div><div class=\"1439\" style=\"display: none;\"><div style=\"display: table-cell;\"></div><div style=\"display: table-cell;\">align&nbsp;=&nbsp;'start',</div></div><div class=\"1439\" style=\"display: none;\"><div style=\"display: table-cell;\"></div><div style=\"display: table-cell;\">aspect_ratio&nbsp;=&nbsp;None,</div></div><div class=\"1439\" style=\"display: none;\"><div style=\"display: table-cell;\"></div><div style=\"display: table-cell;\">aspect_scale&nbsp;=&nbsp;1,</div></div><div class=\"1439\" style=\"display: none;\"><div style=\"display: table-cell;\"></div><div style=\"display: table-cell;\">background&nbsp;=&nbsp;None,</div></div><div class=\"1439\" style=\"display: none;\"><div style=\"display: table-cell;\"></div><div style=\"display: table-cell;\">background_fill_alpha&nbsp;=&nbsp;{'value': 1.0},</div></div><div class=\"1439\" style=\"display: none;\"><div style=\"display: table-cell;\"></div><div style=\"display: table-cell;\">background_fill_color&nbsp;=&nbsp;{'value': '#ffffff'},</div></div><div class=\"1439\" style=\"display: none;\"><div style=\"display: table-cell;\"></div><div style=\"display: table-cell;\">below&nbsp;=&nbsp;[LinearAxis(id='1366', ...)],</div></div><div class=\"1439\" style=\"display: none;\"><div style=\"display: table-cell;\"></div><div style=\"display: table-cell;\">border_fill_alpha&nbsp;=&nbsp;{'value': 1.0},</div></div><div class=\"1439\" style=\"display: none;\"><div style=\"display: table-cell;\"></div><div style=\"display: table-cell;\">border_fill_color&nbsp;=&nbsp;{'value': '#ffffff'},</div></div><div class=\"1439\" style=\"display: none;\"><div style=\"display: table-cell;\"></div><div style=\"display: table-cell;\">center&nbsp;=&nbsp;[Grid(id='1370', ...), Grid(id='1375', ...)],</div></div><div class=\"1439\" style=\"display: none;\"><div style=\"display: table-cell;\"></div><div style=\"display: table-cell;\">css_classes&nbsp;=&nbsp;[],</div></div><div class=\"1439\" style=\"display: none;\"><div style=\"display: table-cell;\"></div><div style=\"display: table-cell;\">disabled&nbsp;=&nbsp;False,</div></div><div class=\"1439\" style=\"display: none;\"><div style=\"display: table-cell;\"></div><div style=\"display: table-cell;\">extra_x_ranges&nbsp;=&nbsp;{},</div></div><div class=\"1439\" style=\"display: none;\"><div style=\"display: table-cell;\"></div><div style=\"display: table-cell;\">extra_y_ranges&nbsp;=&nbsp;{},</div></div><div class=\"1439\" style=\"display: none;\"><div style=\"display: table-cell;\"></div><div style=\"display: table-cell;\">frame_height&nbsp;=&nbsp;None,</div></div><div class=\"1439\" style=\"display: none;\"><div style=\"display: table-cell;\"></div><div style=\"display: table-cell;\">frame_width&nbsp;=&nbsp;None,</div></div><div class=\"1439\" style=\"display: none;\"><div style=\"display: table-cell;\"></div><div style=\"display: table-cell;\">height&nbsp;=&nbsp;None,</div></div><div class=\"1439\" style=\"display: none;\"><div style=\"display: table-cell;\"></div><div style=\"display: table-cell;\">height_policy&nbsp;=&nbsp;'auto',</div></div><div class=\"1439\" style=\"display: none;\"><div style=\"display: table-cell;\"></div><div style=\"display: table-cell;\">hidpi&nbsp;=&nbsp;True,</div></div><div class=\"1439\" style=\"display: none;\"><div style=\"display: table-cell;\"></div><div style=\"display: table-cell;\">js_event_callbacks&nbsp;=&nbsp;{},</div></div><div class=\"1439\" style=\"display: none;\"><div style=\"display: table-cell;\"></div><div style=\"display: table-cell;\">js_property_callbacks&nbsp;=&nbsp;{},</div></div><div class=\"1439\" style=\"display: none;\"><div style=\"display: table-cell;\"></div><div style=\"display: table-cell;\">left&nbsp;=&nbsp;[LinearAxis(id='1371', ...)],</div></div><div class=\"1439\" style=\"display: none;\"><div style=\"display: table-cell;\"></div><div style=\"display: table-cell;\">lod_factor&nbsp;=&nbsp;10,</div></div><div class=\"1439\" style=\"display: none;\"><div style=\"display: table-cell;\"></div><div style=\"display: table-cell;\">lod_interval&nbsp;=&nbsp;300,</div></div><div class=\"1439\" style=\"display: none;\"><div style=\"display: table-cell;\"></div><div style=\"display: table-cell;\">lod_threshold&nbsp;=&nbsp;2000,</div></div><div class=\"1439\" style=\"display: none;\"><div style=\"display: table-cell;\"></div><div style=\"display: table-cell;\">lod_timeout&nbsp;=&nbsp;500,</div></div><div class=\"1439\" style=\"display: none;\"><div style=\"display: table-cell;\"></div><div style=\"display: table-cell;\">margin&nbsp;=&nbsp;(0, 0, 0, 0),</div></div><div class=\"1439\" style=\"display: none;\"><div style=\"display: table-cell;\"></div><div style=\"display: table-cell;\">match_aspect&nbsp;=&nbsp;False,</div></div><div class=\"1439\" style=\"display: none;\"><div style=\"display: table-cell;\"></div><div style=\"display: table-cell;\">max_height&nbsp;=&nbsp;None,</div></div><div class=\"1439\" style=\"display: none;\"><div style=\"display: table-cell;\"></div><div style=\"display: table-cell;\">max_width&nbsp;=&nbsp;None,</div></div><div class=\"1439\" style=\"display: none;\"><div style=\"display: table-cell;\"></div><div style=\"display: table-cell;\">min_border&nbsp;=&nbsp;5,</div></div><div class=\"1439\" style=\"display: none;\"><div style=\"display: table-cell;\"></div><div style=\"display: table-cell;\">min_border_bottom&nbsp;=&nbsp;None,</div></div><div class=\"1439\" style=\"display: none;\"><div style=\"display: table-cell;\"></div><div style=\"display: table-cell;\">min_border_left&nbsp;=&nbsp;None,</div></div><div class=\"1439\" style=\"display: none;\"><div style=\"display: table-cell;\"></div><div style=\"display: table-cell;\">min_border_right&nbsp;=&nbsp;None,</div></div><div class=\"1439\" style=\"display: none;\"><div style=\"display: table-cell;\"></div><div style=\"display: table-cell;\">min_border_top&nbsp;=&nbsp;None,</div></div><div class=\"1439\" style=\"display: none;\"><div style=\"display: table-cell;\"></div><div style=\"display: table-cell;\">min_height&nbsp;=&nbsp;None,</div></div><div class=\"1439\" style=\"display: none;\"><div style=\"display: table-cell;\"></div><div style=\"display: table-cell;\">min_width&nbsp;=&nbsp;None,</div></div><div class=\"1439\" style=\"display: none;\"><div style=\"display: table-cell;\"></div><div style=\"display: table-cell;\">name&nbsp;=&nbsp;None,</div></div><div class=\"1439\" style=\"display: none;\"><div style=\"display: table-cell;\"></div><div style=\"display: table-cell;\">outline_line_alpha&nbsp;=&nbsp;{'value': 1.0},</div></div><div class=\"1439\" style=\"display: none;\"><div style=\"display: table-cell;\"></div><div style=\"display: table-cell;\">outline_line_cap&nbsp;=&nbsp;'butt',</div></div><div class=\"1439\" style=\"display: none;\"><div style=\"display: table-cell;\"></div><div style=\"display: table-cell;\">outline_line_color&nbsp;=&nbsp;{'value': '#e5e5e5'},</div></div><div class=\"1439\" style=\"display: none;\"><div style=\"display: table-cell;\"></div><div style=\"display: table-cell;\">outline_line_dash&nbsp;=&nbsp;[],</div></div><div class=\"1439\" style=\"display: none;\"><div style=\"display: table-cell;\"></div><div style=\"display: table-cell;\">outline_line_dash_offset&nbsp;=&nbsp;0,</div></div><div class=\"1439\" style=\"display: none;\"><div style=\"display: table-cell;\"></div><div style=\"display: table-cell;\">outline_line_join&nbsp;=&nbsp;'bevel',</div></div><div class=\"1439\" style=\"display: none;\"><div style=\"display: table-cell;\"></div><div style=\"display: table-cell;\">outline_line_width&nbsp;=&nbsp;{'value': 1},</div></div><div class=\"1439\" style=\"display: none;\"><div style=\"display: table-cell;\"></div><div style=\"display: table-cell;\">output_backend&nbsp;=&nbsp;'canvas',</div></div><div class=\"1439\" style=\"display: none;\"><div style=\"display: table-cell;\"></div><div style=\"display: table-cell;\">plot_height&nbsp;=&nbsp;500,</div></div><div class=\"1439\" style=\"display: none;\"><div style=\"display: table-cell;\"></div><div style=\"display: table-cell;\">plot_width&nbsp;=&nbsp;800,</div></div><div class=\"1439\" style=\"display: none;\"><div style=\"display: table-cell;\"></div><div style=\"display: table-cell;\">renderers&nbsp;=&nbsp;[GlyphRenderer(id='1392', ...), GlyphRenderer(id='1397', ...), GlyphRenderer(id='1402', ...), GlyphRenderer(id='1407', ...), GlyphRenderer(id='1412', ...), GlyphRenderer(id='1417', ...), GlyphRenderer(id='1422', ...), GlyphRenderer(id='1427', ...), GlyphRenderer(id='1432', ...), GlyphRenderer(id='1437', ...)],</div></div><div class=\"1439\" style=\"display: none;\"><div style=\"display: table-cell;\"></div><div style=\"display: table-cell;\">reset_policy&nbsp;=&nbsp;'standard',</div></div><div class=\"1439\" style=\"display: none;\"><div style=\"display: table-cell;\"></div><div style=\"display: table-cell;\">right&nbsp;=&nbsp;[],</div></div><div class=\"1439\" style=\"display: none;\"><div style=\"display: table-cell;\"></div><div style=\"display: table-cell;\">sizing_mode&nbsp;=&nbsp;None,</div></div><div class=\"1439\" style=\"display: none;\"><div style=\"display: table-cell;\"></div><div style=\"display: table-cell;\">subscribed_events&nbsp;=&nbsp;[],</div></div><div class=\"1439\" style=\"display: none;\"><div style=\"display: table-cell;\"></div><div style=\"display: table-cell;\">tags&nbsp;=&nbsp;[],</div></div><div class=\"1439\" style=\"display: none;\"><div style=\"display: table-cell;\"></div><div style=\"display: table-cell;\">title&nbsp;=&nbsp;Title(id='1356', ...),</div></div><div class=\"1439\" style=\"display: none;\"><div style=\"display: table-cell;\"></div><div style=\"display: table-cell;\">title_location&nbsp;=&nbsp;'above',</div></div><div class=\"1439\" style=\"display: none;\"><div style=\"display: table-cell;\"></div><div style=\"display: table-cell;\">toolbar&nbsp;=&nbsp;Toolbar(id='1382', ...),</div></div><div class=\"1439\" style=\"display: none;\"><div style=\"display: table-cell;\"></div><div style=\"display: table-cell;\">toolbar_location&nbsp;=&nbsp;'right',</div></div><div class=\"1439\" style=\"display: none;\"><div style=\"display: table-cell;\"></div><div style=\"display: table-cell;\">toolbar_sticky&nbsp;=&nbsp;True,</div></div><div class=\"1439\" style=\"display: none;\"><div style=\"display: table-cell;\"></div><div style=\"display: table-cell;\">visible&nbsp;=&nbsp;True,</div></div><div class=\"1439\" style=\"display: none;\"><div style=\"display: table-cell;\"></div><div style=\"display: table-cell;\">width&nbsp;=&nbsp;None,</div></div><div class=\"1439\" style=\"display: none;\"><div style=\"display: table-cell;\"></div><div style=\"display: table-cell;\">width_policy&nbsp;=&nbsp;'auto',</div></div><div class=\"1439\" style=\"display: none;\"><div style=\"display: table-cell;\"></div><div style=\"display: table-cell;\">x_range&nbsp;=&nbsp;DataRange1d(id='1358', ...),</div></div><div class=\"1439\" style=\"display: none;\"><div style=\"display: table-cell;\"></div><div style=\"display: table-cell;\">x_scale&nbsp;=&nbsp;LinearScale(id='1362', ...),</div></div><div class=\"1439\" style=\"display: none;\"><div style=\"display: table-cell;\"></div><div style=\"display: table-cell;\">y_range&nbsp;=&nbsp;DataRange1d(id='1360', ...),</div></div><div class=\"1439\" style=\"display: none;\"><div style=\"display: table-cell;\"></div><div style=\"display: table-cell;\">y_scale&nbsp;=&nbsp;LinearScale(id='1364', ...))</div></div></div>\n",
       "<script>\n",
       "(function() {\n",
       "  var expanded = false;\n",
       "  var ellipsis = document.getElementById(\"1440\");\n",
       "  ellipsis.addEventListener(\"click\", function() {\n",
       "    var rows = document.getElementsByClassName(\"1439\");\n",
       "    for (var i = 0; i < rows.length; i++) {\n",
       "      var el = rows[i];\n",
       "      el.style.display = expanded ? \"none\" : \"table-row\";\n",
       "    }\n",
       "    ellipsis.innerHTML = expanded ? \"&hellip;)\" : \"&lsaquo;&lsaquo;&lsaquo;\";\n",
       "    expanded = !expanded;\n",
       "  });\n",
       "})();\n",
       "</script>\n"
      ],
      "text/plain": [
       "Figure(id='1355', ...)"
      ]
     },
     "execution_count": 20,
     "metadata": {},
     "output_type": "execute_result"
    }
   ],
   "source": [
    "plot_unit_gaussian_samples(20)"
   ]
  },
  {
   "cell_type": "code",
   "execution_count": 22,
   "metadata": {
    "scrolled": true
   },
   "outputs": [
    {
     "data": {
      "text/html": [
       "\n",
       "\n",
       "\n",
       "\n",
       "\n",
       "\n",
       "  <div class=\"bk-root\" id=\"7f9105ab-93d8-4ae7-b55a-dc3c74ec8a50\" data-root-id=\"1734\"></div>\n"
      ]
     },
     "metadata": {},
     "output_type": "display_data"
    },
    {
     "data": {
      "application/javascript": [
       "(function(root) {\n",
       "  function embed_document(root) {\n",
       "    \n",
       "  var docs_json = {\"63707722-7312-4dbf-ac03-1f1b03430479\":{\"roots\":{\"references\":[{\"attributes\":{\"below\":[{\"id\":\"1745\",\"type\":\"LinearAxis\"}],\"center\":[{\"id\":\"1749\",\"type\":\"Grid\"},{\"id\":\"1754\",\"type\":\"Grid\"}],\"left\":[{\"id\":\"1750\",\"type\":\"LinearAxis\"}],\"plot_height\":500,\"plot_width\":800,\"renderers\":[{\"id\":\"1771\",\"type\":\"GlyphRenderer\"},{\"id\":\"1776\",\"type\":\"GlyphRenderer\"},{\"id\":\"1781\",\"type\":\"GlyphRenderer\"},{\"id\":\"1786\",\"type\":\"GlyphRenderer\"},{\"id\":\"1791\",\"type\":\"GlyphRenderer\"},{\"id\":\"1796\",\"type\":\"GlyphRenderer\"},{\"id\":\"1801\",\"type\":\"GlyphRenderer\"},{\"id\":\"1806\",\"type\":\"GlyphRenderer\"},{\"id\":\"1811\",\"type\":\"GlyphRenderer\"},{\"id\":\"1816\",\"type\":\"GlyphRenderer\"}],\"title\":{\"id\":\"1735\",\"type\":\"Title\"},\"toolbar\":{\"id\":\"1761\",\"type\":\"Toolbar\"},\"x_range\":{\"id\":\"1737\",\"type\":\"DataRange1d\"},\"x_scale\":{\"id\":\"1741\",\"type\":\"LinearScale\"},\"y_range\":{\"id\":\"1739\",\"type\":\"DataRange1d\"},\"y_scale\":{\"id\":\"1743\",\"type\":\"LinearScale\"}},\"id\":\"1734\",\"subtype\":\"Figure\",\"type\":\"Plot\"},{\"attributes\":{\"source\":{\"id\":\"1803\",\"type\":\"ColumnDataSource\"}},\"id\":\"1807\",\"type\":\"CDSView\"},{\"attributes\":{\"line_color\":\"#bcbd22\",\"x\":{\"field\":\"x\"},\"y\":{\"field\":\"y\"}},\"id\":\"1809\",\"type\":\"Line\"},{\"attributes\":{\"line_alpha\":0.1,\"line_color\":\"#1f77b4\",\"x\":{\"field\":\"x\"},\"y\":{\"field\":\"y\"}},\"id\":\"1810\",\"type\":\"Line\"},{\"attributes\":{\"line_alpha\":0.1,\"line_color\":\"#1f77b4\",\"x\":{\"field\":\"x\"},\"y\":{\"field\":\"y\"}},\"id\":\"1770\",\"type\":\"Line\"},{\"attributes\":{},\"id\":\"1755\",\"type\":\"PanTool\"},{\"attributes\":{},\"id\":\"1872\",\"type\":\"BasicTickFormatter\"},{\"attributes\":{\"line_color\":\"#1f77b4\",\"x\":{\"field\":\"x\"},\"y\":{\"field\":\"y\"}},\"id\":\"1769\",\"type\":\"Line\"},{\"attributes\":{\"dimension\":1,\"ticker\":{\"id\":\"1751\",\"type\":\"BasicTicker\"}},\"id\":\"1754\",\"type\":\"Grid\"},{\"attributes\":{\"formatter\":{\"id\":\"1874\",\"type\":\"BasicTickFormatter\"},\"ticker\":{\"id\":\"1746\",\"type\":\"BasicTicker\"}},\"id\":\"1745\",\"type\":\"LinearAxis\"},{\"attributes\":{},\"id\":\"1746\",\"type\":\"BasicTicker\"},{\"attributes\":{\"ticker\":{\"id\":\"1746\",\"type\":\"BasicTicker\"}},\"id\":\"1749\",\"type\":\"Grid\"},{\"attributes\":{\"formatter\":{\"id\":\"1872\",\"type\":\"BasicTickFormatter\"},\"ticker\":{\"id\":\"1751\",\"type\":\"BasicTicker\"}},\"id\":\"1750\",\"type\":\"LinearAxis\"},{\"attributes\":{\"data_source\":{\"id\":\"1803\",\"type\":\"ColumnDataSource\"},\"glyph\":{\"id\":\"1804\",\"type\":\"Line\"},\"hover_glyph\":null,\"muted_glyph\":null,\"nonselection_glyph\":{\"id\":\"1805\",\"type\":\"Line\"},\"selection_glyph\":null,\"view\":{\"id\":\"1807\",\"type\":\"CDSView\"}},\"id\":\"1806\",\"type\":\"GlyphRenderer\"},{\"attributes\":{\"callback\":null,\"data\":{\"x\":{\"__ndarray__\":\"AAAAAAAAAABbv1Kg1q+EP1u/UqDWr5Q/CB988MEHnz9bv1Kg1q+kPzJvZ0jM26k/CB988MEHrz9wZ0jM2xmyP1u/UqDWr7Q/RhdddNFFtz8yb2dIzNu5Px3HcRzHcbw/CB988MEHvz96O0Ni3s7AP3BnSMzbGcI/ZZNNNtlkwz9bv1Kg1q/EP1HrVwrU+sU/RhdddNFFxz88Q2LezpDIPzJvZ0jM28k/J5tssskmyz8dx3Ecx3HMPxPzdobEvM0/CB988MEHzz9/pUCtXynQP3o7Q2LeztA/ddFFF1100T9wZ0jM2xnSP2r9SoFav9I/ZZNNNtlk0z9gKVDrVwrUP1u/UqDWr9Q/VlVVVVVV1T9R61cK1PrVP0yBWr9SoNY/RhdddNFF1z9BrV8pUOvXPzxDYt7OkNg/N9lkk0022T8yb2dIzNvZPy0Fav1Kgdo/J5tssskm2z8iMW9nSMzbPx3HcRzHcdw/GF100UUX3T8T83aGxLzdPw6JeTtDYt4/CB988MEH3z8DtX6lQK3fP3+lQK1fKeA/ffDBBx984D96O0Ni3s7gP3eGxLydIeE/ddFFF1104T9yHMdxHMfhP3BnSMzbGeI/bbLJJpts4j9q/UqBWr/iP2hIzNsZEuM/ZZNNNtlk4z9j3s6QmLfjP2ApUOtXCuQ/XnTRRRdd5D9bv1Kg1q/kP1gK1PqVAuU/VlVVVVVV5T9ToNavFKjlP1HrVwrU+uU/TjbZZJNN5j9MgVq/UqDmP0nM2xkS8+Y/RhdddNFF5z9EYt7OkJjnP0GtXylQ6+c/P/jggw8+6D88Q2LezpDoPzmO4ziO4+g/N9lkk0026T80JObtDInpPzJvZ0jM2+k/L7rooosu6j8tBWr9SoHqPypQ61cK1Oo/J5tssskm6z8l5u0MiXnrPyIxb2dIzOs/IHzwwQcf7D8dx3Ecx3HsPxsS83aGxOw/GF100UUX7T8VqPUrBWrtPxPzdobEvO0/ED744IMP7j8OiXk7Q2LuPwvU+pUCte4/CB988MEH7z8Gav1KgVrvPwO1fqVAre8/AAAAAAAA8D8=\",\"dtype\":\"float64\",\"shape\":[100]},\"y\":{\"__ndarray__\":\"j9Om/QyO379l+Yzjseb9vzEAts9p2Oe/rhfLrY0Q2j+Mw4jsKsrSPz/iH4AS8uO/Upv2bEqk0L/QsQZAdUvGPynz4c46kPm/kX34PMSa3T/QZ5zutNLSP7H2iESnnsM/l4dNu22n9D9HjrfA9wgEwPfOCbyWeNu/Zhc6cI2mtb/0Yfwk5lLmPxpN1mMKivw/E7L/aNDY/L9h/vsDSlbLvwzppX766/e/Fe/HMX0Z6D+n16ToxrflP9HDqOBgQd8/TqNFoZnc97+NbFzEvBnkP/vRWUg7d+4/YlQZU+hl4D/s5qllLrzlP9/5fZk9wPA/KDNyEiPB0D90v68qtPDhv4Zr/gkCP+y/QqBf1UVoyT+UNfiMXIHlP2JRQi9dDwDAl2UTc9ou4j+aGJ2+OCPWPyHuKl7Pseq/xYHEyxEM/D+eJuPMhX3iP0pdhpM8r80/JdyLDnDF5b9Rg5XMsc/zvynERHdhD/C/rpdg3VOW0z+HVogyfOHpv83L0AggX9A/alvosqD2wr9OLXECoEnev6z0ScNOZ8M/GfrY/fQ8nD/kHJPex2nxP9d3LThwpLy/MZF9WUBozL+8egAmDbPKP1yh445/TNK/SCFArBob9D+mob7RK3DyP5a8HhkfG54/+WWR2XfCt78dcn13a3zKvxJBt3h+Q/G/ZFSdUfeVwj9napp73Vvyv25GGQDPrfu/uut6eqsR1j/8P54iPB7oP4PC6sK7t8Q/diocAoKe2D+ghth3bYntPyd6SzlG7uM/uIB6euAf9j8ZeyiwE536v63gTkPcXem/mdK6HW0goL/IWefUTDbhP7CIOSH6sty/OfrcXPS89L8PKVtp+IXiv/RSevmrPQHAf4st9sy/779flFDkzd3rP/68GmIauLe/yTUDHzba0L+fAlpVQErQP8jzc+dra8W/NzL4LRxw578nQbCZCc3wP1t4HDQ0m7y/MUXUd6YMxz/jMgrN9bDKv96M3UkBesM/NVC/WCRq778bUCVHqR/MP9C3zj9SUfQ/6wYf79wblj+PKIxKNXrqP7l0cGqGB+u/P1184CU34b8=\",\"dtype\":\"float64\",\"shape\":[100]}},\"selected\":{\"id\":\"1892\",\"type\":\"Selection\"},\"selection_policy\":{\"id\":\"1891\",\"type\":\"UnionRenderers\"}},\"id\":\"1808\",\"type\":\"ColumnDataSource\"},{\"attributes\":{},\"id\":\"1760\",\"type\":\"HelpTool\"},{\"attributes\":{},\"id\":\"1751\",\"type\":\"BasicTicker\"},{\"attributes\":{\"active_drag\":\"auto\",\"active_inspect\":\"auto\",\"active_multi\":null,\"active_scroll\":\"auto\",\"active_tap\":\"auto\",\"tools\":[{\"id\":\"1755\",\"type\":\"PanTool\"},{\"id\":\"1756\",\"type\":\"WheelZoomTool\"},{\"id\":\"1757\",\"type\":\"BoxZoomTool\"},{\"id\":\"1758\",\"type\":\"SaveTool\"},{\"id\":\"1759\",\"type\":\"ResetTool\"},{\"id\":\"1760\",\"type\":\"HelpTool\"}]},\"id\":\"1761\",\"type\":\"Toolbar\"},{\"attributes\":{},\"id\":\"1756\",\"type\":\"WheelZoomTool\"},{\"attributes\":{},\"id\":\"1743\",\"type\":\"LinearScale\"},{\"attributes\":{},\"id\":\"1741\",\"type\":\"LinearScale\"},{\"attributes\":{\"callback\":null},\"id\":\"1739\",\"type\":\"DataRange1d\"},{\"attributes\":{\"callback\":null},\"id\":\"1737\",\"type\":\"DataRange1d\"},{\"attributes\":{\"text\":\"Samples from a unit 100D Gaussian\"},\"id\":\"1735\",\"type\":\"Title\"},{\"attributes\":{\"callback\":null,\"data\":{\"x\":{\"__ndarray__\":\"AAAAAAAAAABbv1Kg1q+EP1u/UqDWr5Q/CB988MEHnz9bv1Kg1q+kPzJvZ0jM26k/CB988MEHrz9wZ0jM2xmyP1u/UqDWr7Q/RhdddNFFtz8yb2dIzNu5Px3HcRzHcbw/CB988MEHvz96O0Ni3s7AP3BnSMzbGcI/ZZNNNtlkwz9bv1Kg1q/EP1HrVwrU+sU/RhdddNFFxz88Q2LezpDIPzJvZ0jM28k/J5tssskmyz8dx3Ecx3HMPxPzdobEvM0/CB988MEHzz9/pUCtXynQP3o7Q2LeztA/ddFFF1100T9wZ0jM2xnSP2r9SoFav9I/ZZNNNtlk0z9gKVDrVwrUP1u/UqDWr9Q/VlVVVVVV1T9R61cK1PrVP0yBWr9SoNY/RhdddNFF1z9BrV8pUOvXPzxDYt7OkNg/N9lkk0022T8yb2dIzNvZPy0Fav1Kgdo/J5tssskm2z8iMW9nSMzbPx3HcRzHcdw/GF100UUX3T8T83aGxLzdPw6JeTtDYt4/CB988MEH3z8DtX6lQK3fP3+lQK1fKeA/ffDBBx984D96O0Ni3s7gP3eGxLydIeE/ddFFF1104T9yHMdxHMfhP3BnSMzbGeI/bbLJJpts4j9q/UqBWr/iP2hIzNsZEuM/ZZNNNtlk4z9j3s6QmLfjP2ApUOtXCuQ/XnTRRRdd5D9bv1Kg1q/kP1gK1PqVAuU/VlVVVVVV5T9ToNavFKjlP1HrVwrU+uU/TjbZZJNN5j9MgVq/UqDmP0nM2xkS8+Y/RhdddNFF5z9EYt7OkJjnP0GtXylQ6+c/P/jggw8+6D88Q2LezpDoPzmO4ziO4+g/N9lkk0026T80JObtDInpPzJvZ0jM2+k/L7rooosu6j8tBWr9SoHqPypQ61cK1Oo/J5tssskm6z8l5u0MiXnrPyIxb2dIzOs/IHzwwQcf7D8dx3Ecx3HsPxsS83aGxOw/GF100UUX7T8VqPUrBWrtPxPzdobEvO0/ED744IMP7j8OiXk7Q2LuPwvU+pUCte4/CB988MEH7z8Gav1KgVrvPwO1fqVAre8/AAAAAAAA8D8=\",\"dtype\":\"float64\",\"shape\":[100]},\"y\":{\"__ndarray__\":\"VfaAxTUZ0L+hGZDVmUvov41v+d3vjsA/UJVEuwTE8j+HJpxggrnxv884YtlI6/k/0ZBLBjRD57+lpjdRKZfav7YuUxmqxfI/cg5/l6kC5T+0k3z3SK+/P5T4dH4KN+K/FcXTLWEY5r86RRyrfa/av60f4IQ83fC/SjdhBQGF1D+8XF6Kuuj3P5togvB9nva/f1qmvZ7u2b8HIUduhMvnP2nfAqLs9Oi/HsgjqE1Qvb/dSZzlkYz0vwQGG3IVsNC/KLllO2iU4r+GY3XYo57gvwz/zFOAN/4//Y6KlLiAsD+v7rP6LU3APy8GvtgfU+6/a71bTq43279frm1GOQP+v5L/Wf4M97s/7YSRNtnQ3z9/i08UonLhP5WxrmJVxfK/Ir0Y3vVruD/w8YEIb37hvwUN+XVmnOW/j8lkL1QN2r/ekFKckoL2v/epqoJgzdI/QQVnz91cu79U/YX6NJ7CvwarJ2wvDfe/EuHzYXNa8r/sq44S5XLHP0asgZq3Ves/Y9RV3a9J67/OUqD7PZvPPxfkLuLwe7e/GPDKFEke7r9yQvdJhgj3P4pg/ZgSLsM/Y5jmDNjc3T9++O/sT1vQv7UR9foCCbc/QdY1S7Fb+z+JE5TxxErFPxEc8mhv8OG/asFh9rgN6T/yBOwVqnX+v7asW6f1Zte/dqG0Q5pC9r/peJPhZgzkvw8LBtHJodg/LmuCTb4c0j+kGhhNqlUDQC8SpbRUxL6/qWx13vi76L8KJhP0ffT+P6byXdNVvADAKSYPmmDl3D81htO/RImovwVa+ihhn/e/Mu0wwboRwb+U5gdxKgnmPzD4E3o7/Oq/082bJhfy4L8nnSToIm3zPw0aX187dtc/75QgsrRpxD+4v8GUuPrIv8E1qqXqqOM/4NgiQ6ru5r/FzNyqCwXVP08Yu/ZLs+A/yy3+W59887/1LB4WXWnvP8hicvrsoeY/5/xR0jEp3T+QKO3x1hjxPzd8E13VlNu/VIHFx1AQ8j+hsMdEiy76Pzlp2Nq0ss8/+tUavQ1ViT+ShT9Nl1rhP0V8ZFnbK7u/FqLR7PVA8z8=\",\"dtype\":\"float64\",\"shape\":[100]}},\"selected\":{\"id\":\"1876\",\"type\":\"Selection\"},\"selection_policy\":{\"id\":\"1875\",\"type\":\"UnionRenderers\"}},\"id\":\"1768\",\"type\":\"ColumnDataSource\"},{\"attributes\":{},\"id\":\"1759\",\"type\":\"ResetTool\"},{\"attributes\":{},\"id\":\"1758\",\"type\":\"SaveTool\"},{\"attributes\":{\"overlay\":{\"id\":\"1895\",\"type\":\"BoxAnnotation\"}},\"id\":\"1757\",\"type\":\"BoxZoomTool\"},{\"attributes\":{\"data_source\":{\"id\":\"1768\",\"type\":\"ColumnDataSource\"},\"glyph\":{\"id\":\"1769\",\"type\":\"Line\"},\"hover_glyph\":null,\"muted_glyph\":null,\"nonselection_glyph\":{\"id\":\"1770\",\"type\":\"Line\"},\"selection_glyph\":null,\"view\":{\"id\":\"1772\",\"type\":\"CDSView\"}},\"id\":\"1771\",\"type\":\"GlyphRenderer\"},{\"attributes\":{\"source\":{\"id\":\"1808\",\"type\":\"ColumnDataSource\"}},\"id\":\"1812\",\"type\":\"CDSView\"},{\"attributes\":{\"source\":{\"id\":\"1768\",\"type\":\"ColumnDataSource\"}},\"id\":\"1772\",\"type\":\"CDSView\"},{\"attributes\":{\"callback\":null,\"data\":{\"x\":{\"__ndarray__\":\"AAAAAAAAAABbv1Kg1q+EP1u/UqDWr5Q/CB988MEHnz9bv1Kg1q+kPzJvZ0jM26k/CB988MEHrz9wZ0jM2xmyP1u/UqDWr7Q/RhdddNFFtz8yb2dIzNu5Px3HcRzHcbw/CB988MEHvz96O0Ni3s7AP3BnSMzbGcI/ZZNNNtlkwz9bv1Kg1q/EP1HrVwrU+sU/RhdddNFFxz88Q2LezpDIPzJvZ0jM28k/J5tssskmyz8dx3Ecx3HMPxPzdobEvM0/CB988MEHzz9/pUCtXynQP3o7Q2LeztA/ddFFF1100T9wZ0jM2xnSP2r9SoFav9I/ZZNNNtlk0z9gKVDrVwrUP1u/UqDWr9Q/VlVVVVVV1T9R61cK1PrVP0yBWr9SoNY/RhdddNFF1z9BrV8pUOvXPzxDYt7OkNg/N9lkk0022T8yb2dIzNvZPy0Fav1Kgdo/J5tssskm2z8iMW9nSMzbPx3HcRzHcdw/GF100UUX3T8T83aGxLzdPw6JeTtDYt4/CB988MEH3z8DtX6lQK3fP3+lQK1fKeA/ffDBBx984D96O0Ni3s7gP3eGxLydIeE/ddFFF1104T9yHMdxHMfhP3BnSMzbGeI/bbLJJpts4j9q/UqBWr/iP2hIzNsZEuM/ZZNNNtlk4z9j3s6QmLfjP2ApUOtXCuQ/XnTRRRdd5D9bv1Kg1q/kP1gK1PqVAuU/VlVVVVVV5T9ToNavFKjlP1HrVwrU+uU/TjbZZJNN5j9MgVq/UqDmP0nM2xkS8+Y/RhdddNFF5z9EYt7OkJjnP0GtXylQ6+c/P/jggw8+6D88Q2LezpDoPzmO4ziO4+g/N9lkk0026T80JObtDInpPzJvZ0jM2+k/L7rooosu6j8tBWr9SoHqPypQ61cK1Oo/J5tssskm6z8l5u0MiXnrPyIxb2dIzOs/IHzwwQcf7D8dx3Ecx3HsPxsS83aGxOw/GF100UUX7T8VqPUrBWrtPxPzdobEvO0/ED744IMP7j8OiXk7Q2LuPwvU+pUCte4/CB988MEH7z8Gav1KgVrvPwO1fqVAre8/AAAAAAAA8D8=\",\"dtype\":\"float64\",\"shape\":[100]},\"y\":{\"__ndarray__\":\"mnJe5D2l07+hZ58cFcDjPzDC5qaJZfC/02yEaRvB+j940cdPLRLyv2l7JqzIKfa/G0zKiAUm8L+1voTJOSbxv07g8/0hk+4/PbigumsJ5D9QCFIptF6ZPz1KcnNfhfI/yXFEDByr2j9rO36ogqq0P8bZl+3ODdI/0725KG3d+j+rRYOOYVTwv83coD0JHss/dgULf/kBAUDd9z06oVEAQKJanqMbWfS/IE0r4+gB5z+3v7G1lkb2P55UpPjaneA/fQGcMjSV0j+ecXOhwKv2P20WA/tIu9+/Y+3uy4KE9z/2Vv48h/SyP04uPAStvfa/1+uIiFYB6L83tYSnqgT1v4F0LBicucK/OkttJ7iN7b9cw9eFg6rxPx0ESJ2dgvW/GE4L790g8D/kEc6RHYDvPwiT5PkMn84/gqUZp5MG3D+SF2sdIMDSP8k3xMRuwOM/rssDBOsxyD9rQ6CyOjvwv4gCuHFssQXAARkPudn84L9Umt82rywAwB+5tPFJ29O/5rSjryJBs79GMEISfBjRv2KwukXTfei/adWigqIp0L/oBdz2sjb8P/46fKCrYwLADifLcIaF7D/FmPeXntwAQL0NjknaU/k/XpSwIANI3T/x1rtRdL7+vy7WYrvnzAXAiXsgUBmeAUAqGmo8+UXRv+fr/eme2PK/7GtGRieL9r8IthaPriOkP3N9+lNyifE/buKRn+2J1z9/z/tyh4n8vy86i4D5kN8/ruVGDp9d8T+B5NWrYOjdvxA2X8pww8q/mVrCHHiRlr/0Y3CJ3h/Qv1ko/RkK9fY/t9P9iq1j8b8PKHsWtL7tv4PtQkcYauU/w5dlO1E+0D/JtHvlSRDTv2unVAILDeq/pb2M8Kj9079tQqBQQo/oP6OzmUVXdJI/Jbp/0ds73T+YgL1HZxW9P317OYjZqQ9AT8YmeySD9z9SyuQVEJz0P2pxf34o+ei/mURLxhV37j8vBguPfv7rv6r/oDHJdvc/22DOkhtXuT+wN/TxBSPHv3wNYtQFjvU/DCwmzuzIqT8ma4bkqi/zv/PtjmvQU/m/KGSt4KshAMA=\",\"dtype\":\"float64\",\"shape\":[100]}},\"selected\":{\"id\":\"1894\",\"type\":\"Selection\"},\"selection_policy\":{\"id\":\"1893\",\"type\":\"UnionRenderers\"}},\"id\":\"1813\",\"type\":\"ColumnDataSource\"},{\"attributes\":{\"callback\":null,\"data\":{\"x\":{\"__ndarray__\":\"AAAAAAAAAABbv1Kg1q+EP1u/UqDWr5Q/CB988MEHnz9bv1Kg1q+kPzJvZ0jM26k/CB988MEHrz9wZ0jM2xmyP1u/UqDWr7Q/RhdddNFFtz8yb2dIzNu5Px3HcRzHcbw/CB988MEHvz96O0Ni3s7AP3BnSMzbGcI/ZZNNNtlkwz9bv1Kg1q/EP1HrVwrU+sU/RhdddNFFxz88Q2LezpDIPzJvZ0jM28k/J5tssskmyz8dx3Ecx3HMPxPzdobEvM0/CB988MEHzz9/pUCtXynQP3o7Q2LeztA/ddFFF1100T9wZ0jM2xnSP2r9SoFav9I/ZZNNNtlk0z9gKVDrVwrUP1u/UqDWr9Q/VlVVVVVV1T9R61cK1PrVP0yBWr9SoNY/RhdddNFF1z9BrV8pUOvXPzxDYt7OkNg/N9lkk0022T8yb2dIzNvZPy0Fav1Kgdo/J5tssskm2z8iMW9nSMzbPx3HcRzHcdw/GF100UUX3T8T83aGxLzdPw6JeTtDYt4/CB988MEH3z8DtX6lQK3fP3+lQK1fKeA/ffDBBx984D96O0Ni3s7gP3eGxLydIeE/ddFFF1104T9yHMdxHMfhP3BnSMzbGeI/bbLJJpts4j9q/UqBWr/iP2hIzNsZEuM/ZZNNNtlk4z9j3s6QmLfjP2ApUOtXCuQ/XnTRRRdd5D9bv1Kg1q/kP1gK1PqVAuU/VlVVVVVV5T9ToNavFKjlP1HrVwrU+uU/TjbZZJNN5j9MgVq/UqDmP0nM2xkS8+Y/RhdddNFF5z9EYt7OkJjnP0GtXylQ6+c/P/jggw8+6D88Q2LezpDoPzmO4ziO4+g/N9lkk0026T80JObtDInpPzJvZ0jM2+k/L7rooosu6j8tBWr9SoHqPypQ61cK1Oo/J5tssskm6z8l5u0MiXnrPyIxb2dIzOs/IHzwwQcf7D8dx3Ecx3HsPxsS83aGxOw/GF100UUX7T8VqPUrBWrtPxPzdobEvO0/ED744IMP7j8OiXk7Q2LuPwvU+pUCte4/CB988MEH7z8Gav1KgVrvPwO1fqVAre8/AAAAAAAA8D8=\",\"dtype\":\"float64\",\"shape\":[100]},\"y\":{\"__ndarray__\":\"dU4uk+y89r8l/OQo7frZP5wFYQj61PM/jVUMmtdc9T/Wuz8NTiP7v7fHAyd1FvU/pJAFWk9f+T/yC0y56oTjv4M4RtEDy/Q/xfl7aGRlij9TWRPQRYrqv3H2Q/cpxfS/ACcMWWXT478xLpmap9O3vyy3iAJS8Pg/vb4FCKiB5L8MLkhAI/nmP7HIDLaeluE/dFZMMfTWx79XDxM+QFj8v4FeVV5or/S/8YPKjw4R4T9jLuepfDXqPz+r1qjHVvY/YPZQ7YlV3b8N8/1ecejlP0IT9/JRlsQ/9vPP8/nH37+Vcecsn9LUv/g0jE+xxeU/+XWqeLME9D8wlcobq4DFv8y2OlNyWf0/92TyaCGN6b/gN7iXDDLpv4tyzF02B6i/ORvyzQVD5r+U2za0D7zwP+OxbWNDn+Y/qyX3YtU1xr9W1wamKJ7hP+I+9oDQxey/d5hNwR6f6r/TFtIAGal8P4ZNSsJICOa/hiDrIXeS6b8NWTkkyvbXv48I/w/ZeP2/BgvkFpUP97/7llEAphvTv2fc66Ds5wLA6dui3VwQ/T8JixCows/9P4RR1VsbQr4/uc/FRbUX6z9DBz7foFuzP7l38+V+GgXAmLUqkNwb9b9hH5lauJfuv0De+0L8fOS/MbkhVsBpAUATwUk83lvwv19zQ2cRkqc/gU1iKG7K779s+0snsW8AQGBOnVMJUeY/dLz+Ewj37z8lv54MkIzuPzgDGKi428O/9D6k9AbK4j8d4Br/ysKhv1P+1fSdf/G/JYTSpvbd/j9FCK2Py3Twv2WlSROPz7+/TUnwmIsmkL+PtS5NZqj1v9fNtmFckea/e7WO7osoBkAtBRdZKK/pP6sARy/S/dm/QVgHUKtR8r+bGB+566LSP1LnbWsL1Ow/VDHZvo8s+D+M2VYaMMe0P1En7E9SLMs/OTbLtYIy8z898zZvvsDFP9Up+XdLv/s/bvrcLlS2+T+27ZhFa4HKPzNFv7bB2/k/i21mS7KGyj+K4HFTnJK8PwQbYK/scwLAHSrrv02HU7/RQ/ncnsi8vzoYnvIeC/u/GEWmAghU3L8=\",\"dtype\":\"float64\",\"shape\":[100]}},\"selected\":{\"id\":\"1878\",\"type\":\"Selection\"},\"selection_policy\":{\"id\":\"1877\",\"type\":\"UnionRenderers\"}},\"id\":\"1773\",\"type\":\"ColumnDataSource\"},{\"attributes\":{\"line_color\":\"#17becf\",\"x\":{\"field\":\"x\"},\"y\":{\"field\":\"y\"}},\"id\":\"1814\",\"type\":\"Line\"},{\"attributes\":{\"line_color\":\"#ff7f0e\",\"x\":{\"field\":\"x\"},\"y\":{\"field\":\"y\"}},\"id\":\"1774\",\"type\":\"Line\"},{\"attributes\":{\"line_alpha\":0.1,\"line_color\":\"#1f77b4\",\"x\":{\"field\":\"x\"},\"y\":{\"field\":\"y\"}},\"id\":\"1815\",\"type\":\"Line\"},{\"attributes\":{\"line_alpha\":0.1,\"line_color\":\"#1f77b4\",\"x\":{\"field\":\"x\"},\"y\":{\"field\":\"y\"}},\"id\":\"1775\",\"type\":\"Line\"},{\"attributes\":{\"data_source\":{\"id\":\"1813\",\"type\":\"ColumnDataSource\"},\"glyph\":{\"id\":\"1814\",\"type\":\"Line\"},\"hover_glyph\":null,\"muted_glyph\":null,\"nonselection_glyph\":{\"id\":\"1815\",\"type\":\"Line\"},\"selection_glyph\":null,\"view\":{\"id\":\"1817\",\"type\":\"CDSView\"}},\"id\":\"1816\",\"type\":\"GlyphRenderer\"},{\"attributes\":{\"data_source\":{\"id\":\"1773\",\"type\":\"ColumnDataSource\"},\"glyph\":{\"id\":\"1774\",\"type\":\"Line\"},\"hover_glyph\":null,\"muted_glyph\":null,\"nonselection_glyph\":{\"id\":\"1775\",\"type\":\"Line\"},\"selection_glyph\":null,\"view\":{\"id\":\"1777\",\"type\":\"CDSView\"}},\"id\":\"1776\",\"type\":\"GlyphRenderer\"},{\"attributes\":{\"source\":{\"id\":\"1813\",\"type\":\"ColumnDataSource\"}},\"id\":\"1817\",\"type\":\"CDSView\"},{\"attributes\":{\"source\":{\"id\":\"1773\",\"type\":\"ColumnDataSource\"}},\"id\":\"1777\",\"type\":\"CDSView\"},{\"attributes\":{},\"id\":\"1874\",\"type\":\"BasicTickFormatter\"},{\"attributes\":{\"callback\":null,\"data\":{\"x\":{\"__ndarray__\":\"AAAAAAAAAABbv1Kg1q+EP1u/UqDWr5Q/CB988MEHnz9bv1Kg1q+kPzJvZ0jM26k/CB988MEHrz9wZ0jM2xmyP1u/UqDWr7Q/RhdddNFFtz8yb2dIzNu5Px3HcRzHcbw/CB988MEHvz96O0Ni3s7AP3BnSMzbGcI/ZZNNNtlkwz9bv1Kg1q/EP1HrVwrU+sU/RhdddNFFxz88Q2LezpDIPzJvZ0jM28k/J5tssskmyz8dx3Ecx3HMPxPzdobEvM0/CB988MEHzz9/pUCtXynQP3o7Q2LeztA/ddFFF1100T9wZ0jM2xnSP2r9SoFav9I/ZZNNNtlk0z9gKVDrVwrUP1u/UqDWr9Q/VlVVVVVV1T9R61cK1PrVP0yBWr9SoNY/RhdddNFF1z9BrV8pUOvXPzxDYt7OkNg/N9lkk0022T8yb2dIzNvZPy0Fav1Kgdo/J5tssskm2z8iMW9nSMzbPx3HcRzHcdw/GF100UUX3T8T83aGxLzdPw6JeTtDYt4/CB988MEH3z8DtX6lQK3fP3+lQK1fKeA/ffDBBx984D96O0Ni3s7gP3eGxLydIeE/ddFFF1104T9yHMdxHMfhP3BnSMzbGeI/bbLJJpts4j9q/UqBWr/iP2hIzNsZEuM/ZZNNNtlk4z9j3s6QmLfjP2ApUOtXCuQ/XnTRRRdd5D9bv1Kg1q/kP1gK1PqVAuU/VlVVVVVV5T9ToNavFKjlP1HrVwrU+uU/TjbZZJNN5j9MgVq/UqDmP0nM2xkS8+Y/RhdddNFF5z9EYt7OkJjnP0GtXylQ6+c/P/jggw8+6D88Q2LezpDoPzmO4ziO4+g/N9lkk0026T80JObtDInpPzJvZ0jM2+k/L7rooosu6j8tBWr9SoHqPypQ61cK1Oo/J5tssskm6z8l5u0MiXnrPyIxb2dIzOs/IHzwwQcf7D8dx3Ecx3HsPxsS83aGxOw/GF100UUX7T8VqPUrBWrtPxPzdobEvO0/ED744IMP7j8OiXk7Q2LuPwvU+pUCte4/CB988MEH7z8Gav1KgVrvPwO1fqVAre8/AAAAAAAA8D8=\",\"dtype\":\"float64\",\"shape\":[100]},\"y\":{\"__ndarray__\":\"sTb9DlY78r+tb8BzBErFvw6mFztKBvQ/yldvpvg/6D+yLjhYkxH1PwblSjrlnbG/mYfWHFko3L84KWAoefLAP0mpRjFYLvW/5ZL2G/I83j8tDBzGt37NPzu+9KVyXPe/+7zaxPwK8r8Q0q6Vtz73v2tBTw92VPc/7knP+d7x3r9UBGTvCpWuP9QcmJ3lc+2/uTJ8+0hb27+2y/G11iPrP3Y4XhVsg/A/lcyJxW7WCsADZh8VXRn3P4uKxmUbdcK/K6sPVpIwAsAHWCd9uUT0P6VaAAbl3+E/O46a4AdrxL+GWz8iHh7OPwgZoq89tdk/R1DPwbme3r88QI2Hrbnpv3PLszX+VMA/2UyfTsTJAkAYCmO36lC+Pwt7RCk8leq/uCFUNGVP6r/KOYiHg1EAQGB7+kR/Xuk/2aXUTJht378d1amnE+jeP63FUaZNhuU/XdWIvxaR5L+Ye0jGIWH1P/iuAs0xx9+/rlV0hXX0sL/daP+xPWfdP/XGjH79a9q/AKato60ryz8sD7Ae50DYP+tS6GLWb+e/KAuTlt6B5T/04oGr0WbhP/TpQLgt1PC/tgFoviLgxb9LNUklc7bqvx79A6ltNuk/3prB3fW8kL9yMFwOMvXwPwIe7O+dWN6/iVz3cZdI3r9ZnK3VT8jfP8Rej4wChN8/tGyfzcEJ2T/smeMz+Jv+P5wDg6f2EtC/642BkXPu9r/hnMxEwq3HP/oVBtbxpbu/TS/WBCmq/79Kntwvuk31vyHLKaQp7Ok/BKN9t/yUzb8VoOgQb6jmv2m9+7AxHbs/YlFBO6Oi6T9uKDfRcCXJv4XBn1SDL9q/YjfFx6i4+z9zfNai0OXjP9koP1C8m/A/TesCOHle6L95RU6xRI/xPzwa0nm1tPe/MKNIQ0QX8T9oZju0QBPzPzv1B5dfleq/32VJpKa3sb/MNp8aguHgv4kAC8kyXPY/qf82RsXN6780qelYX3/uP4YevG/AdOO/hTWYIFogwL+H4atCUxTpv+NnQFOSy/s/KZH3t7tt/r9qJjz5ZTKwv/UOB298k+C/DNKvB61p5b8=\",\"dtype\":\"float64\",\"shape\":[100]}},\"selected\":{\"id\":\"1880\",\"type\":\"Selection\"},\"selection_policy\":{\"id\":\"1879\",\"type\":\"UnionRenderers\"}},\"id\":\"1778\",\"type\":\"ColumnDataSource\"},{\"attributes\":{\"line_color\":\"#2ca02c\",\"x\":{\"field\":\"x\"},\"y\":{\"field\":\"y\"}},\"id\":\"1779\",\"type\":\"Line\"},{\"attributes\":{},\"id\":\"1875\",\"type\":\"UnionRenderers\"},{\"attributes\":{\"line_alpha\":0.1,\"line_color\":\"#1f77b4\",\"x\":{\"field\":\"x\"},\"y\":{\"field\":\"y\"}},\"id\":\"1780\",\"type\":\"Line\"},{\"attributes\":{},\"id\":\"1876\",\"type\":\"Selection\"},{\"attributes\":{\"data_source\":{\"id\":\"1778\",\"type\":\"ColumnDataSource\"},\"glyph\":{\"id\":\"1779\",\"type\":\"Line\"},\"hover_glyph\":null,\"muted_glyph\":null,\"nonselection_glyph\":{\"id\":\"1780\",\"type\":\"Line\"},\"selection_glyph\":null,\"view\":{\"id\":\"1782\",\"type\":\"CDSView\"}},\"id\":\"1781\",\"type\":\"GlyphRenderer\"},{\"attributes\":{},\"id\":\"1877\",\"type\":\"UnionRenderers\"},{\"attributes\":{\"source\":{\"id\":\"1778\",\"type\":\"ColumnDataSource\"}},\"id\":\"1782\",\"type\":\"CDSView\"},{\"attributes\":{},\"id\":\"1878\",\"type\":\"Selection\"},{\"attributes\":{\"callback\":null,\"data\":{\"x\":{\"__ndarray__\":\"AAAAAAAAAABbv1Kg1q+EP1u/UqDWr5Q/CB988MEHnz9bv1Kg1q+kPzJvZ0jM26k/CB988MEHrz9wZ0jM2xmyP1u/UqDWr7Q/RhdddNFFtz8yb2dIzNu5Px3HcRzHcbw/CB988MEHvz96O0Ni3s7AP3BnSMzbGcI/ZZNNNtlkwz9bv1Kg1q/EP1HrVwrU+sU/RhdddNFFxz88Q2LezpDIPzJvZ0jM28k/J5tssskmyz8dx3Ecx3HMPxPzdobEvM0/CB988MEHzz9/pUCtXynQP3o7Q2LeztA/ddFFF1100T9wZ0jM2xnSP2r9SoFav9I/ZZNNNtlk0z9gKVDrVwrUP1u/UqDWr9Q/VlVVVVVV1T9R61cK1PrVP0yBWr9SoNY/RhdddNFF1z9BrV8pUOvXPzxDYt7OkNg/N9lkk0022T8yb2dIzNvZPy0Fav1Kgdo/J5tssskm2z8iMW9nSMzbPx3HcRzHcdw/GF100UUX3T8T83aGxLzdPw6JeTtDYt4/CB988MEH3z8DtX6lQK3fP3+lQK1fKeA/ffDBBx984D96O0Ni3s7gP3eGxLydIeE/ddFFF1104T9yHMdxHMfhP3BnSMzbGeI/bbLJJpts4j9q/UqBWr/iP2hIzNsZEuM/ZZNNNtlk4z9j3s6QmLfjP2ApUOtXCuQ/XnTRRRdd5D9bv1Kg1q/kP1gK1PqVAuU/VlVVVVVV5T9ToNavFKjlP1HrVwrU+uU/TjbZZJNN5j9MgVq/UqDmP0nM2xkS8+Y/RhdddNFF5z9EYt7OkJjnP0GtXylQ6+c/P/jggw8+6D88Q2LezpDoPzmO4ziO4+g/N9lkk0026T80JObtDInpPzJvZ0jM2+k/L7rooosu6j8tBWr9SoHqPypQ61cK1Oo/J5tssskm6z8l5u0MiXnrPyIxb2dIzOs/IHzwwQcf7D8dx3Ecx3HsPxsS83aGxOw/GF100UUX7T8VqPUrBWrtPxPzdobEvO0/ED744IMP7j8OiXk7Q2LuPwvU+pUCte4/CB988MEH7z8Gav1KgVrvPwO1fqVAre8/AAAAAAAA8D8=\",\"dtype\":\"float64\",\"shape\":[100]},\"y\":{\"__ndarray__\":\"rojT7Pn95L95D53qvNu0v0eNHTjXsvA/Wpl1iwBe6z+M1dgKopSzP0kiEJK9yMg/fpx5vvW1y780C9jfqB2/P7ygoXthYfW/vF/PfmtV7L8MrDoqsbHzPycqVucqzeG/LTHR2AKHyz9ko7k6SyTLv2dpt5+rbt6/iESnJjDV8L/y+XRWRLnvP3QwJJ4bvqk/H2EaiSBv8L9VDq9S7jzxPxvFJC1H1ei/daxnTg+owj8QQx1RcLrwv2/tgmtMjsM/OnKXlfzU779ouiu7vjH2P7/N+WiILu8/DwQGGZri2L/J4MrQtKz3P7h0XrH7B/s/Q1lY5ovK6z/G26bLbMXqv46ODIHOge+/zyrJXSsf+b96yw474jPuvwykkXDZhXe/Bm+Eaj+n4T9ZZrrk/t3iv8b9S1o/Qqu/zoThQ4mL3z9ESc5Xe9Pyv4O+HjKhoOI/1LXT7O1V8j+4SR37wPvhP0HduHkDC94/fmhgxTfP8L/UfOeG+mn7P+muvnKga9o/q90A8W7igT/Qg1eDgcDZPwyU4gPfldy/YOIGUOi+0L8WcI9/383Yv3+xklXNxvU/t4LA4RkM+L9heuNzvMN5P3w5D+edOdY/Gq+iGXVB+j/cDVtBWb3sPz9i9Hfh+PS/2HAU/L7H2L/oFS/io9DYv+i8iUaYffY/FqFETgUk4b9DbXEl9VsFQBHm+2ITLv+/KZfwUQxQ4T+fHmmorADuv8XRVJlxyuA/ihzhop3317/XfTdKC9rAP22CcR/mHfW/zf6VCs9yyz+K52N28YviP2zSMIlqCfK/FJTajPXO6r9qPd1xW3n6v4VfJBuoeN6/9IKDx6n2xj/JFEzSfrboPxNqlnxLNtu/+5ucZqpS4r8jP8zBwmnXPzGBwFRhyOa/+dmwdq6L9z8bYmj7mGbiv2evARn3S/w/bx8LUDLQ5j/XjcobD5rEP1h6AR111LO/mSJiFxE4wz9nlpBG+4rjP9INts9kwd0/nBKjUNxQ8z9s04y66wGbP1YSCNLyYo+/8zNBaxif5j/kMTwGwQfXPwy4apYp2+2/dZF5rHUAwz8=\",\"dtype\":\"float64\",\"shape\":[100]}},\"selected\":{\"id\":\"1882\",\"type\":\"Selection\"},\"selection_policy\":{\"id\":\"1881\",\"type\":\"UnionRenderers\"}},\"id\":\"1783\",\"type\":\"ColumnDataSource\"},{\"attributes\":{},\"id\":\"1879\",\"type\":\"UnionRenderers\"},{\"attributes\":{\"line_color\":\"#d62728\",\"x\":{\"field\":\"x\"},\"y\":{\"field\":\"y\"}},\"id\":\"1784\",\"type\":\"Line\"},{\"attributes\":{},\"id\":\"1880\",\"type\":\"Selection\"},{\"attributes\":{\"line_alpha\":0.1,\"line_color\":\"#1f77b4\",\"x\":{\"field\":\"x\"},\"y\":{\"field\":\"y\"}},\"id\":\"1785\",\"type\":\"Line\"},{\"attributes\":{},\"id\":\"1881\",\"type\":\"UnionRenderers\"},{\"attributes\":{\"data_source\":{\"id\":\"1783\",\"type\":\"ColumnDataSource\"},\"glyph\":{\"id\":\"1784\",\"type\":\"Line\"},\"hover_glyph\":null,\"muted_glyph\":null,\"nonselection_glyph\":{\"id\":\"1785\",\"type\":\"Line\"},\"selection_glyph\":null,\"view\":{\"id\":\"1787\",\"type\":\"CDSView\"}},\"id\":\"1786\",\"type\":\"GlyphRenderer\"},{\"attributes\":{},\"id\":\"1882\",\"type\":\"Selection\"},{\"attributes\":{\"source\":{\"id\":\"1783\",\"type\":\"ColumnDataSource\"}},\"id\":\"1787\",\"type\":\"CDSView\"},{\"attributes\":{},\"id\":\"1883\",\"type\":\"UnionRenderers\"},{\"attributes\":{\"callback\":null,\"data\":{\"x\":{\"__ndarray__\":\"AAAAAAAAAABbv1Kg1q+EP1u/UqDWr5Q/CB988MEHnz9bv1Kg1q+kPzJvZ0jM26k/CB988MEHrz9wZ0jM2xmyP1u/UqDWr7Q/RhdddNFFtz8yb2dIzNu5Px3HcRzHcbw/CB988MEHvz96O0Ni3s7AP3BnSMzbGcI/ZZNNNtlkwz9bv1Kg1q/EP1HrVwrU+sU/RhdddNFFxz88Q2LezpDIPzJvZ0jM28k/J5tssskmyz8dx3Ecx3HMPxPzdobEvM0/CB988MEHzz9/pUCtXynQP3o7Q2LeztA/ddFFF1100T9wZ0jM2xnSP2r9SoFav9I/ZZNNNtlk0z9gKVDrVwrUP1u/UqDWr9Q/VlVVVVVV1T9R61cK1PrVP0yBWr9SoNY/RhdddNFF1z9BrV8pUOvXPzxDYt7OkNg/N9lkk0022T8yb2dIzNvZPy0Fav1Kgdo/J5tssskm2z8iMW9nSMzbPx3HcRzHcdw/GF100UUX3T8T83aGxLzdPw6JeTtDYt4/CB988MEH3z8DtX6lQK3fP3+lQK1fKeA/ffDBBx984D96O0Ni3s7gP3eGxLydIeE/ddFFF1104T9yHMdxHMfhP3BnSMzbGeI/bbLJJpts4j9q/UqBWr/iP2hIzNsZEuM/ZZNNNtlk4z9j3s6QmLfjP2ApUOtXCuQ/XnTRRRdd5D9bv1Kg1q/kP1gK1PqVAuU/VlVVVVVV5T9ToNavFKjlP1HrVwrU+uU/TjbZZJNN5j9MgVq/UqDmP0nM2xkS8+Y/RhdddNFF5z9EYt7OkJjnP0GtXylQ6+c/P/jggw8+6D88Q2LezpDoPzmO4ziO4+g/N9lkk0026T80JObtDInpPzJvZ0jM2+k/L7rooosu6j8tBWr9SoHqPypQ61cK1Oo/J5tssskm6z8l5u0MiXnrPyIxb2dIzOs/IHzwwQcf7D8dx3Ecx3HsPxsS83aGxOw/GF100UUX7T8VqPUrBWrtPxPzdobEvO0/ED744IMP7j8OiXk7Q2LuPwvU+pUCte4/CB988MEH7z8Gav1KgVrvPwO1fqVAre8/AAAAAAAA8D8=\",\"dtype\":\"float64\",\"shape\":[100]},\"y\":{\"__ndarray__\":\"e/Qv5g8yyT/V9Q5LkafYP//wnAqlOda/2Sy0KOL4uj8krRgfvaL0P+ce3C68HMg/j6LdCWmYAsDv8CJjLw/UPymrDfmO6am/7l/t0K9e1j/3nDXhJoqXvyN846XJ5eI/+7PEo27S8L8EH860LvSyv0IvBV3wrfO/sD465z69UL8JHPP4EZ/uv0V0fWwUVuI/5lc7BURqxj+M2O0qE9Ovv6kzwuP84Nq/1IIO4Ywu2r8rSBOFxejuv1EtMx2HnsK/+8+9RYQj1D+RU6KFYD3rP4+wL8NqiPa/dDbp2STezD/1qyTUX/jYv9G4MqNFRNk/7/gLng8K9b8DIrskuRIEQK/UznDgAPi/ojiGXLbR6T9g8c0h1gD4PyYh77bm7u6/SMAecqHe+r+PJr0ytvcHwEokMApHMuU/Sl4fjIhDtT9L9Q88mK+wP0B+Qguh/aQ/PwsRCA+g/L+AKyx61/DvP0p/C09Ie8A/aLuzyaVz+j9eKWS2UC76PxBRiufEqtQ/ELvK2smc5z8A81YGipP2v+5+AgiG2PM/IP/Ra8ET979RQmzeBlvJP45vtVltmN2/vDjAE98K8z9VLYBoEDvqP7PIKwcCX+S/AffFkMfewL+R7V1h8sT0v9BjnEnYwNI//a0kx/JXqL9GjBEeDHPFv5TjbC6/B7E/6aoam3oy4D8y9+9jqOLpP3nQTVYR7fY/hEKsRW8G2L8lOh9/RWfTv17KkBxgyvI/8F0PJnXv6T/b4OAoqz77v/ui+k1WddW/jdAkv8i13D/KWUzDLpH9vzx5p6hQWdA/r78ltJtb0r/8knKEWB/zv7uIWhsHme8/CJaorItf+L+IPBviEFLaP2YJwIaFkuU/kkRWfamd7L9RBbCGtWHfv0YVnDY10eK/IpsoTxTb8L9ZCzSANM+pP/XjhKZ8WtA/hT+MRMY80T8XqFiPEbfov6j3xhA3uwHAF78lWV9/2r/hddSXLDTrv1TXecDDsPu/M6t0v7JS1j8PYi3BsHryv5ik2BPJBdm/a3CW01hEpD96FuNMrJDtv4Bpg96Ff8A/MyKbCbrIib8=\",\"dtype\":\"float64\",\"shape\":[100]}},\"selected\":{\"id\":\"1884\",\"type\":\"Selection\"},\"selection_policy\":{\"id\":\"1883\",\"type\":\"UnionRenderers\"}},\"id\":\"1788\",\"type\":\"ColumnDataSource\"},{\"attributes\":{},\"id\":\"1884\",\"type\":\"Selection\"},{\"attributes\":{\"line_color\":\"#9467bd\",\"x\":{\"field\":\"x\"},\"y\":{\"field\":\"y\"}},\"id\":\"1789\",\"type\":\"Line\"},{\"attributes\":{},\"id\":\"1885\",\"type\":\"UnionRenderers\"},{\"attributes\":{\"line_alpha\":0.1,\"line_color\":\"#1f77b4\",\"x\":{\"field\":\"x\"},\"y\":{\"field\":\"y\"}},\"id\":\"1790\",\"type\":\"Line\"},{\"attributes\":{},\"id\":\"1886\",\"type\":\"Selection\"},{\"attributes\":{\"data_source\":{\"id\":\"1788\",\"type\":\"ColumnDataSource\"},\"glyph\":{\"id\":\"1789\",\"type\":\"Line\"},\"hover_glyph\":null,\"muted_glyph\":null,\"nonselection_glyph\":{\"id\":\"1790\",\"type\":\"Line\"},\"selection_glyph\":null,\"view\":{\"id\":\"1792\",\"type\":\"CDSView\"}},\"id\":\"1791\",\"type\":\"GlyphRenderer\"},{\"attributes\":{},\"id\":\"1887\",\"type\":\"UnionRenderers\"},{\"attributes\":{\"source\":{\"id\":\"1788\",\"type\":\"ColumnDataSource\"}},\"id\":\"1792\",\"type\":\"CDSView\"},{\"attributes\":{},\"id\":\"1888\",\"type\":\"Selection\"},{\"attributes\":{},\"id\":\"1889\",\"type\":\"UnionRenderers\"},{\"attributes\":{\"callback\":null,\"data\":{\"x\":{\"__ndarray__\":\"AAAAAAAAAABbv1Kg1q+EP1u/UqDWr5Q/CB988MEHnz9bv1Kg1q+kPzJvZ0jM26k/CB988MEHrz9wZ0jM2xmyP1u/UqDWr7Q/RhdddNFFtz8yb2dIzNu5Px3HcRzHcbw/CB988MEHvz96O0Ni3s7AP3BnSMzbGcI/ZZNNNtlkwz9bv1Kg1q/EP1HrVwrU+sU/RhdddNFFxz88Q2LezpDIPzJvZ0jM28k/J5tssskmyz8dx3Ecx3HMPxPzdobEvM0/CB988MEHzz9/pUCtXynQP3o7Q2LeztA/ddFFF1100T9wZ0jM2xnSP2r9SoFav9I/ZZNNNtlk0z9gKVDrVwrUP1u/UqDWr9Q/VlVVVVVV1T9R61cK1PrVP0yBWr9SoNY/RhdddNFF1z9BrV8pUOvXPzxDYt7OkNg/N9lkk0022T8yb2dIzNvZPy0Fav1Kgdo/J5tssskm2z8iMW9nSMzbPx3HcRzHcdw/GF100UUX3T8T83aGxLzdPw6JeTtDYt4/CB988MEH3z8DtX6lQK3fP3+lQK1fKeA/ffDBBx984D96O0Ni3s7gP3eGxLydIeE/ddFFF1104T9yHMdxHMfhP3BnSMzbGeI/bbLJJpts4j9q/UqBWr/iP2hIzNsZEuM/ZZNNNtlk4z9j3s6QmLfjP2ApUOtXCuQ/XnTRRRdd5D9bv1Kg1q/kP1gK1PqVAuU/VlVVVVVV5T9ToNavFKjlP1HrVwrU+uU/TjbZZJNN5j9MgVq/UqDmP0nM2xkS8+Y/RhdddNFF5z9EYt7OkJjnP0GtXylQ6+c/P/jggw8+6D88Q2LezpDoPzmO4ziO4+g/N9lkk0026T80JObtDInpPzJvZ0jM2+k/L7rooosu6j8tBWr9SoHqPypQ61cK1Oo/J5tssskm6z8l5u0MiXnrPyIxb2dIzOs/IHzwwQcf7D8dx3Ecx3HsPxsS83aGxOw/GF100UUX7T8VqPUrBWrtPxPzdobEvO0/ED744IMP7j8OiXk7Q2LuPwvU+pUCte4/CB988MEH7z8Gav1KgVrvPwO1fqVAre8/AAAAAAAA8D8=\",\"dtype\":\"float64\",\"shape\":[100]},\"y\":{\"__ndarray__\":\"cuqZ1PZo4r/7cdqEUbD0Pzp9uaCcMry/6RYQwK2Y0D+Mg/gQbO7fvwzlRnS9PeQ/zKgyJNrU9T/sYR/IK4vhPym7OMU4mO0/gre1ewNirr/aVCbACbv4vzaI6czcAce/Jgt6AoFX0z84rw6AwgfKvxrrMYj85fQ/ENaUY7rmA8D4Tvfv9cOvPyePP9R3D+Y/t18GL7x2078/jU0ZNJnFv5ulf5aWI8U/DNrVcEYt6b9g36o/Sm73Pw4DO1IUXwBA1x1Kk1vr8T8j1InrJ0PZP5qkSIVGuNw/2gnC4x9h0z/Wx3EsVEv4v3GVU6vHwfu/obnhS+BOAMDqP0Nlan3Yv2qKrOvoZfQ/qa6eEx4E/j9QgfhEs8SmPybSElOKY+E/Wyol/0yB1T9VJuhRcP3mv1o1Ly4r4Me/6Y71DrOW5r8PvBkHuYflv2/Ckx5E/e2/qH0M6anuwj9KapYS9QTPv+R+GEw2PfO/Pnh/NDbpw7//Z1iuI3KrP3ydgZgzY/U/WkVIpQtK9T9Iv1ahkr+zPxOt5+CwS9e/e1fjXXS+9L+5Ne0+hNrpPxScqK4k494/bpREU14e8T/A7w25xU/kvynW0eNlgOA/N0zivVQ/4T8QxCpT5JD2PyAR483Dse8/qEsZ3IF87T/1TZiPbG35v2FmHCOJfug/P6aLLt+P+T/G7a18OdD2v05X/RtdlPk/TpToBVGt6T9aYKxvVx3xP33HqXHC1Mm/Sxtyxa3L8L8v94lZPrvvP/mvvTFw7Pu/YS6GtlJF7b8tj/VKM2b7PwQUF/PA2gXAHJmr6SgG8T/DYGM+I7XDv14iOjJzjwjAPc46Unb57L8EP+dOEV+zP++WeA7RsvC/vWU6wTU2yj8cTVC6gtCtP1gvoi2sB+k/dxw4F/1V8r8ah377k9fSv+fXeWoULeO/pBSl0wwv9j8qJhKyvBziP46jVSgHvOu/owJ+0LRz8T8zNDo1EiLmv/7MvxBNA8s/3BEg+ZKj27/8iiuDFLvkP4k+BcAKv+W/H901sg6czj/NNWKjPo3gv/j2kbkOu+o/Bxa31dW3pb8=\",\"dtype\":\"float64\",\"shape\":[100]}},\"selected\":{\"id\":\"1886\",\"type\":\"Selection\"},\"selection_policy\":{\"id\":\"1885\",\"type\":\"UnionRenderers\"}},\"id\":\"1793\",\"type\":\"ColumnDataSource\"},{\"attributes\":{\"line_color\":\"#8c564b\",\"x\":{\"field\":\"x\"},\"y\":{\"field\":\"y\"}},\"id\":\"1794\",\"type\":\"Line\"},{\"attributes\":{},\"id\":\"1890\",\"type\":\"Selection\"},{\"attributes\":{\"line_alpha\":0.1,\"line_color\":\"#1f77b4\",\"x\":{\"field\":\"x\"},\"y\":{\"field\":\"y\"}},\"id\":\"1795\",\"type\":\"Line\"},{\"attributes\":{},\"id\":\"1891\",\"type\":\"UnionRenderers\"},{\"attributes\":{\"data_source\":{\"id\":\"1793\",\"type\":\"ColumnDataSource\"},\"glyph\":{\"id\":\"1794\",\"type\":\"Line\"},\"hover_glyph\":null,\"muted_glyph\":null,\"nonselection_glyph\":{\"id\":\"1795\",\"type\":\"Line\"},\"selection_glyph\":null,\"view\":{\"id\":\"1797\",\"type\":\"CDSView\"}},\"id\":\"1796\",\"type\":\"GlyphRenderer\"},{\"attributes\":{},\"id\":\"1892\",\"type\":\"Selection\"},{\"attributes\":{\"source\":{\"id\":\"1793\",\"type\":\"ColumnDataSource\"}},\"id\":\"1797\",\"type\":\"CDSView\"},{\"attributes\":{},\"id\":\"1893\",\"type\":\"UnionRenderers\"},{\"attributes\":{\"callback\":null,\"data\":{\"x\":{\"__ndarray__\":\"AAAAAAAAAABbv1Kg1q+EP1u/UqDWr5Q/CB988MEHnz9bv1Kg1q+kPzJvZ0jM26k/CB988MEHrz9wZ0jM2xmyP1u/UqDWr7Q/RhdddNFFtz8yb2dIzNu5Px3HcRzHcbw/CB988MEHvz96O0Ni3s7AP3BnSMzbGcI/ZZNNNtlkwz9bv1Kg1q/EP1HrVwrU+sU/RhdddNFFxz88Q2LezpDIPzJvZ0jM28k/J5tssskmyz8dx3Ecx3HMPxPzdobEvM0/CB988MEHzz9/pUCtXynQP3o7Q2LeztA/ddFFF1100T9wZ0jM2xnSP2r9SoFav9I/ZZNNNtlk0z9gKVDrVwrUP1u/UqDWr9Q/VlVVVVVV1T9R61cK1PrVP0yBWr9SoNY/RhdddNFF1z9BrV8pUOvXPzxDYt7OkNg/N9lkk0022T8yb2dIzNvZPy0Fav1Kgdo/J5tssskm2z8iMW9nSMzbPx3HcRzHcdw/GF100UUX3T8T83aGxLzdPw6JeTtDYt4/CB988MEH3z8DtX6lQK3fP3+lQK1fKeA/ffDBBx984D96O0Ni3s7gP3eGxLydIeE/ddFFF1104T9yHMdxHMfhP3BnSMzbGeI/bbLJJpts4j9q/UqBWr/iP2hIzNsZEuM/ZZNNNtlk4z9j3s6QmLfjP2ApUOtXCuQ/XnTRRRdd5D9bv1Kg1q/kP1gK1PqVAuU/VlVVVVVV5T9ToNavFKjlP1HrVwrU+uU/TjbZZJNN5j9MgVq/UqDmP0nM2xkS8+Y/RhdddNFF5z9EYt7OkJjnP0GtXylQ6+c/P/jggw8+6D88Q2LezpDoPzmO4ziO4+g/N9lkk0026T80JObtDInpPzJvZ0jM2+k/L7rooosu6j8tBWr9SoHqPypQ61cK1Oo/J5tssskm6z8l5u0MiXnrPyIxb2dIzOs/IHzwwQcf7D8dx3Ecx3HsPxsS83aGxOw/GF100UUX7T8VqPUrBWrtPxPzdobEvO0/ED744IMP7j8OiXk7Q2LuPwvU+pUCte4/CB988MEH7z8Gav1KgVrvPwO1fqVAre8/AAAAAAAA8D8=\",\"dtype\":\"float64\",\"shape\":[100]},\"y\":{\"__ndarray__\":\"HvdJO6Chzb9TAO8kY1IGQG0Z+eF5V/M/BoPMRMXK4T//GCc3IIHUvx46e9LYtpI/NOvCK8PI+b/KNy9Oyy3uvwjE1sevc+u/d4s7WAiF/D+tOT0nwJnXPyJnRf/IPPI/FspXh//U7L9OnlsBZdXUv6t9TT8dmeS/7jRswzWm7j9K7ea6ng/qP6cApzAJZN0/01A/oQfOzT+cR3j3rjbyPyduAklc+dk/PO7m2wYesj+rqeHIwmHpP9znLTGq6fE/1rgsukNy5b/VirN0Maftv9Q/YVmR8Nk/Hsk0WBP56D+mK5p4AITQPytCyTKXnuI/JuHiy67/3r9nB8aEe93Cv0h6OW2IN8Q/6+dv7raQ979u/3wVxiTiP74oFcI9Iu0/qit+/72I5r/oQcDz7BPcP0kON6/z4eO/To4UPgBkAMAG1bOIDhXqv82Vsb8gVgLAzxOTMEmF5j/wH+//W5X/v2U43W9+suG/LBS9NRif7b/2OGYNPWbZP6MMABguovI/BP67BbHZ6r86k9tM54gGQNfbd7JcR/0/8HY2bqTp178FGmDEG7jVP/PninJXFem/EIvlP4kgyz8TEAkM57QAwNwYMNLbnfa/wtAxrVdt9r9fpS7nb4zWv+owcE9OuNS/oQBsxh3p8r8uHSx7sTjsPx9w5EiepABAC0Sl8Y2vwr8e1etJtjHRv2Ro+nOGUPU/O0mv1tEFoj+kY8fkmjbXv9rf7zhTmo8/zwPGDB8gvb9CAHib5n3HvwemCBYs8eA/yuzlEwhg8r+vE1XQSObcP0i76rjtheW/++BW5Jcb2L9vY47N0N3SP2aqczc1L/c/DISaUqUZ5D8hj9qs73Prvxqr/Y363OY/IIEcHUuM4j/DECWqBwz4v8cLuR3yTKm/WfsGFOi92D8uEAB2/ibRP67cUDYdWP2/sY7YngX6+z9xRCfbEw/2v/ENALY9R+Y/kxNpnSZq1D/TtM8PA1nwP2cBV5K28qe/5jbfF1Zy4b/iUI1TS+vQP5F0yTFeWc8/RJc6ME4O8r+BJfYzEMXbvxg3DlhQO+K/jyVVNc0Nuj8=\",\"dtype\":\"float64\",\"shape\":[100]}},\"selected\":{\"id\":\"1888\",\"type\":\"Selection\"},\"selection_policy\":{\"id\":\"1887\",\"type\":\"UnionRenderers\"}},\"id\":\"1798\",\"type\":\"ColumnDataSource\"},{\"attributes\":{},\"id\":\"1894\",\"type\":\"Selection\"},{\"attributes\":{\"line_color\":\"#e377c2\",\"x\":{\"field\":\"x\"},\"y\":{\"field\":\"y\"}},\"id\":\"1799\",\"type\":\"Line\"},{\"attributes\":{\"bottom_units\":\"screen\",\"fill_alpha\":{\"value\":0.5},\"fill_color\":{\"value\":\"lightgrey\"},\"left_units\":\"screen\",\"level\":\"overlay\",\"line_alpha\":{\"value\":1.0},\"line_color\":{\"value\":\"black\"},\"line_dash\":[4,4],\"line_width\":{\"value\":2},\"render_mode\":\"css\",\"right_units\":\"screen\",\"top_units\":\"screen\"},\"id\":\"1895\",\"type\":\"BoxAnnotation\"},{\"attributes\":{\"line_alpha\":0.1,\"line_color\":\"#1f77b4\",\"x\":{\"field\":\"x\"},\"y\":{\"field\":\"y\"}},\"id\":\"1800\",\"type\":\"Line\"},{\"attributes\":{\"data_source\":{\"id\":\"1798\",\"type\":\"ColumnDataSource\"},\"glyph\":{\"id\":\"1799\",\"type\":\"Line\"},\"hover_glyph\":null,\"muted_glyph\":null,\"nonselection_glyph\":{\"id\":\"1800\",\"type\":\"Line\"},\"selection_glyph\":null,\"view\":{\"id\":\"1802\",\"type\":\"CDSView\"}},\"id\":\"1801\",\"type\":\"GlyphRenderer\"},{\"attributes\":{\"source\":{\"id\":\"1798\",\"type\":\"ColumnDataSource\"}},\"id\":\"1802\",\"type\":\"CDSView\"},{\"attributes\":{\"callback\":null,\"data\":{\"x\":{\"__ndarray__\":\"AAAAAAAAAABbv1Kg1q+EP1u/UqDWr5Q/CB988MEHnz9bv1Kg1q+kPzJvZ0jM26k/CB988MEHrz9wZ0jM2xmyP1u/UqDWr7Q/RhdddNFFtz8yb2dIzNu5Px3HcRzHcbw/CB988MEHvz96O0Ni3s7AP3BnSMzbGcI/ZZNNNtlkwz9bv1Kg1q/EP1HrVwrU+sU/RhdddNFFxz88Q2LezpDIPzJvZ0jM28k/J5tssskmyz8dx3Ecx3HMPxPzdobEvM0/CB988MEHzz9/pUCtXynQP3o7Q2LeztA/ddFFF1100T9wZ0jM2xnSP2r9SoFav9I/ZZNNNtlk0z9gKVDrVwrUP1u/UqDWr9Q/VlVVVVVV1T9R61cK1PrVP0yBWr9SoNY/RhdddNFF1z9BrV8pUOvXPzxDYt7OkNg/N9lkk0022T8yb2dIzNvZPy0Fav1Kgdo/J5tssskm2z8iMW9nSMzbPx3HcRzHcdw/GF100UUX3T8T83aGxLzdPw6JeTtDYt4/CB988MEH3z8DtX6lQK3fP3+lQK1fKeA/ffDBBx984D96O0Ni3s7gP3eGxLydIeE/ddFFF1104T9yHMdxHMfhP3BnSMzbGeI/bbLJJpts4j9q/UqBWr/iP2hIzNsZEuM/ZZNNNtlk4z9j3s6QmLfjP2ApUOtXCuQ/XnTRRRdd5D9bv1Kg1q/kP1gK1PqVAuU/VlVVVVVV5T9ToNavFKjlP1HrVwrU+uU/TjbZZJNN5j9MgVq/UqDmP0nM2xkS8+Y/RhdddNFF5z9EYt7OkJjnP0GtXylQ6+c/P/jggw8+6D88Q2LezpDoPzmO4ziO4+g/N9lkk0026T80JObtDInpPzJvZ0jM2+k/L7rooosu6j8tBWr9SoHqPypQ61cK1Oo/J5tssskm6z8l5u0MiXnrPyIxb2dIzOs/IHzwwQcf7D8dx3Ecx3HsPxsS83aGxOw/GF100UUX7T8VqPUrBWrtPxPzdobEvO0/ED744IMP7j8OiXk7Q2LuPwvU+pUCte4/CB988MEH7z8Gav1KgVrvPwO1fqVAre8/AAAAAAAA8D8=\",\"dtype\":\"float64\",\"shape\":[100]},\"y\":{\"__ndarray__\":\"QGeqV0iwwD+w1wc1pRHivxuRM019O/Y/koE99HAj4z+RIebKoxvyv9TtEHNPVOY/hutfV8Wu4z/1eG5I9qLzP1YCoz65sdy/nMGEdN5RwT9hnfpTKg3NP2hTTaHFx+U/+jpxjapX4L/YCV529krjP4ATngxs8q2/MoUhNUciz79LUZkQJAT3P7KXwPwBoOO/WTwe+laN4b8qpyQIbO/gv9HED9O0PtG/rJgwtl3a7j+9rbSvkQnaPx2IkSCr3ti/PW79p2UI4T8+3OgjTATqP34DA6t/EuI/dDjlJAjl579OHvR2jXHkv6kPZO51ccq/VaQI5NpB8D/lFtLpF4v4P10QZqrDLQDAk7WHHMNE87+WrCzWrBW/v3gOFrVaTeI/SK4QDE64wb9QetFGR5Pbv+Ngipv1C/A/BHqqiDmJ5L9NZFWhePDOv77cTgcCD7y/qpNFPPR6/L/NrHdq1l/fvyp9xmQuPvg/7uBiQh9B8L9WeAB6EdLev2uvaEbkRuK/LPf/h6cw2r/Rct0cognuP+/mmoQm4OE/qIgubMH22j+1PJ39qL34P+QHMST6yf4/KyVD+nBD1L9poKz6Ad/uv9oHBeoOjNS/kMv/pW0UwD9GFcTjxiD6vy/BFZZZRvQ/2geahv1Y0z/E7Jh7sJDfP7hgSS04NHC/WJfXS/lfyb9owU3faTPhv3fVUelIEsG/giDC6gK6y79aEXKb9ZTJv+ciFliFwfs/+NgLx7dV9b/5qgA3L/HjP4Z6BWqfLfO/ypzLBxgH8D8pPCbrW6XYv5RVzfo5lPW/ikMKA91n3j8BSasEy+TOP2AXtpLfGOK/63Ys2yee9j9DUGMKyZgBwAEDnhmch/k/HHJng5ry/T/Y6vJAAk/Pv2CLIy3Wkcq/bMFsqT43CkCSJZXZQb7xP1T1Q9OuOua/bOVe1wE57D+F81b92OP6P38VeKaa2qc/noTBNISC3D/+e//E7oUCQEVeD2gPMr0/4/yq9oRfxz88kBj/mkfzP+CCKDHskua/hQsoKqVw4T9EGKjpx4qdP1QbHf5eTv2/sUS4P/zx3D8=\",\"dtype\":\"float64\",\"shape\":[100]}},\"selected\":{\"id\":\"1890\",\"type\":\"Selection\"},\"selection_policy\":{\"id\":\"1889\",\"type\":\"UnionRenderers\"}},\"id\":\"1803\",\"type\":\"ColumnDataSource\"},{\"attributes\":{\"line_color\":\"#7f7f7f\",\"x\":{\"field\":\"x\"},\"y\":{\"field\":\"y\"}},\"id\":\"1804\",\"type\":\"Line\"},{\"attributes\":{\"line_alpha\":0.1,\"line_color\":\"#1f77b4\",\"x\":{\"field\":\"x\"},\"y\":{\"field\":\"y\"}},\"id\":\"1805\",\"type\":\"Line\"},{\"attributes\":{\"data_source\":{\"id\":\"1808\",\"type\":\"ColumnDataSource\"},\"glyph\":{\"id\":\"1809\",\"type\":\"Line\"},\"hover_glyph\":null,\"muted_glyph\":null,\"nonselection_glyph\":{\"id\":\"1810\",\"type\":\"Line\"},\"selection_glyph\":null,\"view\":{\"id\":\"1812\",\"type\":\"CDSView\"}},\"id\":\"1811\",\"type\":\"GlyphRenderer\"}],\"root_ids\":[\"1734\"]},\"title\":\"Bokeh Application\",\"version\":\"1.2.0\"}};\n",
       "  var render_items = [{\"docid\":\"63707722-7312-4dbf-ac03-1f1b03430479\",\"roots\":{\"1734\":\"7f9105ab-93d8-4ae7-b55a-dc3c74ec8a50\"}}];\n",
       "  root.Bokeh.embed.embed_items_notebook(docs_json, render_items);\n",
       "\n",
       "  }\n",
       "  if (root.Bokeh !== undefined) {\n",
       "    embed_document(root);\n",
       "  } else {\n",
       "    var attempts = 0;\n",
       "    var timer = setInterval(function(root) {\n",
       "      if (root.Bokeh !== undefined) {\n",
       "        embed_document(root);\n",
       "        clearInterval(timer);\n",
       "      }\n",
       "      attempts++;\n",
       "      if (attempts > 100) {\n",
       "        console.log(\"Bokeh: ERROR: Unable to run BokehJS code because BokehJS library is missing\");\n",
       "        clearInterval(timer);\n",
       "      }\n",
       "    }, 10, root)\n",
       "  }\n",
       "})(window);"
      ],
      "application/vnd.bokehjs_exec.v0+json": ""
     },
     "metadata": {
      "application/vnd.bokehjs_exec.v0+json": {
       "id": "1734"
      }
     },
     "output_type": "display_data"
    }
   ],
   "source": [
    "show(plot_unit_gaussian_samples(100))"
   ]
  },
  {
   "cell_type": "code",
   "execution_count": 49,
   "metadata": {},
   "outputs": [],
   "source": [
    "N = 2\n",
    "x = np.linspace(-2, 2, N)\n",
    "y = np.linspace(-2, 2, N)"
   ]
  },
  {
   "cell_type": "code",
   "execution_count": 60,
   "metadata": {},
   "outputs": [],
   "source": [
    "dx = np.expand_dims(x,1)-np.expand_dims(y,0)"
   ]
  },
  {
   "cell_type": "code",
   "execution_count": 61,
   "metadata": {},
   "outputs": [
    {
     "data": {
      "text/plain": [
       "array([[ 0., -4.],\n",
       "       [ 4.,  0.]])"
      ]
     },
     "execution_count": 61,
     "metadata": {},
     "output_type": "execute_result"
    }
   ],
   "source": [
    "dx"
   ]
  },
  {
   "cell_type": "code",
   "execution_count": 62,
   "metadata": {},
   "outputs": [],
   "source": [
    "def k(xs, ys, sigma=1, l=1):\n",
    "    \"\"\"Sqared Exponential kernel as above but designed to return the whole\n",
    "    covariance matrix - i.e. the pairwise covariance of the vectors xs & ys.\n",
    "    Also with two parameters which are discussed at the end.\"\"\"\n",
    "\n",
    "    # Pairwise difference matrix.\n",
    "    dx = np.expand_dims(xs, 1) - np.expand_dims(ys, 0)\n",
    "    return (sigma ** 2) * np.exp(-((dx / l) ** 2) / 2)\n",
    "\n",
    "def m(x):\n",
    "    \"\"\"The mean function. As discussed, we can let the mean always be zero.\"\"\"\n",
    "    return np.zeros_like(x)"
   ]
  },
  {
   "cell_type": "code",
   "execution_count": 63,
   "metadata": {},
   "outputs": [],
   "source": [
    "x = np.linspace(-5,5,100)"
   ]
  },
  {
   "cell_type": "code",
   "execution_count": 64,
   "metadata": {},
   "outputs": [
    {
     "data": {
      "text/plain": [
       "array([0., 0., 0., 0., 0., 0., 0., 0., 0., 0., 0., 0., 0., 0., 0., 0., 0.,\n",
       "       0., 0., 0., 0., 0., 0., 0., 0., 0., 0., 0., 0., 0., 0., 0., 0., 0.,\n",
       "       0., 0., 0., 0., 0., 0., 0., 0., 0., 0., 0., 0., 0., 0., 0., 0., 0.,\n",
       "       0., 0., 0., 0., 0., 0., 0., 0., 0., 0., 0., 0., 0., 0., 0., 0., 0.,\n",
       "       0., 0., 0., 0., 0., 0., 0., 0., 0., 0., 0., 0., 0., 0., 0., 0., 0.,\n",
       "       0., 0., 0., 0., 0., 0., 0., 0., 0., 0., 0., 0., 0., 0., 0.])"
      ]
     },
     "execution_count": 64,
     "metadata": {},
     "output_type": "execute_result"
    }
   ],
   "source": [
    "m(x)"
   ]
  },
  {
   "cell_type": "code",
   "execution_count": 65,
   "metadata": {},
   "outputs": [
    {
     "data": {
      "text/plain": [
       "array([[1.00000000e+00, 9.94911470e-01, 9.79800714e-01, ...,\n",
       "        1.42487329e-21, 5.26916305e-22, 1.92874985e-22],\n",
       "       [9.94911470e-01, 1.00000000e+00, 9.94911470e-01, ...,\n",
       "        3.81399159e-21, 1.42487329e-21, 5.26916305e-22],\n",
       "       [9.79800714e-01, 9.94911470e-01, 1.00000000e+00, ...,\n",
       "        1.01053670e-20, 3.81399159e-21, 1.42487329e-21],\n",
       "       ...,\n",
       "       [1.42487329e-21, 3.81399159e-21, 1.01053670e-20, ...,\n",
       "        1.00000000e+00, 9.94911470e-01, 9.79800714e-01],\n",
       "       [5.26916305e-22, 1.42487329e-21, 3.81399159e-21, ...,\n",
       "        9.94911470e-01, 1.00000000e+00, 9.94911470e-01],\n",
       "       [1.92874985e-22, 5.26916305e-22, 1.42487329e-21, ...,\n",
       "        9.79800714e-01, 9.94911470e-01, 1.00000000e+00]])"
      ]
     },
     "execution_count": 65,
     "metadata": {},
     "output_type": "execute_result"
    }
   ],
   "source": [
    "k(x,x)"
   ]
  },
  {
   "cell_type": "code",
   "execution_count": 66,
   "metadata": {},
   "outputs": [
    {
     "ename": "NameError",
     "evalue": "name 'Sigma_s' is not defined",
     "output_type": "error",
     "traceback": [
      "\u001b[1;31m---------------------------------------------------------------------------\u001b[0m",
      "\u001b[1;31mNameError\u001b[0m                                 Traceback (most recent call last)",
      "\u001b[1;32m<ipython-input-66-2e25063c30fc>\u001b[0m in \u001b[0;36m<module>\u001b[1;34m\u001b[0m\n\u001b[1;32m----> 1\u001b[1;33m \u001b[0mstds\u001b[0m \u001b[1;33m=\u001b[0m \u001b[0mnp\u001b[0m\u001b[1;33m.\u001b[0m\u001b[0msqrt\u001b[0m\u001b[1;33m(\u001b[0m\u001b[0mSigma_s\u001b[0m\u001b[1;33m.\u001b[0m\u001b[0mdiagonal\u001b[0m\u001b[1;33m(\u001b[0m\u001b[1;33m)\u001b[0m\u001b[1;33m)\u001b[0m\u001b[1;33m\u001b[0m\u001b[1;33m\u001b[0m\u001b[0m\n\u001b[0m",
      "\u001b[1;31mNameError\u001b[0m: name 'Sigma_s' is not defined"
     ]
    }
   ],
   "source": [
    "stds = np.sqrt(Sigma_s.diagonal())"
   ]
  },
  {
   "cell_type": "code",
   "execution_count": 67,
   "metadata": {},
   "outputs": [],
   "source": [
    "x_s = np.linspace(-8, 7, 80)"
   ]
  },
  {
   "cell_type": "code",
   "execution_count": 68,
   "metadata": {},
   "outputs": [
    {
     "data": {
      "text/plain": [
       "array([ 7.        ,  6.81012658,  6.62025316,  6.43037975,  6.24050633,\n",
       "        6.05063291,  5.86075949,  5.67088608,  5.48101266,  5.29113924,\n",
       "        5.10126582,  4.91139241,  4.72151899,  4.53164557,  4.34177215,\n",
       "        4.15189873,  3.96202532,  3.7721519 ,  3.58227848,  3.39240506,\n",
       "        3.20253165,  3.01265823,  2.82278481,  2.63291139,  2.44303797,\n",
       "        2.25316456,  2.06329114,  1.87341772,  1.6835443 ,  1.49367089,\n",
       "        1.30379747,  1.11392405,  0.92405063,  0.73417722,  0.5443038 ,\n",
       "        0.35443038,  0.16455696, -0.02531646, -0.21518987, -0.40506329,\n",
       "       -0.59493671, -0.78481013, -0.97468354, -1.16455696, -1.35443038,\n",
       "       -1.5443038 , -1.73417722, -1.92405063, -2.11392405, -2.30379747,\n",
       "       -2.49367089, -2.6835443 , -2.87341772, -3.06329114, -3.25316456,\n",
       "       -3.44303797, -3.63291139, -3.82278481, -4.01265823, -4.20253165,\n",
       "       -4.39240506, -4.58227848, -4.7721519 , -4.96202532, -5.15189873,\n",
       "       -5.34177215, -5.53164557, -5.72151899, -5.91139241, -6.10126582,\n",
       "       -6.29113924, -6.48101266, -6.67088608, -6.86075949, -7.05063291,\n",
       "       -7.24050633, -7.43037975, -7.62025316, -7.81012658, -8.        ])"
      ]
     },
     "execution_count": 68,
     "metadata": {},
     "output_type": "execute_result"
    }
   ],
   "source": [
    "np.flip(x_s, 0)"
   ]
  },
  {
   "cell_type": "code",
   "execution_count": 69,
   "metadata": {},
   "outputs": [
    {
     "data": {
      "text/plain": [
       "array([-8.        , -7.81012658, -7.62025316, -7.43037975, -7.24050633,\n",
       "       -7.05063291, -6.86075949, -6.67088608, -6.48101266, -6.29113924,\n",
       "       -6.10126582, -5.91139241, -5.72151899, -5.53164557, -5.34177215,\n",
       "       -5.15189873, -4.96202532, -4.7721519 , -4.58227848, -4.39240506,\n",
       "       -4.20253165, -4.01265823, -3.82278481, -3.63291139, -3.44303797,\n",
       "       -3.25316456, -3.06329114, -2.87341772, -2.6835443 , -2.49367089,\n",
       "       -2.30379747, -2.11392405, -1.92405063, -1.73417722, -1.5443038 ,\n",
       "       -1.35443038, -1.16455696, -0.97468354, -0.78481013, -0.59493671,\n",
       "       -0.40506329, -0.21518987, -0.02531646,  0.16455696,  0.35443038,\n",
       "        0.5443038 ,  0.73417722,  0.92405063,  1.11392405,  1.30379747,\n",
       "        1.49367089,  1.6835443 ,  1.87341772,  2.06329114,  2.25316456,\n",
       "        2.44303797,  2.63291139,  2.82278481,  3.01265823,  3.20253165,\n",
       "        3.39240506,  3.58227848,  3.7721519 ,  3.96202532,  4.15189873,\n",
       "        4.34177215,  4.53164557,  4.72151899,  4.91139241,  5.10126582,\n",
       "        5.29113924,  5.48101266,  5.67088608,  5.86075949,  6.05063291,\n",
       "        6.24050633,  6.43037975,  6.62025316,  6.81012658,  7.        ])"
      ]
     },
     "execution_count": 69,
     "metadata": {},
     "output_type": "execute_result"
    }
   ],
   "source": [
    "x_s"
   ]
  },
  {
   "cell_type": "code",
   "execution_count": 70,
   "metadata": {},
   "outputs": [
    {
     "data": {
      "text/plain": [
       "array([-8.        , -7.81012658, -7.62025316, -7.43037975, -7.24050633,\n",
       "       -7.05063291, -6.86075949, -6.67088608, -6.48101266, -6.29113924,\n",
       "       -6.10126582, -5.91139241, -5.72151899, -5.53164557, -5.34177215,\n",
       "       -5.15189873, -4.96202532, -4.7721519 , -4.58227848, -4.39240506,\n",
       "       -4.20253165, -4.01265823, -3.82278481, -3.63291139, -3.44303797,\n",
       "       -3.25316456, -3.06329114, -2.87341772, -2.6835443 , -2.49367089,\n",
       "       -2.30379747, -2.11392405, -1.92405063, -1.73417722, -1.5443038 ,\n",
       "       -1.35443038, -1.16455696, -0.97468354, -0.78481013, -0.59493671,\n",
       "       -0.40506329, -0.21518987, -0.02531646,  0.16455696,  0.35443038,\n",
       "        0.5443038 ,  0.73417722,  0.92405063,  1.11392405,  1.30379747,\n",
       "        1.49367089,  1.6835443 ,  1.87341772,  2.06329114,  2.25316456,\n",
       "        2.44303797,  2.63291139,  2.82278481,  3.01265823,  3.20253165,\n",
       "        3.39240506,  3.58227848,  3.7721519 ,  3.96202532,  4.15189873,\n",
       "        4.34177215,  4.53164557,  4.72151899,  4.91139241,  5.10126582,\n",
       "        5.29113924,  5.48101266,  5.67088608,  5.86075949,  6.05063291,\n",
       "        6.24050633,  6.43037975,  6.62025316,  6.81012658,  7.        ,\n",
       "        7.        ,  6.81012658,  6.62025316,  6.43037975,  6.24050633,\n",
       "        6.05063291,  5.86075949,  5.67088608,  5.48101266,  5.29113924,\n",
       "        5.10126582,  4.91139241,  4.72151899,  4.53164557,  4.34177215,\n",
       "        4.15189873,  3.96202532,  3.7721519 ,  3.58227848,  3.39240506,\n",
       "        3.20253165,  3.01265823,  2.82278481,  2.63291139,  2.44303797,\n",
       "        2.25316456,  2.06329114,  1.87341772,  1.6835443 ,  1.49367089,\n",
       "        1.30379747,  1.11392405,  0.92405063,  0.73417722,  0.5443038 ,\n",
       "        0.35443038,  0.16455696, -0.02531646, -0.21518987, -0.40506329,\n",
       "       -0.59493671, -0.78481013, -0.97468354, -1.16455696, -1.35443038,\n",
       "       -1.5443038 , -1.73417722, -1.92405063, -2.11392405, -2.30379747,\n",
       "       -2.49367089, -2.6835443 , -2.87341772, -3.06329114, -3.25316456,\n",
       "       -3.44303797, -3.63291139, -3.82278481, -4.01265823, -4.20253165,\n",
       "       -4.39240506, -4.58227848, -4.7721519 , -4.96202532, -5.15189873,\n",
       "       -5.34177215, -5.53164557, -5.72151899, -5.91139241, -6.10126582,\n",
       "       -6.29113924, -6.48101266, -6.67088608, -6.86075949, -7.05063291,\n",
       "       -7.24050633, -7.43037975, -7.62025316, -7.81012658, -8.        ])"
      ]
     },
     "execution_count": 70,
     "metadata": {},
     "output_type": "execute_result"
    }
   ],
   "source": [
    "np.concatenate((x_s, np.flip(x_s, 0)))"
   ]
  },
  {
   "cell_type": "code",
   "execution_count": 71,
   "metadata": {},
   "outputs": [],
   "source": [
    "coefs = [6, -2.5, -2.4, -0.1, 0.2, 0.03]\n",
    "\n",
    "def f(x):\n",
    "    total = 0\n",
    "    for exp, coef in enumerate(coefs):\n",
    "        total += coef * (x ** exp)\n",
    "    return total"
   ]
  },
  {
   "cell_type": "code",
   "execution_count": 74,
   "metadata": {},
   "outputs": [
    {
     "data": {
      "text/plain": [
       "[(0, 6), (1, -2.5), (2, -2.4), (3, -0.1), (4, 0.2), (5, 0.03)]"
      ]
     },
     "execution_count": 74,
     "metadata": {},
     "output_type": "execute_result"
    }
   ],
   "source": [
    "[i for i in enumerate(coefs)]"
   ]
  },
  {
   "cell_type": "code",
   "execution_count": 75,
   "metadata": {},
   "outputs": [],
   "source": [
    "x_obs = np.array([-4, -1.5, 0, 1.5, 2.5, 2.7])\n",
    "y_obs = f(x_obs)\n",
    "\n",
    "x_s = np.linspace(-8, 7, 80)"
   ]
  },
  {
   "cell_type": "code",
   "execution_count": 76,
   "metadata": {},
   "outputs": [
    {
     "data": {
      "text/plain": [
       "array([ 4.48     ,  5.4721875,  6.       , -2.2471875, -6.0703125,\n",
       "       -5.2808079])"
      ]
     },
     "execution_count": 76,
     "metadata": {},
     "output_type": "execute_result"
    }
   ],
   "source": [
    "y_obs"
   ]
  },
  {
   "cell_type": "code",
   "execution_count": 79,
   "metadata": {},
   "outputs": [
    {
     "data": {
      "text/html": [
       "\n",
       "\n",
       "\n",
       "\n",
       "\n",
       "\n",
       "  <div class=\"bk-root\" id=\"3bcc056b-c9e1-46a0-86ac-9cfd09461c8b\" data-root-id=\"2127\"></div>\n"
      ]
     },
     "metadata": {},
     "output_type": "display_data"
    },
    {
     "data": {
      "application/javascript": [
       "(function(root) {\n",
       "  function embed_document(root) {\n",
       "    \n",
       "  var docs_json = {\"8adc4765-d43c-4ec7-b08f-5924647e8226\":{\"roots\":{\"references\":[{\"attributes\":{\"below\":[{\"id\":\"2138\",\"type\":\"LinearAxis\"}],\"center\":[{\"id\":\"2142\",\"type\":\"Grid\"},{\"id\":\"2147\",\"type\":\"Grid\"}],\"left\":[{\"id\":\"2143\",\"type\":\"LinearAxis\"}],\"plot_height\":400,\"plot_width\":800,\"renderers\":[{\"id\":\"2164\",\"type\":\"GlyphRenderer\"}],\"title\":{\"id\":\"2128\",\"type\":\"Title\"},\"toolbar\":{\"id\":\"2154\",\"type\":\"Toolbar\"},\"x_range\":{\"id\":\"2130\",\"type\":\"DataRange1d\"},\"x_scale\":{\"id\":\"2134\",\"type\":\"LinearScale\"},\"y_range\":{\"id\":\"2132\",\"type\":\"DataRange1d\"},\"y_scale\":{\"id\":\"2136\",\"type\":\"LinearScale\"}},\"id\":\"2127\",\"subtype\":\"Figure\",\"type\":\"Plot\"},{\"attributes\":{},\"id\":\"2134\",\"type\":\"LinearScale\"},{\"attributes\":{\"line_alpha\":0.1,\"line_color\":\"#1f77b4\",\"line_width\":2,\"x\":{\"field\":\"x\"},\"y\":{\"field\":\"y\"}},\"id\":\"2163\",\"type\":\"Line\"},{\"attributes\":{},\"id\":\"2250\",\"type\":\"Selection\"},{\"attributes\":{},\"id\":\"2148\",\"type\":\"PanTool\"},{\"attributes\":{\"callback\":null,\"data\":{\"x\":{\"__ndarray__\":\"AAAAAAAAEMAAAAAAAAD4vwAAAAAAAAAAAAAAAAAA+D8AAAAAAAAEQJqZmZmZmQVA\",\"dtype\":\"float64\",\"shape\":[6]},\"y\":{\"__ndarray__\":\"8FG4HoXrEUDtUbgeheMVQAAAAAAAABhACdejcD36AcAAAAAAAEgYwGzVKxuMHxXA\",\"dtype\":\"float64\",\"shape\":[6]}},\"selected\":{\"id\":\"2250\",\"type\":\"Selection\"},\"selection_policy\":{\"id\":\"2249\",\"type\":\"UnionRenderers\"}},\"id\":\"2161\",\"type\":\"ColumnDataSource\"},{\"attributes\":{},\"id\":\"2246\",\"type\":\"BasicTickFormatter\"},{\"attributes\":{\"active_drag\":\"auto\",\"active_inspect\":\"auto\",\"active_multi\":null,\"active_scroll\":\"auto\",\"active_tap\":\"auto\",\"tools\":[{\"id\":\"2148\",\"type\":\"PanTool\"},{\"id\":\"2149\",\"type\":\"WheelZoomTool\"},{\"id\":\"2150\",\"type\":\"BoxZoomTool\"},{\"id\":\"2151\",\"type\":\"SaveTool\"},{\"id\":\"2152\",\"type\":\"ResetTool\"},{\"id\":\"2153\",\"type\":\"HelpTool\"}]},\"id\":\"2154\",\"type\":\"Toolbar\"},{\"attributes\":{\"callback\":null},\"id\":\"2130\",\"type\":\"DataRange1d\"},{\"attributes\":{},\"id\":\"2149\",\"type\":\"WheelZoomTool\"},{\"attributes\":{},\"id\":\"2152\",\"type\":\"ResetTool\"},{\"attributes\":{\"ticker\":{\"id\":\"2139\",\"type\":\"BasicTicker\"}},\"id\":\"2142\",\"type\":\"Grid\"},{\"attributes\":{\"source\":{\"id\":\"2161\",\"type\":\"ColumnDataSource\"}},\"id\":\"2165\",\"type\":\"CDSView\"},{\"attributes\":{},\"id\":\"2249\",\"type\":\"UnionRenderers\"},{\"attributes\":{\"axis_label\":\"f(x)\",\"formatter\":{\"id\":\"2246\",\"type\":\"BasicTickFormatter\"},\"ticker\":{\"id\":\"2144\",\"type\":\"BasicTicker\"}},\"id\":\"2143\",\"type\":\"LinearAxis\"},{\"attributes\":{\"overlay\":{\"id\":\"2251\",\"type\":\"BoxAnnotation\"}},\"id\":\"2150\",\"type\":\"BoxZoomTool\"},{\"attributes\":{\"data_source\":{\"id\":\"2161\",\"type\":\"ColumnDataSource\"},\"glyph\":{\"id\":\"2162\",\"type\":\"Line\"},\"hover_glyph\":null,\"muted_glyph\":null,\"nonselection_glyph\":{\"id\":\"2163\",\"type\":\"Line\"},\"selection_glyph\":null,\"view\":{\"id\":\"2165\",\"type\":\"CDSView\"}},\"id\":\"2164\",\"type\":\"GlyphRenderer\"},{\"attributes\":{\"bottom_units\":\"screen\",\"fill_alpha\":{\"value\":0.5},\"fill_color\":{\"value\":\"lightgrey\"},\"left_units\":\"screen\",\"level\":\"overlay\",\"line_alpha\":{\"value\":1.0},\"line_color\":{\"value\":\"black\"},\"line_dash\":[4,4],\"line_width\":{\"value\":2},\"render_mode\":\"css\",\"right_units\":\"screen\",\"top_units\":\"screen\"},\"id\":\"2251\",\"type\":\"BoxAnnotation\"},{\"attributes\":{\"dimension\":1,\"ticker\":{\"id\":\"2144\",\"type\":\"BasicTicker\"}},\"id\":\"2147\",\"type\":\"Grid\"},{\"attributes\":{\"callback\":null},\"id\":\"2132\",\"type\":\"DataRange1d\"},{\"attributes\":{},\"id\":\"2139\",\"type\":\"BasicTicker\"},{\"attributes\":{\"axis_label\":\"x\",\"formatter\":{\"id\":\"2248\",\"type\":\"BasicTickFormatter\"},\"ticker\":{\"id\":\"2139\",\"type\":\"BasicTicker\"}},\"id\":\"2138\",\"type\":\"LinearAxis\"},{\"attributes\":{},\"id\":\"2248\",\"type\":\"BasicTickFormatter\"},{\"attributes\":{},\"id\":\"2144\",\"type\":\"BasicTicker\"},{\"attributes\":{\"line_color\":\"#1f77b4\",\"line_width\":2,\"x\":{\"field\":\"x\"},\"y\":{\"field\":\"y\"}},\"id\":\"2162\",\"type\":\"Line\"},{\"attributes\":{},\"id\":\"2136\",\"type\":\"LinearScale\"},{\"attributes\":{},\"id\":\"2153\",\"type\":\"HelpTool\"},{\"attributes\":{\"text\":\"kill me\"},\"id\":\"2128\",\"type\":\"Title\"},{\"attributes\":{},\"id\":\"2151\",\"type\":\"SaveTool\"}],\"root_ids\":[\"2127\"]},\"title\":\"Bokeh Application\",\"version\":\"1.2.0\"}};\n",
       "  var render_items = [{\"docid\":\"8adc4765-d43c-4ec7-b08f-5924647e8226\",\"roots\":{\"2127\":\"3bcc056b-c9e1-46a0-86ac-9cfd09461c8b\"}}];\n",
       "  root.Bokeh.embed.embed_items_notebook(docs_json, render_items);\n",
       "\n",
       "  }\n",
       "  if (root.Bokeh !== undefined) {\n",
       "    embed_document(root);\n",
       "  } else {\n",
       "    var attempts = 0;\n",
       "    var timer = setInterval(function(root) {\n",
       "      if (root.Bokeh !== undefined) {\n",
       "        embed_document(root);\n",
       "        clearInterval(timer);\n",
       "      }\n",
       "      attempts++;\n",
       "      if (attempts > 100) {\n",
       "        console.log(\"Bokeh: ERROR: Unable to run BokehJS code because BokehJS library is missing\");\n",
       "        clearInterval(timer);\n",
       "      }\n",
       "    }, 10, root)\n",
       "  }\n",
       "})(window);"
      ],
      "application/vnd.bokehjs_exec.v0+json": ""
     },
     "metadata": {
      "application/vnd.bokehjs_exec.v0+json": {
       "id": "2127"
      }
     },
     "output_type": "display_data"
    }
   ],
   "source": [
    "p = figure(plot_width = 800,plot_height = 400,x_axis_label = 'x',y_axis_label = 'f(x)',title = 'kill me')\n",
    "p.line(x_obs,y_obs,line_width = 2)\n",
    "show(p)"
   ]
  },
  {
   "cell_type": "code",
   "execution_count": 80,
   "metadata": {},
   "outputs": [],
   "source": [
    "K = k(x_obs, x_obs)\n",
    "K_s = k(x_obs, x_s)\n",
    "K_ss = k(x_s, x_s)\n",
    "\n",
    "K_sTKinv = np.matmul(K_s.T, np.linalg.pinv(K))\n",
    "\n",
    "mu_s = m(x_s) + np.matmul(K_sTKinv, y_obs - m(x_obs))\n",
    "Sigma_s = K_ss - np.matmul(K_sTKinv, K_s)"
   ]
  },
  {
   "cell_type": "code",
   "execution_count": 88,
   "metadata": {},
   "outputs": [
    {
     "data": {
      "text/plain": [
       "array([ 4.34986052e-10,  9.13015936e-10,  1.84848852e-09,  3.60982367e-09,\n",
       "        6.79952767e-09,  1.23533084e-08,  2.16461527e-08,  3.65797444e-08,\n",
       "        5.96093287e-08,  9.36532047e-08,  1.41820442e-07,  2.06898493e-07,\n",
       "        2.90565844e-07,  3.92333651e-07,  5.08265395e-07,  6.29561374e-07,\n",
       "        7.41115274e-07,  8.20157221e-07,  8.35118118e-07,  7.44930464e-07,\n",
       "        4.99168384e-07,  3.97357668e-08, -6.94830625e-07, -1.76113726e-06,\n",
       "       -3.19762354e-06, -5.00579530e-06, -7.12725178e-06, -9.42011785e-06,\n",
       "       -1.16411648e-05, -1.34420970e-05, -1.43891829e-05, -1.40136371e-05,\n",
       "       -1.18952638e-05, -7.77389002e-06, -1.67293553e-06,  5.99100563e-06,\n",
       "        1.43466806e-05,  2.20909847e-05,  2.76250507e-05,  2.93137235e-05,\n",
       "        2.58479689e-05,  1.66514713e-05,  2.23552165e-06, -1.56164228e-05,\n",
       "       -3.39465148e-05, -4.90677899e-05, -5.73349102e-05, -5.61070209e-05,\n",
       "       -4.46664324e-05, -2.48031200e-05, -8.03584167e-07,  2.13004969e-05,\n",
       "        3.51981113e-05,  3.63066958e-05,  2.41286217e-05,  4.96854990e-06,\n",
       "       -4.47998421e-06,  2.86186919e-05,  1.63458911e-04,  5.03585166e-04,\n",
       "        1.22665588e-03,  2.62978960e-03,  5.19249572e-03,  9.65492580e-03,\n",
       "        1.71018615e-02,  2.90327027e-02,  4.73864609e-02,  7.44821151e-02,\n",
       "        1.12834106e-01,  1.64816040e-01,  2.32176433e-01,  3.15456678e-01,\n",
       "        4.13414002e-01,  5.22594123e-01,  6.37209881e-01,  7.49447761e-01,\n",
       "        8.50241244e-01,  9.30433629e-01,  9.82135222e-01,  9.99999853e-01])"
      ]
     },
     "execution_count": 88,
     "metadata": {},
     "output_type": "execute_result"
    }
   ],
   "source": [
    "Sigma_s[79]"
   ]
  },
  {
   "cell_type": "code",
   "execution_count": 95,
   "metadata": {
    "scrolled": true
   },
   "outputs": [
    {
     "data": {
      "text/html": [
       "\n",
       "\n",
       "\n",
       "\n",
       "\n",
       "\n",
       "  <div class=\"bk-root\" id=\"1a90f43e-624e-4d2e-8efe-7b413f1867c1\" data-root-id=\"3023\"></div>\n"
      ]
     },
     "metadata": {},
     "output_type": "display_data"
    },
    {
     "data": {
      "application/javascript": [
       "(function(root) {\n",
       "  function embed_document(root) {\n",
       "    \n",
       "  var docs_json = {\"ec28e3a9-4411-49d1-960b-9823f1def360\":{\"roots\":{\"references\":[{\"attributes\":{\"below\":[{\"id\":\"3032\",\"type\":\"LinearAxis\"}],\"center\":[{\"id\":\"3036\",\"type\":\"Grid\"},{\"id\":\"3041\",\"type\":\"Grid\"},{\"id\":\"3067\",\"type\":\"Legend\"}],\"left\":[{\"id\":\"3037\",\"type\":\"LinearAxis\"}],\"plot_width\":800,\"renderers\":[{\"id\":\"3058\",\"type\":\"GlyphRenderer\"},{\"id\":\"3072\",\"type\":\"GlyphRenderer\"},{\"id\":\"3087\",\"type\":\"GlyphRenderer\"},{\"id\":\"3104\",\"type\":\"GlyphRenderer\"},{\"id\":\"3109\",\"type\":\"GlyphRenderer\"},{\"id\":\"3114\",\"type\":\"GlyphRenderer\"},{\"id\":\"3119\",\"type\":\"GlyphRenderer\"}],\"title\":{\"id\":\"3060\",\"type\":\"Title\"},\"toolbar\":{\"id\":\"3048\",\"type\":\"Toolbar\"},\"x_range\":{\"id\":\"3024\",\"type\":\"DataRange1d\"},\"x_scale\":{\"id\":\"3028\",\"type\":\"LinearScale\"},\"y_range\":{\"id\":\"3026\",\"type\":\"Range1d\"},\"y_scale\":{\"id\":\"3030\",\"type\":\"LinearScale\"}},\"id\":\"3023\",\"subtype\":\"Figure\",\"type\":\"Plot\"},{\"attributes\":{},\"id\":\"3287\",\"type\":\"UnionRenderers\"},{\"attributes\":{\"ticker\":{\"id\":\"3033\",\"type\":\"BasicTicker\"}},\"id\":\"3036\",\"type\":\"Grid\"},{\"attributes\":{\"data_source\":{\"id\":\"3084\",\"type\":\"ColumnDataSource\"},\"glyph\":{\"id\":\"3085\",\"type\":\"Patch\"},\"hover_glyph\":null,\"muted_glyph\":null,\"nonselection_glyph\":{\"id\":\"3086\",\"type\":\"Patch\"},\"selection_glyph\":null,\"view\":{\"id\":\"3088\",\"type\":\"CDSView\"}},\"id\":\"3087\",\"type\":\"GlyphRenderer\"},{\"attributes\":{\"callback\":null},\"id\":\"3024\",\"type\":\"DataRange1d\"},{\"attributes\":{\"label\":{\"value\":\"Mean\"},\"renderers\":[{\"id\":\"3119\",\"type\":\"GlyphRenderer\"}]},\"id\":\"3140\",\"type\":\"LegendItem\"},{\"attributes\":{\"line_alpha\":0.4,\"line_color\":\"blue\",\"line_width\":3,\"x\":{\"field\":\"x\"},\"y\":{\"field\":\"y\"}},\"id\":\"3117\",\"type\":\"Line\"},{\"attributes\":{},\"id\":\"3065\",\"type\":\"BasicTickFormatter\"},{\"attributes\":{\"active_drag\":\"auto\",\"active_inspect\":\"auto\",\"active_multi\":null,\"active_scroll\":\"auto\",\"active_tap\":\"auto\",\"tools\":[{\"id\":\"3042\",\"type\":\"PanTool\"},{\"id\":\"3043\",\"type\":\"WheelZoomTool\"},{\"id\":\"3044\",\"type\":\"BoxZoomTool\"},{\"id\":\"3045\",\"type\":\"SaveTool\"},{\"id\":\"3046\",\"type\":\"ResetTool\"},{\"id\":\"3047\",\"type\":\"HelpTool\"}]},\"id\":\"3048\",\"type\":\"Toolbar\"},{\"attributes\":{\"fill_alpha\":{\"value\":0.1},\"fill_color\":{\"value\":\"#1f77b4\"},\"line_alpha\":{\"value\":0.1},\"line_color\":{\"value\":\"#1f77b4\"},\"size\":{\"units\":\"screen\",\"value\":20},\"x\":{\"field\":\"x\"},\"y\":{\"field\":\"y\"}},\"id\":\"3071\",\"type\":\"Cross\"},{\"attributes\":{\"callback\":null,\"data\":{\"x\":{\"__ndarray__\":\"AAAAAAAAIMB7BqLSkT0fwPYMRKUjex7AcRPmd7W4HcDsGYhKR/YcwGggKh3ZMxzA4ybM72pxG8BeLW7C/K4awNkzEJWO7BnAVDqyZyAqGcDPQFQ6smcYwEpH9gxEpRfAxk2Y39XiFsBAVDqyZyAWwLxa3IT5XRXAN2F+V4ubFMCyZyAqHdkTwC1uwvyuFhPAqHRkz0BUEsAkewai0pERwJ6BqHRkzxDAGohKR/YMEMAqHdkzEJUOwCAqHdkzEA3AFjdhfleLC8AMRKUjewYKwAJR6ciegQjA+F0tbsL8BsDwanET5ncFwOZ3tbgJ8wPA3IT5XS1uAsDSkT0DUekAwJA9A1HpyP6/fFeLmzC/+79ocRPmd7X4v1SLmzC/q/W/QKUjewai8r9gfleLmzDvvziyZyAqHem/EOZ3tbgJ47/QMxCVjuzZvwA3YX5Xi8u/ADMQlY7smb9AKh3ZMxDFP2AtbsL8rtY/4OImzO9q4T8ArxY3YX7nPzB7BqLSke0/qCN7BqLS8T+4CfO7Wtz0P9DvanET5vc/4NXiJszv+j/4u1rchPn9PwRR6ciegQBAEESlI3sGAkAYN2F+V4sDQCAqHdkzEAVALB3ZMxCVBkA0EJWO7BkIQEADUenInglASPYMRKUjC0BU6ciegagMQFzchPldLQ5AaM9AVDqyD0A4YX5Xi5sQQLxa3IT5XRFAQlQ6smcgEkDGTZjf1eISQExH9gxEpRNA0EBUOrJnFEBWOrJnICoVQNozEJWO7BVAYC1uwvyuFkDkJszvanEXQGggKh3ZMxhA7hmISkf2GEByE+Z3tbgZQPgMRKUjexpAfAai0pE9G0AAAAAAAAAcQA==\",\"dtype\":\"float64\",\"shape\":[80]},\"y\":{\"__ndarray__\":\"Jjyl/7qhVz9oj63lPc1oP+jdSEChG3k/TQmD9JSEiD8B4rSHEBiXP8f84qCL+6Q/Bm8QiKZjsj/YA5aefRe/P17mZgiYWsk/D9Rbs3Xx0z8KtJ38rUPePyNZRIXIJuY/nQyaafdH7z8CeX7ssU71P4zhwDxiAfw/+n4G/jnCAUB+NHOxf7wFQBWUV05UrwlA3npGZP5QDUDQ298ffywQQIUXb0FQRhFApkMrqWDlEUDjCb+J9gkSQNeLpPdMxhFACm7PVzk8EUAWYTGPpJcQQCt7UsTpBhBA1XAIn2hlD0CgUX6PNG4PQNepbppnHxBANzY7ImrlEEA4qs5RO/QRQKSmPqa0LRNACQAIlCRxFEB9E841n6EVQHUVJV11qhZAG18oK+WAF0Aa3PpOzyIYQBGuJYvukhhAghV70I/TGEB20OH+BOEYQOiGQ6MNrRhA8UEsTFMcGEAjQT8A7wYXQI1zwDa0PBVAcpW4Vo+NEkA8FDI98qoNQGIiJS2hFARA9G8URnAi8T8kWmMUwSXhv90npTfSigHAo8ZWI/b/DcAtgevWTTAUwCyM3w+wxBfA41b+JsNaGcBPuVL8n9QYwNG5OCE1YBbAz4qPD3luEsCeNylVMDkLwIRt/xhWKgHA2N0ZhD6L779gLyN43M2gv1wti11b9OQ/zfFcnYEc8T8iCY2UgeTzP28h8BYYufM/yGUF6bOh8T9MhvAFMyLtP0R5Qi34ieY/5AHMSh114D9OEoyguMzWPwIuIyOwEc4/gsLu7Fvswj/mUQXj8sW2P3B8qZvePao/IrQSgDv8nD8y7e8uTbeOP6oy3TM9QH8/woSw8j+Lbj/6XTivKrFcPw==\",\"dtype\":\"float64\",\"shape\":[80]}},\"selected\":{\"id\":\"3288\",\"type\":\"Selection\"},\"selection_policy\":{\"id\":\"3287\",\"type\":\"UnionRenderers\"}},\"id\":\"3116\",\"type\":\"ColumnDataSource\"},{\"attributes\":{},\"id\":\"3136\",\"type\":\"Selection\"},{\"attributes\":{},\"id\":\"3047\",\"type\":\"HelpTool\"},{\"attributes\":{\"formatter\":{\"id\":\"3065\",\"type\":\"BasicTickFormatter\"},\"ticker\":{\"id\":\"3033\",\"type\":\"BasicTicker\"}},\"id\":\"3032\",\"type\":\"LinearAxis\"},{\"attributes\":{\"label\":{\"value\":\"True f(x)\"},\"renderers\":[{\"id\":\"3058\",\"type\":\"GlyphRenderer\"}]},\"id\":\"3068\",\"type\":\"LegendItem\"},{\"attributes\":{\"callback\":null,\"data\":{\"x\":{\"__ndarray__\":\"AAAAAAAAIMB7BqLSkT0fwPYMRKUjex7AcRPmd7W4HcDsGYhKR/YcwGggKh3ZMxzA4ybM72pxG8BeLW7C/K4awNkzEJWO7BnAVDqyZyAqGcDPQFQ6smcYwEpH9gxEpRfAxk2Y39XiFsBAVDqyZyAWwLxa3IT5XRXAN2F+V4ubFMCyZyAqHdkTwC1uwvyuFhPAqHRkz0BUEsAkewai0pERwJ6BqHRkzxDAGohKR/YMEMAqHdkzEJUOwCAqHdkzEA3AFjdhfleLC8AMRKUjewYKwAJR6ciegQjA+F0tbsL8BsDwanET5ncFwOZ3tbgJ8wPA3IT5XS1uAsDSkT0DUekAwJA9A1HpyP6/fFeLmzC/+79ocRPmd7X4v1SLmzC/q/W/QKUjewai8r9gfleLmzDvvziyZyAqHem/EOZ3tbgJ47/QMxCVjuzZvwA3YX5Xi8u/ADMQlY7smb9AKh3ZMxDFP2AtbsL8rtY/4OImzO9q4T8ArxY3YX7nPzB7BqLSke0/qCN7BqLS8T+4CfO7Wtz0P9DvanET5vc/4NXiJszv+j/4u1rchPn9PwRR6ciegQBAEESlI3sGAkAYN2F+V4sDQCAqHdkzEAVALB3ZMxCVBkA0EJWO7BkIQEADUenInglASPYMRKUjC0BU6ciegagMQFzchPldLQ5AaM9AVDqyD0A4YX5Xi5sQQLxa3IT5XRFAQlQ6smcgEkDGTZjf1eISQExH9gxEpRNA0EBUOrJnFEBWOrJnICoVQNozEJWO7BVAYC1uwvyuFkDkJszvanEXQGggKh3ZMxhA7hmISkf2GEByE+Z3tbgZQPgMRKUjexpAfAai0pE9G0AAAAAAAAAcQA==\",\"dtype\":\"float64\",\"shape\":[80]},\"y\":{\"__ndarray__\":\"O0/2wM0S2L8H2MDsRcbkv7wGGNXEOu2/ubf4hXeF8r+to4XJK9b1v12vQKrzK/i/HYfWySQS+b8wjzRxCCP4v0M2DmDVLPW/26ffuMlI8L/D0gOxla/jv1AR40WNKsO/eqcgaukI1j/Vguf8BezqP3EdBIzDQvU/paLGLzfm/D+SAzuZYDwCQK0a4HScBwZA0o0gdvvPCUBQvHMXR3oNQM+KfZtwaxBAbTR4ZWHWEUCohosEFeUSQMzzPRGsihNAddEtK8LLE0ALmZ88DL8TQJrC4YWziBNAyM8ZtpZRE0DNAZgU2zwTQFQx6CH6XhNAc9OH1WC5E0DExVgGaTwUQNd0DuALzxRAA+gIGzJZFUBZae/oWswVQOQp+mNGJxZAP709aMlzFkDrnrclacAWQHEMx2t5GBdAAKixrwV9F0BUhmDIs98XQCCPcyghIBhA2eDemE4MGEDxXW5c/mQXQH8tdQym5hVACqgLwHJWE0DVBr2yfiIPQFRO23suMgVAQI+pJJJ28j+gKBbt0Rjgv447pbpeiQHAnKlOSksXDsCLn4FhajoUwAk8kqfVyBfAPwYzRiZbGcDEeZORgdQYwGVGS2dRYBbAXeTXXlZuEsCRqHdH2j8LwObDt6kXUwHAfkNfcM6/8L8RFa2k0VLFvyx5XITyz9o/4aHWTYvc5j8TOlnobLXoP0I8M4L/eeU/3ifs9MK13z/E55mDa0zUP3TpKMIJ28c/GidGRZdtwD+p7bUJGpjCP1vdfKgIPcw/PrVK+PzH1D/0PbhSD/jaPzF/ZX8Sed4/urF8dC3E3T+Ulse8xH/YP4qip+NSXc8/WFpLMmCBtT/wjSdednWwvw==\",\"dtype\":\"float64\",\"shape\":[80]}},\"selected\":{\"id\":\"3134\",\"type\":\"Selection\"},\"selection_policy\":{\"id\":\"3133\",\"type\":\"UnionRenderers\"}},\"id\":\"3101\",\"type\":\"ColumnDataSource\"},{\"attributes\":{},\"id\":\"3080\",\"type\":\"UnionRenderers\"},{\"attributes\":{\"source\":{\"id\":\"3069\",\"type\":\"ColumnDataSource\"}},\"id\":\"3073\",\"type\":\"CDSView\"},{\"attributes\":{\"callback\":null,\"end\":8,\"start\":-7},\"id\":\"3026\",\"type\":\"Range1d\"},{\"attributes\":{\"line_color\":\"#1f77b4\",\"x\":{\"field\":\"x\"},\"y\":{\"field\":\"y\"}},\"id\":\"3102\",\"type\":\"Line\"},{\"attributes\":{},\"id\":\"3132\",\"type\":\"Selection\"},{\"attributes\":{},\"id\":\"3081\",\"type\":\"Selection\"},{\"attributes\":{},\"id\":\"3133\",\"type\":\"UnionRenderers\"},{\"attributes\":{\"callback\":null,\"data\":{\"x\":{\"__ndarray__\":\"AAAAAAAAIMB7BqLSkT0fwPYMRKUjex7AcRPmd7W4HcDsGYhKR/YcwGggKh3ZMxzA4ybM72pxG8BeLW7C/K4awNkzEJWO7BnAVDqyZyAqGcDPQFQ6smcYwEpH9gxEpRfAxk2Y39XiFsBAVDqyZyAWwLxa3IT5XRXAN2F+V4ubFMCyZyAqHdkTwC1uwvyuFhPAqHRkz0BUEsAkewai0pERwJ6BqHRkzxDAGohKR/YMEMAqHdkzEJUOwCAqHdkzEA3AFjdhfleLC8AMRKUjewYKwAJR6ciegQjA+F0tbsL8BsDwanET5ncFwOZ3tbgJ8wPA3IT5XS1uAsDSkT0DUekAwJA9A1HpyP6/fFeLmzC/+79ocRPmd7X4v1SLmzC/q/W/QKUjewai8r9gfleLmzDvvziyZyAqHem/EOZ3tbgJ47/QMxCVjuzZvwA3YX5Xi8u/ADMQlY7smb9AKh3ZMxDFP2AtbsL8rtY/4OImzO9q4T8ArxY3YX7nPzB7BqLSke0/qCN7BqLS8T+4CfO7Wtz0P9DvanET5vc/4NXiJszv+j/4u1rchPn9PwRR6ciegQBAEESlI3sGAkAYN2F+V4sDQCAqHdkzEAVALB3ZMxCVBkA0EJWO7BkIQEADUenInglASPYMRKUjC0BU6ciegagMQFzchPldLQ5AaM9AVDqyD0A4YX5Xi5sQQLxa3IT5XRFAQlQ6smcgEkDGTZjf1eISQExH9gxEpRNA0EBUOrJnFEBWOrJnICoVQNozEJWO7BVAYC1uwvyuFkDkJszvanEXQGggKh3ZMxhA7hmISkf2GEByE+Z3tbgZQPgMRKUjexpAfAai0pE9G0AAAAAAAAAcQAAAAAAAABxAfAai0pE9G0D4DESlI3saQHIT5ne1uBlA7hmISkf2GEBoICod2TMYQOQmzO9qcRdAYC1uwvyuFkDaMxCVjuwVQFY6smcgKhVA0EBUOrJnFEBMR/YMRKUTQMZNmN/V4hJAQlQ6smcgEkC8WtyE+V0RQDhhfleLmxBAaM9AVDqyD0Bc3IT5XS0OQFTpyJ6BqAxASPYMRKUjC0BAA1HpyJ4JQDQQlY7sGQhALB3ZMxCVBkAgKh3ZMxAFQBg3YX5XiwNAEESlI3sGAkAEUenInoEAQPi7WtyE+f0/4NXiJszv+j/Q72pxE+b3P7gJ87ta3PQ/qCN7BqLS8T8wewai0pHtPwCvFjdhfuc/4OImzO9q4T9gLW7C/K7WP0AqHdkzEMU/ADMQlY7smb8AN2F+V4vLv9AzEJWO7Nm/EOZ3tbgJ4784smcgKh3pv2B+V4ubMO+/QKUjewai8r9Ui5swv6v1v2hxE+Z3tfi/fFeLmzC/+7+QPQNR6cj+v9KRPQNR6QDA3IT5XS1uAsDmd7W4CfMDwPBqcRPmdwXA+F0tbsL8BsACUenInoEIwAxEpSN7BgrAFjdhfleLC8AgKh3ZMxANwCod2TMQlQ7AGohKR/YMEMCegah0ZM8QwCR7BqLSkRHAqHRkz0BUEsAtbsL8rhYTwLJnICod2RPAN2F+V4ubFMC8WtyE+V0VwEBUOrJnIBbAxk2Y39XiFsBKR/YMRKUXwM9AVDqyZxjAVDqyZyAqGcDZMxCVjuwZwF4tbsL8rhrA4ybM72pxG8BoICod2TMcwOwZiEpH9hzAcRPmd7W4HcD2DESlI3sewHsGotKRPR/AAAAAAAAAIMA=\",\"dtype\":\"float64\",\"shape\":[160]},\"y\":{\"__ndarray__\":\"bcY8KPQCAEDl6scMMwYAQJSlOb+MDABAGlAngoAYAEC+1EusIS4AQFv+gXK+UwBALjxji4qSAEB68JKjGPcAQI/9w/ZNkQFA88VO+WNzAkDE+8CUka8DQIHdCfwuVAVAA/Yt/J1mB0BWfbRb3t0JQAilvylAngxANeEsitd3D0CMVVlZghQRQAIv1bHKMhJAAPEXkfTwEkDeK9f3LTATQO864Qcu3xJA9E3sxiD/EUDZ0xcbNm4TQLysLIfrkBRAKQ9UuoVAFUAmSL/BPpcVQCoz6z4qthVA6MltiEK9FUDfyCf5R8QVQJ3RVf501hVAFyvv8znyFUBHtvOS9gwWQDe5H4JmGRZAa3kunqEOFkA0WqPyaO0VQABwxCDqkhdAC98Tj/JfGUB8nPwINaAaQB665MEcRhtA409x8oBRG0AQig7VmssaQMh5gcxPwRlAcUPQ2848GEC7BzHJ9s0XQDx2+pSUuBZA16vkuOJvFEAJevShY8QQQAxrUbc4ZgdAbFGEsS7C9T8GCdtvAlfZv9d5GOrEggHANVpH5jVIDcD7vIbL3q4TwFWmntZMVBfA4agcKuQcGcCGIuw+R8oYwMjcQw7PWBbAtAFyhQBKEsA+Unw6SwEKwGXXQCLg4vy/aAoi50DM2b9TlLFrbEHqPwWlPSIZdfw/tlkQDPGCA0BTDYuC+IkGQFjLX0w1tQdAiuge1deLB0CEUkhHapYGQBpb8ubzRwVAdyzdV7DyA0AIEfFUEscCQJmD1bWq2QFAlqv0HwMsAUBtmx1PPbUAQLUXLK+qaABAFpnE8+E5AECRQsYxsR4AQL9h95WeDwBA2eeodKIHAECQQ6cRlgMAQPHq9o3T+P+/Lh9fqbnw/78ZCYexvOD/v23F0C6Fwv+/i5yIC+KL/7+il510dy3/v56M2kG8kf6/jKatRO+c/b+xO+Ji6S78v+gYnFnIJ/q/ClfuZENw97/xPKKg7wX0v7weoIihCvC/BgtmsI+o579IT32r6eDfv4gh8G+3K9W/SD+bdXsz07+k3skS9wLevz/6tfonW+y/PltRSi4Y+b9Vb94gPOMDwP4c1m8VcQzA6hOtmfGSEsDali00m2cWwBhQubn43hjA5QTgI6KYGcADciBJEzUYwF9FUOK8sRTAETNmYLa3DsDj1TGF35IBwMUv2fAAoOW/9xxJtWMF6T+42fiiCcMAQGY0ezYdzQlADX+M9DurEEDecIbY08ATQIt6TTfnPxZAcUCIvNf7F0AIlAV6y5gXQNwWtShv9hZAIduErp5VFkAEomZUwN8VQLgb+ZRppRVAK988x9ehFUDquoWZAMIVQMbM+HjVVRVAp4bhiafTEkARlF3KAkIQQFI8UyEAtwtAroIOoTSxB0AiBA9ttNAEQIIRrSzZUwNA2U01LUxQA0BZhnOTUq8EQA30RrkUMAdA1pmV6tlvCkDj1TjQXPcNQO0/Zvi2pRBAWDlqi6DLEUA26Pn15FoPQIUX0Y+gUQpAvBNdphPABEBLlAlyJvL9P8l7Z2D1n/I//HKAx3Ey4D+Qb9ifvZuzv04R2LyxPOK/0b6DHYkK77/eYc9ylYH0v4IdMytMPfi/3qHvGA3u+r+GQW7r9cv8v3ogU5NBC/6/fGrERaDY/r/qzPUqxFf/v2sCWtSCo/+/DpR8sO7O/79tufI74ub/vzooqtuY8/+/O7r5chf6/78=\",\"dtype\":\"float64\",\"shape\":[160]}},\"selected\":{\"id\":\"3132\",\"type\":\"Selection\"},\"selection_policy\":{\"id\":\"3131\",\"type\":\"UnionRenderers\"}},\"id\":\"3084\",\"type\":\"ColumnDataSource\"},{\"attributes\":{},\"id\":\"3288\",\"type\":\"Selection\"},{\"attributes\":{},\"id\":\"3137\",\"type\":\"UnionRenderers\"},{\"attributes\":{\"source\":{\"id\":\"3084\",\"type\":\"ColumnDataSource\"}},\"id\":\"3088\",\"type\":\"CDSView\"},{\"attributes\":{},\"id\":\"3033\",\"type\":\"BasicTicker\"},{\"attributes\":{\"callback\":null,\"data\":{\"x\":{\"__ndarray__\":\"AAAAAAAAIMB7BqLSkT0fwPYMRKUjex7AcRPmd7W4HcDsGYhKR/YcwGggKh3ZMxzA4ybM72pxG8BeLW7C/K4awNkzEJWO7BnAVDqyZyAqGcDPQFQ6smcYwEpH9gxEpRfAxk2Y39XiFsBAVDqyZyAWwLxa3IT5XRXAN2F+V4ubFMCyZyAqHdkTwC1uwvyuFhPAqHRkz0BUEsAkewai0pERwJ6BqHRkzxDAGohKR/YMEMAqHdkzEJUOwCAqHdkzEA3AFjdhfleLC8AMRKUjewYKwAJR6ciegQjA+F0tbsL8BsDwanET5ncFwOZ3tbgJ8wPA3IT5XS1uAsDSkT0DUekAwJA9A1HpyP6/fFeLmzC/+79ocRPmd7X4v1SLmzC/q/W/QKUjewai8r9gfleLmzDvvziyZyAqHem/EOZ3tbgJ47/QMxCVjuzZvwA3YX5Xi8u/ADMQlY7smb9AKh3ZMxDFP2AtbsL8rtY/4OImzO9q4T8ArxY3YX7nPzB7BqLSke0/qCN7BqLS8T+4CfO7Wtz0P9DvanET5vc/4NXiJszv+j/4u1rchPn9PwRR6ciegQBAEESlI3sGAkAYN2F+V4sDQCAqHdkzEAVALB3ZMxCVBkA0EJWO7BkIQEADUenInglASPYMRKUjC0BU6ciegagMQFzchPldLQ5AaM9AVDqyD0A4YX5Xi5sQQLxa3IT5XRFAQlQ6smcgEkDGTZjf1eISQExH9gxEpRNA0EBUOrJnFEBWOrJnICoVQNozEJWO7BVAYC1uwvyuFkDkJszvanEXQGggKh3ZMxhA7hmISkf2GEByE+Z3tbgZQPgMRKUjexpAfAai0pE9G0AAAAAAAAAcQA==\",\"dtype\":\"float64\",\"shape\":[80]},\"y\":{\"__ndarray__\":\"OvAhw0AY9z/qtiiJ+Kv1P7Sktyp/GfM/ao9Hx1fa7j+KGu/sy7rlP0iugoq7O9c/FsHAWqyDqj/i4OEL9PDKv5tXE32wINi/BWxuSOMH2r9UbZbBE3zRv4AgAEpNs50/o+uxukXb3j+CgqDK2MbwP3fBOBkL2vo/cLO0d7SLAkASPUFTIF4HQOa56AXimAtAwjLjXYcJD0AHfop41skQQLzZC1H0lRFAtpIg0grqEUDRGgUlac0RQPXomgzoThFAjUtTGn2GEECduKHc4CsPQDIdGaAlTw1A+Mp3n5fUC0A94d3FMxYLQDpKFKAuWgtARdslJfjDDEDA7v1J1EoPQI3mz6+3XBFApRp/fIBbE0A6aooQtWsVQHYdU/njVhdAoLa5yHbuGEDf/nUtVhEaQFTLma9NrhpAgtSoSR/DGkCTyf4/dlgaQMOQUA0kexlAVyM9I7EzGEBwiv6RW34WQAyj54qaRhRAb9TfgkdpEUAo7bhaBH4LQFGg4SnVWgJAiJEzdRzU7T9vmD+mvCPjvyvhkRArjgHA3D0J1rO3DcCK5f8sZv8TwF3eA7g3mxfAByV8/iNEGcD9NbZC1tAYwMRt/t3uYhbAtfXGavpgEsDkJM3TOsYKwKjh9pA9LgDAZ5k6Vx0Q6b+qb38D3E3PP8Aa65ZDie8/7lx1f4m99j++25q7l1n5Px41YPMysfg/eh+jqeUg9j8MBHgVUvvyP0p6UFGdS/A/DnX5RMJi7T+2di8RdrHsP8inlfN6F+4/4NGGf4BW8D+66CDQ7bPxP/yieJNRt/I/TlW1Frsm8z8widA62P3yPwtG97DJWPI/QZCBSMBQ8T8E6LPXErnvPw==\",\"dtype\":\"float64\",\"shape\":[80]}},\"selected\":{\"id\":\"3136\",\"type\":\"Selection\"},\"selection_policy\":{\"id\":\"3135\",\"type\":\"UnionRenderers\"}},\"id\":\"3106\",\"type\":\"ColumnDataSource\"},{\"attributes\":{},\"id\":\"3046\",\"type\":\"ResetTool\"},{\"attributes\":{},\"id\":\"3097\",\"type\":\"UnionRenderers\"},{\"attributes\":{\"line_color\":\"#2ca02c\",\"x\":{\"field\":\"x\"},\"y\":{\"field\":\"y\"}},\"id\":\"3112\",\"type\":\"Line\"},{\"attributes\":{\"data_source\":{\"id\":\"3106\",\"type\":\"ColumnDataSource\"},\"glyph\":{\"id\":\"3107\",\"type\":\"Line\"},\"hover_glyph\":null,\"muted_glyph\":null,\"nonselection_glyph\":{\"id\":\"3108\",\"type\":\"Line\"},\"selection_glyph\":null,\"view\":{\"id\":\"3110\",\"type\":\"CDSView\"}},\"id\":\"3109\",\"type\":\"GlyphRenderer\"},{\"attributes\":{\"label\":{\"value\":\"Training data\"},\"renderers\":[{\"id\":\"3072\",\"type\":\"GlyphRenderer\"}]},\"id\":\"3083\",\"type\":\"LegendItem\"},{\"attributes\":{\"source\":{\"id\":\"3106\",\"type\":\"ColumnDataSource\"}},\"id\":\"3110\",\"type\":\"CDSView\"},{\"attributes\":{\"line_alpha\":0.4,\"line_dash\":[6],\"line_width\":3,\"x\":{\"field\":\"x\"},\"y\":{\"field\":\"y\"}},\"id\":\"3056\",\"type\":\"Line\"},{\"attributes\":{\"line_alpha\":0.1,\"line_color\":\"#1f77b4\",\"x\":{\"field\":\"x\"},\"y\":{\"field\":\"y\"}},\"id\":\"3108\",\"type\":\"Line\"},{\"attributes\":{\"data_source\":{\"id\":\"3111\",\"type\":\"ColumnDataSource\"},\"glyph\":{\"id\":\"3112\",\"type\":\"Line\"},\"hover_glyph\":null,\"muted_glyph\":null,\"nonselection_glyph\":{\"id\":\"3113\",\"type\":\"Line\"},\"selection_glyph\":null,\"view\":{\"id\":\"3115\",\"type\":\"CDSView\"}},\"id\":\"3114\",\"type\":\"GlyphRenderer\"},{\"attributes\":{},\"id\":\"3028\",\"type\":\"LinearScale\"},{\"attributes\":{},\"id\":\"3030\",\"type\":\"LinearScale\"},{\"attributes\":{},\"id\":\"3135\",\"type\":\"UnionRenderers\"},{\"attributes\":{\"data_source\":{\"id\":\"3101\",\"type\":\"ColumnDataSource\"},\"glyph\":{\"id\":\"3102\",\"type\":\"Line\"},\"hover_glyph\":null,\"muted_glyph\":null,\"nonselection_glyph\":{\"id\":\"3103\",\"type\":\"Line\"},\"selection_glyph\":null,\"view\":{\"id\":\"3105\",\"type\":\"CDSView\"}},\"id\":\"3104\",\"type\":\"GlyphRenderer\"},{\"attributes\":{},\"id\":\"3098\",\"type\":\"Selection\"},{\"attributes\":{\"source\":{\"id\":\"3101\",\"type\":\"ColumnDataSource\"}},\"id\":\"3105\",\"type\":\"CDSView\"},{\"attributes\":{\"text\":\"\"},\"id\":\"3060\",\"type\":\"Title\"},{\"attributes\":{\"line_alpha\":0.1,\"line_color\":\"#1f77b4\",\"line_width\":3,\"x\":{\"field\":\"x\"},\"y\":{\"field\":\"y\"}},\"id\":\"3118\",\"type\":\"Line\"},{\"attributes\":{\"line_color\":\"#ff7f0e\",\"x\":{\"field\":\"x\"},\"y\":{\"field\":\"y\"}},\"id\":\"3107\",\"type\":\"Line\"},{\"attributes\":{},\"id\":\"3043\",\"type\":\"WheelZoomTool\"},{\"attributes\":{\"data_source\":{\"id\":\"3116\",\"type\":\"ColumnDataSource\"},\"glyph\":{\"id\":\"3117\",\"type\":\"Line\"},\"hover_glyph\":null,\"muted_glyph\":null,\"nonselection_glyph\":{\"id\":\"3118\",\"type\":\"Line\"},\"selection_glyph\":null,\"view\":{\"id\":\"3120\",\"type\":\"CDSView\"}},\"id\":\"3119\",\"type\":\"GlyphRenderer\"},{\"attributes\":{\"callback\":null,\"data\":{\"x\":{\"__ndarray__\":\"AAAAAAAAIMB7BqLSkT0fwPYMRKUjex7AcRPmd7W4HcDsGYhKR/YcwGggKh3ZMxzA4ybM72pxG8BeLW7C/K4awNkzEJWO7BnAVDqyZyAqGcDPQFQ6smcYwEpH9gxEpRfAxk2Y39XiFsBAVDqyZyAWwLxa3IT5XRXAN2F+V4ubFMCyZyAqHdkTwC1uwvyuFhPAqHRkz0BUEsAkewai0pERwJ6BqHRkzxDAGohKR/YMEMAqHdkzEJUOwCAqHdkzEA3AFjdhfleLC8AMRKUjewYKwAJR6ciegQjA+F0tbsL8BsDwanET5ncFwOZ3tbgJ8wPA3IT5XS1uAsDSkT0DUekAwJA9A1HpyP6/fFeLmzC/+79ocRPmd7X4v1SLmzC/q/W/QKUjewai8r9gfleLmzDvvziyZyAqHem/EOZ3tbgJ47/QMxCVjuzZvwA3YX5Xi8u/ADMQlY7smb9AKh3ZMxDFP2AtbsL8rtY/4OImzO9q4T8ArxY3YX7nPzB7BqLSke0/qCN7BqLS8T+4CfO7Wtz0P9DvanET5vc/4NXiJszv+j/4u1rchPn9PwRR6ciegQBAEESlI3sGAkAYN2F+V4sDQCAqHdkzEAVALB3ZMxCVBkA0EJWO7BkIQEADUenInglASPYMRKUjC0BU6ciegagMQFzchPldLQ5AaM9AVDqyD0A4YX5Xi5sQQLxa3IT5XRFAQlQ6smcgEkDGTZjf1eISQExH9gxEpRNA0EBUOrJnFEBWOrJnICoVQNozEJWO7BVAYC1uwvyuFkDkJszvanEXQGggKh3ZMxhA7hmISkf2GEByE+Z3tbgZQPgMRKUjexpAfAai0pE9G0AAAAAAAAAcQA==\",\"dtype\":\"float64\",\"shape\":[80]},\"y\":{\"__ndarray__\":\"LRBnbisa2j83VHiHVnHlP35m+IaoNu0/UFw6urU08j/zJMKTHmv1P9hQvEdUCfg/rtPtFTjT+T98Czfq1J/6P8yvczs9b/o/CZbcbuB2+T9OPLknSCL4P7oHQUk9B/c/a0eihivN9j/GXVdBlgr4PxcL4Z49IPs/u8N5XogOAEBWUEDTbVoDQDqK18S3JgdAkg09O/4OC0Di5YbyaKsOQIXOJ7e80RBAV0E2z/7dEUDtnO2eQG8SQBe+BzEfjRJAhw9JgsVPEkCcRXQEnNsRQDAp8oOuWxFAsz8jk037EEA/46q8Mt8QQF7ud16SHhFA+SfwIE69EUDaD7Gof6kSQPejbYTHvhNAHhIuQjrQFEDST78borYVQDWZc822XRZAwqJRVRjKFkDS+AK7XxQXQLEnUZGQWhdAUmkY2P+tF0CCqkBVqQUYQHHpcoDIOhhAkdvSmokQGECiGzpApEIXQCypmQJ2lBVAgPXmVszbEkAZa6NjIA0OQA4T9B/6OwRAkPILB/sp8T8AuKaGFTzhvwVz3DsTiwHAOI7lNjv6DcCEczcQpi0UwPcpe/15xBfAGkrQ/SZcGcD+/0YVJtUYwHw1Zi6bXxbASOX1Lp5yEsB4TF+hOGcLwHJkCMERqgHAflg3hDXV8b/oPYEZZ1rQv7KQHC65KNQ/9lO7nkQp4z8DpkswsI3kP8PKFOb7mOA/5MQt1oS+0z8AOufgo1S1P3ihgZTX5bq/CN1otLhGzb8CI+us7QrSv8/0P3HspdG/qEHuIDeMzb+1AlFuy7nFv5Sl/j3HMby/y00D4qSzrr/oiJcs4y2Pv8REpHvLt6M/I6iocIH7vj+KGQRFewDQPw==\",\"dtype\":\"float64\",\"shape\":[80]}},\"selected\":{\"id\":\"3138\",\"type\":\"Selection\"},\"selection_policy\":{\"id\":\"3137\",\"type\":\"UnionRenderers\"}},\"id\":\"3111\",\"type\":\"ColumnDataSource\"},{\"attributes\":{\"source\":{\"id\":\"3055\",\"type\":\"ColumnDataSource\"}},\"id\":\"3059\",\"type\":\"CDSView\"},{\"attributes\":{\"fill_alpha\":0.1,\"fill_color\":\"#1f77b4\",\"line_alpha\":0.1,\"line_color\":\"#1f77b4\",\"line_width\":0,\"x\":{\"field\":\"x\"},\"y\":{\"field\":\"y\"}},\"id\":\"3086\",\"type\":\"Patch\"},{\"attributes\":{},\"id\":\"3042\",\"type\":\"PanTool\"},{\"attributes\":{\"label\":{\"value\":\"Uncertainty\"},\"renderers\":[{\"id\":\"3087\",\"type\":\"GlyphRenderer\"}]},\"id\":\"3100\",\"type\":\"LegendItem\"},{\"attributes\":{},\"id\":\"3134\",\"type\":\"Selection\"},{\"attributes\":{\"callback\":null,\"data\":{\"x\":{\"__ndarray__\":\"AAAAAAAAIMB7BqLSkT0fwPYMRKUjex7AcRPmd7W4HcDsGYhKR/YcwGggKh3ZMxzA4ybM72pxG8BeLW7C/K4awNkzEJWO7BnAVDqyZyAqGcDPQFQ6smcYwEpH9gxEpRfAxk2Y39XiFsBAVDqyZyAWwLxa3IT5XRXAN2F+V4ubFMCyZyAqHdkTwC1uwvyuFhPAqHRkz0BUEsAkewai0pERwJ6BqHRkzxDAGohKR/YMEMAqHdkzEJUOwCAqHdkzEA3AFjdhfleLC8AMRKUjewYKwAJR6ciegQjA+F0tbsL8BsDwanET5ncFwOZ3tbgJ8wPA3IT5XS1uAsDSkT0DUekAwJA9A1HpyP6/fFeLmzC/+79ocRPmd7X4v1SLmzC/q/W/QKUjewai8r9gfleLmzDvvziyZyAqHem/EOZ3tbgJ47/QMxCVjuzZvwA3YX5Xi8u/ADMQlY7smb9AKh3ZMxDFP2AtbsL8rtY/4OImzO9q4T8ArxY3YX7nPzB7BqLSke0/qCN7BqLS8T+4CfO7Wtz0P9DvanET5vc/4NXiJszv+j/4u1rchPn9PwRR6ciegQBAEESlI3sGAkAYN2F+V4sDQCAqHdkzEAVALB3ZMxCVBkA0EJWO7BkIQEADUenInglASPYMRKUjC0BU6ciegagMQFzchPldLQ5AaM9AVDqyD0A4YX5Xi5sQQLxa3IT5XRFAQlQ6smcgEkDGTZjf1eISQExH9gxEpRNA0EBUOrJnFEBWOrJnICoVQNozEJWO7BVAYC1uwvyuFkDkJszvanEXQGggKh3ZMxhA7hmISkf2GEByE+Z3tbgZQPgMRKUjexpAfAai0pE9G0AAAAAAAAAcQA==\",\"dtype\":\"float64\",\"shape\":[80]},\"y\":{\"__ndarray__\":\"ROF6FK4HbsA4/WvDtxtpwGx6VXTX0GTA7DH6UdIXYcB8qbMFvcRbwKgeCcQ3RlbALFrdbxmbUcBg8BDNOVhLwHjC8oZJx0TA8ER0R7O2PsBIexf57d41wFATlkKahi3AEOu0oiFLIsDAEvjP0zMTwICffT9xX/i/gMvdqXu86z8ADkkJTkIEQIDXQiis8gxA2JV/byUDEUDQgh7eIzESQOiOewhPZhJAdIG9Xfz2EUAkG0D5wSkRQHCjH4hfOBBATOyIXU6hDkB0It3czCoNQJREghWePgxAmiic3r/7C0AeOkMqnHAMQBqWm9DanA1A3CXsWjNzD0Ad3Vpnn+0QQI4TZbykWRJAQq8xXBLpE0DrRR1lfIQVQJ2Xz0mLEhdAXBzHtuR4GEDGkeR3FJ0ZQLmI9l11ZRpA4fJEJBq6GkBzsBxWtoUaQLYdWzSHthlAtKD5mjw/GEDTNpnm4RcWQHsCDtrGPhNARLHVB9FyD0BBnRlItCoHQB8em0S4pPs/bCHQ5OlV3T+Vz/r7R9brvypciZeHoAHAg64KOtTOC8CZIDS3CG8SwGS1KOZ3BxbAzhMUmLJBGMAA//R3bZ4YwKZxDAgujRbAORBSvGFrEcDwNtEp6gYBwLB1th1V0PM/AEracI3ZF0CSU/+Rf5AoQL3C36lGdTRAOZ1jbAfGPkALQ6+Jl8RFQJ+dJjjhiU1AwDMuF1ZwU0CnYub8FP1YQNF0rrKHhV9AcSGDZeySY0Aez+nJCP5nQKCEXVIUFG1ANxxeGwRzcUAh+Q1x8cJ0QPyT+5xXg3hA54ys8kW+fECiiwKlLL+AQB8Ub9FfZ4NATtJN5J1dhkCuR+F6FKiJQA==\",\"dtype\":\"float64\",\"shape\":[80]}},\"selected\":{\"id\":\"3081\",\"type\":\"Selection\"},\"selection_policy\":{\"id\":\"3080\",\"type\":\"UnionRenderers\"}},\"id\":\"3055\",\"type\":\"ColumnDataSource\"},{\"attributes\":{\"line_alpha\":0.1,\"line_color\":\"#1f77b4\",\"line_dash\":[6],\"line_width\":3,\"x\":{\"field\":\"x\"},\"y\":{\"field\":\"y\"}},\"id\":\"3057\",\"type\":\"Line\"},{\"attributes\":{\"formatter\":{\"id\":\"3063\",\"type\":\"BasicTickFormatter\"},\"ticker\":{\"id\":\"3038\",\"type\":\"BasicTicker\"}},\"id\":\"3037\",\"type\":\"LinearAxis\"},{\"attributes\":{\"callback\":null,\"data\":{\"x\":{\"__ndarray__\":\"AAAAAAAAEMAAAAAAAAD4vwAAAAAAAAAAAAAAAAAA+D8AAAAAAAAEQJqZmZmZmQVA\",\"dtype\":\"float64\",\"shape\":[6]},\"y\":{\"__ndarray__\":\"8FG4HoXrEUDtUbgeheMVQAAAAAAAABhACdejcD36AcAAAAAAAEgYwGzVKxuMHxXA\",\"dtype\":\"float64\",\"shape\":[6]}},\"selected\":{\"id\":\"3098\",\"type\":\"Selection\"},\"selection_policy\":{\"id\":\"3097\",\"type\":\"UnionRenderers\"}},\"id\":\"3069\",\"type\":\"ColumnDataSource\"},{\"attributes\":{\"fill_color\":{\"value\":\"#1f77b4\"},\"line_color\":{\"value\":\"#1f77b4\"},\"size\":{\"units\":\"screen\",\"value\":20},\"x\":{\"field\":\"x\"},\"y\":{\"field\":\"y\"}},\"id\":\"3070\",\"type\":\"Cross\"},{\"attributes\":{\"items\":[{\"id\":\"3068\",\"type\":\"LegendItem\"},{\"id\":\"3083\",\"type\":\"LegendItem\"},{\"id\":\"3100\",\"type\":\"LegendItem\"},{\"id\":\"3140\",\"type\":\"LegendItem\"}]},\"id\":\"3067\",\"type\":\"Legend\"},{\"attributes\":{},\"id\":\"3038\",\"type\":\"BasicTicker\"},{\"attributes\":{\"source\":{\"id\":\"3111\",\"type\":\"ColumnDataSource\"}},\"id\":\"3115\",\"type\":\"CDSView\"},{\"attributes\":{\"line_alpha\":0.1,\"line_color\":\"#1f77b4\",\"x\":{\"field\":\"x\"},\"y\":{\"field\":\"y\"}},\"id\":\"3113\",\"type\":\"Line\"},{\"attributes\":{\"bottom_units\":\"screen\",\"fill_alpha\":{\"value\":0.5},\"fill_color\":{\"value\":\"lightgrey\"},\"left_units\":\"screen\",\"level\":\"overlay\",\"line_alpha\":{\"value\":1.0},\"line_color\":{\"value\":\"black\"},\"line_dash\":[4,4],\"line_width\":{\"value\":2},\"render_mode\":\"css\",\"right_units\":\"screen\",\"top_units\":\"screen\"},\"id\":\"3066\",\"type\":\"BoxAnnotation\"},{\"attributes\":{\"fill_alpha\":0.2,\"fill_color\":\"grey\",\"line_alpha\":0.2,\"line_color\":\"grey\",\"line_width\":0,\"x\":{\"field\":\"x\"},\"y\":{\"field\":\"y\"}},\"id\":\"3085\",\"type\":\"Patch\"},{\"attributes\":{\"overlay\":{\"id\":\"3066\",\"type\":\"BoxAnnotation\"}},\"id\":\"3044\",\"type\":\"BoxZoomTool\"},{\"attributes\":{\"data_source\":{\"id\":\"3055\",\"type\":\"ColumnDataSource\"},\"glyph\":{\"id\":\"3056\",\"type\":\"Line\"},\"hover_glyph\":null,\"muted_glyph\":null,\"nonselection_glyph\":{\"id\":\"3057\",\"type\":\"Line\"},\"selection_glyph\":null,\"view\":{\"id\":\"3059\",\"type\":\"CDSView\"}},\"id\":\"3058\",\"type\":\"GlyphRenderer\"},{\"attributes\":{},\"id\":\"3131\",\"type\":\"UnionRenderers\"},{\"attributes\":{\"data_source\":{\"id\":\"3069\",\"type\":\"ColumnDataSource\"},\"glyph\":{\"id\":\"3070\",\"type\":\"Cross\"},\"hover_glyph\":null,\"muted_glyph\":null,\"nonselection_glyph\":{\"id\":\"3071\",\"type\":\"Cross\"},\"selection_glyph\":null,\"view\":{\"id\":\"3073\",\"type\":\"CDSView\"}},\"id\":\"3072\",\"type\":\"GlyphRenderer\"},{\"attributes\":{\"source\":{\"id\":\"3116\",\"type\":\"ColumnDataSource\"}},\"id\":\"3120\",\"type\":\"CDSView\"},{\"attributes\":{},\"id\":\"3045\",\"type\":\"SaveTool\"},{\"attributes\":{},\"id\":\"3063\",\"type\":\"BasicTickFormatter\"},{\"attributes\":{\"line_alpha\":0.1,\"line_color\":\"#1f77b4\",\"x\":{\"field\":\"x\"},\"y\":{\"field\":\"y\"}},\"id\":\"3103\",\"type\":\"Line\"},{\"attributes\":{\"dimension\":1,\"ticker\":{\"id\":\"3038\",\"type\":\"BasicTicker\"}},\"id\":\"3041\",\"type\":\"Grid\"},{\"attributes\":{},\"id\":\"3138\",\"type\":\"Selection\"}],\"root_ids\":[\"3023\"]},\"title\":\"Bokeh Application\",\"version\":\"1.2.0\"}};\n",
       "  var render_items = [{\"docid\":\"ec28e3a9-4411-49d1-960b-9823f1def360\",\"roots\":{\"3023\":\"1a90f43e-624e-4d2e-8efe-7b413f1867c1\"}}];\n",
       "  root.Bokeh.embed.embed_items_notebook(docs_json, render_items);\n",
       "\n",
       "  }\n",
       "  if (root.Bokeh !== undefined) {\n",
       "    embed_document(root);\n",
       "  } else {\n",
       "    var attempts = 0;\n",
       "    var timer = setInterval(function(root) {\n",
       "      if (root.Bokeh !== undefined) {\n",
       "        embed_document(root);\n",
       "        clearInterval(timer);\n",
       "      }\n",
       "      attempts++;\n",
       "      if (attempts > 100) {\n",
       "        console.log(\"Bokeh: ERROR: Unable to run BokehJS code because BokehJS library is missing\");\n",
       "        clearInterval(timer);\n",
       "      }\n",
       "    }, 10, root)\n",
       "  }\n",
       "})(window);"
      ],
      "application/vnd.bokehjs_exec.v0+json": ""
     },
     "metadata": {
      "application/vnd.bokehjs_exec.v0+json": {
       "id": "3023"
      }
     },
     "output_type": "display_data"
    }
   ],
   "source": [
    "p = figure(plot_width=800, plot_height=600, y_range=(-7, 8))\n",
    "\n",
    "y_true = f(x_s)\n",
    "p.line(x_s, y_true, line_width=3, color='black', alpha=0.4, line_dash='dashed', legend='True f(x)')\n",
    "\n",
    "p.cross(x_obs, y_obs, size=20, legend='Training data')\n",
    "\n",
    "stds = np.sqrt(Sigma_s.diagonal())\n",
    "err_xs = np.concatenate((x_s,np.flip(x_s,0)))\n",
    "err_ys = np.concatenate((mu_s + 2 * stds,np.flip(mu_s - 2 * stds,0)))\n",
    "p.patch(err_xs, err_ys, alpha=0.2, line_width=0, color='grey', legend='Uncertainty')\n",
    "\n",
    "for color in Category10[3]:\n",
    "    y_s = np.random.multivariate_normal(mu_s, Sigma_s)\n",
    "    p.line(x_s, y_s, line_width=1, color=color)\n",
    "    \n",
    "p.line(x_s, mu_s, line_width=3, color='blue', alpha=0.4, legend='Mean')\n",
    "show(p)"
   ]
  },
  {
   "cell_type": "code",
   "execution_count": 3,
   "metadata": {},
   "outputs": [],
   "source": [
    "p = figure(plot_width = 800, plot_height = 600 , y_range = (-7,8))"
   ]
  },
  {
   "cell_type": "code",
   "execution_count": 6,
   "metadata": {},
   "outputs": [],
   "source": [
    "coefs = [6, -2.5, -2.4, -0.1, 0.2, 0.03]\n",
    "\n",
    "def f(x):\n",
    "    total = 0\n",
    "    for exp, coef in enumerate(coefs):\n",
    "        total += coef * (x ** exp)\n",
    "    return total"
   ]
  },
  {
   "cell_type": "code",
   "execution_count": 8,
   "metadata": {},
   "outputs": [
    {
     "data": {
      "text/plain": [
       "array([-240.24,    4.44,    6.  ,    1.23,   -5.24,  375.48])"
      ]
     },
     "execution_count": 8,
     "metadata": {},
     "output_type": "execute_result"
    }
   ],
   "source": [
    "x = np.array([-8.0,-2,0,1,2,6])\n",
    "f(x)"
   ]
  },
  {
   "cell_type": "code",
   "execution_count": 12,
   "metadata": {},
   "outputs": [
    {
     "data": {
      "text/html": [
       "\n",
       "\n",
       "\n",
       "\n",
       "\n",
       "\n",
       "  <div class=\"bk-root\" id=\"4c07091d-4258-4fb7-bcec-21289ce50013\" data-root-id=\"1002\"></div>\n"
      ]
     },
     "metadata": {},
     "output_type": "display_data"
    },
    {
     "data": {
      "application/javascript": [
       "(function(root) {\n",
       "  function embed_document(root) {\n",
       "    \n",
       "  var docs_json = {\"244c0727-79ab-4715-8d72-48671d28ae4f\":{\"roots\":{\"references\":[{\"attributes\":{\"below\":[{\"id\":\"1011\",\"type\":\"LinearAxis\"}],\"center\":[{\"id\":\"1015\",\"type\":\"Grid\"},{\"id\":\"1020\",\"type\":\"Grid\"}],\"left\":[{\"id\":\"1016\",\"type\":\"LinearAxis\"}],\"margin\":[0,0,0,0],\"plot_width\":800,\"renderers\":[{\"id\":\"1090\",\"type\":\"GlyphRenderer\"},{\"id\":\"1106\",\"type\":\"GlyphRenderer\"},{\"id\":\"1188\",\"type\":\"GlyphRenderer\"},{\"id\":\"1284\",\"type\":\"GlyphRenderer\"}],\"title\":{\"id\":\"1036\",\"type\":\"Title\"},\"toolbar\":{\"id\":\"1027\",\"type\":\"Toolbar\"},\"x_range\":{\"id\":\"1003\",\"type\":\"DataRange1d\"},\"x_scale\":{\"id\":\"1007\",\"type\":\"LinearScale\"},\"y_range\":{\"id\":\"1005\",\"type\":\"Range1d\"},\"y_scale\":{\"id\":\"1009\",\"type\":\"LinearScale\"}},\"id\":\"1002\",\"subtype\":\"Figure\",\"type\":\"Plot\"},{\"attributes\":{\"ticker\":{\"id\":\"1012\",\"type\":\"BasicTicker\"}},\"id\":\"1015\",\"type\":\"Grid\"},{\"attributes\":{},\"id\":\"1299\",\"type\":\"Selection\"},{\"attributes\":{\"text\":\"\"},\"id\":\"1036\",\"type\":\"Title\"},{\"attributes\":{\"formatter\":{\"id\":\"1043\",\"type\":\"BasicTickFormatter\"},\"ticker\":{\"id\":\"1017\",\"type\":\"BasicTicker\"}},\"id\":\"1016\",\"type\":\"LinearAxis\"},{\"attributes\":{},\"id\":\"1017\",\"type\":\"BasicTicker\"},{\"attributes\":{\"dimension\":1,\"ticker\":{\"id\":\"1017\",\"type\":\"BasicTicker\"}},\"id\":\"1020\",\"type\":\"Grid\"},{\"attributes\":{},\"id\":\"1118\",\"type\":\"UnionRenderers\"},{\"attributes\":{},\"id\":\"1300\",\"type\":\"UnionRenderers\"},{\"attributes\":{\"source\":{\"id\":\"1281\",\"type\":\"ColumnDataSource\"}},\"id\":\"1285\",\"type\":\"CDSView\"},{\"attributes\":{\"fill_alpha\":{\"value\":0.1},\"fill_color\":{\"value\":\"#1f77b4\"},\"line_alpha\":{\"value\":0.1},\"line_color\":{\"value\":\"#1f77b4\"},\"x\":{\"field\":\"x\"},\"y\":{\"field\":\"y\"}},\"id\":\"1105\",\"type\":\"Cross\"},{\"attributes\":{},\"id\":\"1021\",\"type\":\"PanTool\"},{\"attributes\":{\"callback\":null,\"data\":{\"x\":{\"__ndarray__\":\"AAAAAAAAIMAAAAAAAAAAwAAAAAAAAAAAAAAAAAAA8D8AAAAAAAAAQAAAAAAAABhA\",\"dtype\":\"float64\",\"shape\":[6]},\"y\":{\"__ndarray__\":\"ROF6FK4HbsDD9Shcj8IRQAAAAAAAABhArkfhehSu8z/2KFyPwvUUwEjhehSud3dA\",\"dtype\":\"float64\",\"shape\":[6]}},\"selected\":{\"id\":\"1099\",\"type\":\"Selection\"},\"selection_policy\":{\"id\":\"1100\",\"type\":\"UnionRenderers\"}},\"id\":\"1087\",\"type\":\"ColumnDataSource\"},{\"attributes\":{\"fill_alpha\":{\"value\":0.1},\"fill_color\":{\"value\":\"#1f77b4\"},\"line_alpha\":{\"value\":0.1},\"line_color\":{\"value\":\"#1f77b4\"},\"x\":{\"field\":\"x\"},\"y\":{\"field\":\"y\"}},\"id\":\"1089\",\"type\":\"Cross\"},{\"attributes\":{},\"id\":\"1022\",\"type\":\"WheelZoomTool\"},{\"attributes\":{},\"id\":\"1202\",\"type\":\"UnionRenderers\"},{\"attributes\":{},\"id\":\"1117\",\"type\":\"Selection\"},{\"attributes\":{\"overlay\":{\"id\":\"1044\",\"type\":\"BoxAnnotation\"}},\"id\":\"1023\",\"type\":\"BoxZoomTool\"},{\"attributes\":{\"fill_alpha\":{\"value\":0.1},\"fill_color\":{\"value\":\"#1f77b4\"},\"line_alpha\":{\"value\":0.1},\"line_color\":{\"value\":\"#1f77b4\"},\"size\":{\"units\":\"screen\",\"value\":20},\"x\":{\"field\":\"x\"},\"y\":{\"field\":\"y\"}},\"id\":\"1187\",\"type\":\"Cross\"},{\"attributes\":{\"fill_color\":{\"value\":\"#1f77b4\"},\"line_color\":{\"value\":\"#1f77b4\"},\"size\":{\"units\":\"screen\",\"value\":30},\"x\":{\"field\":\"x\"},\"y\":{\"field\":\"y\"}},\"id\":\"1282\",\"type\":\"Cross\"},{\"attributes\":{},\"id\":\"1099\",\"type\":\"Selection\"},{\"attributes\":{},\"id\":\"1024\",\"type\":\"SaveTool\"},{\"attributes\":{},\"id\":\"1100\",\"type\":\"UnionRenderers\"},{\"attributes\":{\"data_source\":{\"id\":\"1281\",\"type\":\"ColumnDataSource\"},\"glyph\":{\"id\":\"1282\",\"type\":\"Cross\"},\"hover_glyph\":null,\"muted_glyph\":null,\"nonselection_glyph\":{\"id\":\"1283\",\"type\":\"Cross\"},\"selection_glyph\":null,\"view\":{\"id\":\"1285\",\"type\":\"CDSView\"}},\"id\":\"1284\",\"type\":\"GlyphRenderer\"},{\"attributes\":{\"fill_color\":{\"value\":\"#1f77b4\"},\"line_color\":{\"value\":\"#1f77b4\"},\"x\":{\"field\":\"x\"},\"y\":{\"field\":\"y\"}},\"id\":\"1088\",\"type\":\"Cross\"},{\"attributes\":{\"data_source\":{\"id\":\"1087\",\"type\":\"ColumnDataSource\"},\"glyph\":{\"id\":\"1088\",\"type\":\"Cross\"},\"hover_glyph\":null,\"muted_glyph\":null,\"nonselection_glyph\":{\"id\":\"1089\",\"type\":\"Cross\"},\"selection_glyph\":null,\"view\":{\"id\":\"1091\",\"type\":\"CDSView\"}},\"id\":\"1090\",\"type\":\"GlyphRenderer\"},{\"attributes\":{\"source\":{\"id\":\"1185\",\"type\":\"ColumnDataSource\"}},\"id\":\"1189\",\"type\":\"CDSView\"},{\"attributes\":{},\"id\":\"1025\",\"type\":\"ResetTool\"},{\"attributes\":{\"fill_alpha\":{\"value\":0.1},\"fill_color\":{\"value\":\"#1f77b4\"},\"line_alpha\":{\"value\":0.1},\"line_color\":{\"value\":\"#1f77b4\"},\"size\":{\"units\":\"screen\",\"value\":30},\"x\":{\"field\":\"x\"},\"y\":{\"field\":\"y\"}},\"id\":\"1283\",\"type\":\"Cross\"},{\"attributes\":{\"source\":{\"id\":\"1087\",\"type\":\"ColumnDataSource\"}},\"id\":\"1091\",\"type\":\"CDSView\"},{\"attributes\":{},\"id\":\"1043\",\"type\":\"BasicTickFormatter\"},{\"attributes\":{\"callback\":null,\"end\":8,\"start\":-7},\"id\":\"1005\",\"type\":\"Range1d\"},{\"attributes\":{},\"id\":\"1026\",\"type\":\"HelpTool\"},{\"attributes\":{\"callback\":null,\"data\":{\"x\":{\"__ndarray__\":\"AAAAAAAAIMAAAAAAAAAAwAAAAAAAAAAAAAAAAAAA8D8AAAAAAAAAQAAAAAAAABhA\",\"dtype\":\"float64\",\"shape\":[6]},\"y\":{\"__ndarray__\":\"ROF6FK4HbsDD9Shcj8IRQAAAAAAAABhArkfhehSu8z/2KFyPwvUUwEjhehSud3dA\",\"dtype\":\"float64\",\"shape\":[6]}},\"selected\":{\"id\":\"1299\",\"type\":\"Selection\"},\"selection_policy\":{\"id\":\"1300\",\"type\":\"UnionRenderers\"}},\"id\":\"1281\",\"type\":\"ColumnDataSource\"},{\"attributes\":{},\"id\":\"1041\",\"type\":\"BasicTickFormatter\"},{\"attributes\":{\"callback\":null,\"data\":{\"x\":{\"__ndarray__\":\"AAAAAAAAIMAAAAAAAAAAwAAAAAAAAAAAAAAAAAAA8D8AAAAAAAAAQAAAAAAAABhA\",\"dtype\":\"float64\",\"shape\":[6]},\"y\":{\"__ndarray__\":\"ROF6FK4HbsDD9Shcj8IRQAAAAAAAABhArkfhehSu8z/2KFyPwvUUwEjhehSud3dA\",\"dtype\":\"float64\",\"shape\":[6]}},\"selected\":{\"id\":\"1201\",\"type\":\"Selection\"},\"selection_policy\":{\"id\":\"1202\",\"type\":\"UnionRenderers\"}},\"id\":\"1185\",\"type\":\"ColumnDataSource\"},{\"attributes\":{},\"id\":\"1201\",\"type\":\"Selection\"},{\"attributes\":{},\"id\":\"1007\",\"type\":\"LinearScale\"},{\"attributes\":{\"active_drag\":\"auto\",\"active_inspect\":\"auto\",\"active_multi\":null,\"active_scroll\":\"auto\",\"active_tap\":\"auto\",\"tools\":[{\"id\":\"1021\",\"type\":\"PanTool\"},{\"id\":\"1022\",\"type\":\"WheelZoomTool\"},{\"id\":\"1023\",\"type\":\"BoxZoomTool\"},{\"id\":\"1024\",\"type\":\"SaveTool\"},{\"id\":\"1025\",\"type\":\"ResetTool\"},{\"id\":\"1026\",\"type\":\"HelpTool\"}]},\"id\":\"1027\",\"type\":\"Toolbar\"},{\"attributes\":{\"source\":{\"id\":\"1103\",\"type\":\"ColumnDataSource\"}},\"id\":\"1107\",\"type\":\"CDSView\"},{\"attributes\":{\"bottom_units\":\"screen\",\"fill_alpha\":{\"value\":0.5},\"fill_color\":{\"value\":\"lightgrey\"},\"left_units\":\"screen\",\"level\":\"overlay\",\"line_alpha\":{\"value\":1.0},\"line_color\":{\"value\":\"black\"},\"line_dash\":[4,4],\"line_width\":{\"value\":2},\"render_mode\":\"css\",\"right_units\":\"screen\",\"top_units\":\"screen\"},\"id\":\"1044\",\"type\":\"BoxAnnotation\"},{\"attributes\":{},\"id\":\"1009\",\"type\":\"LinearScale\"},{\"attributes\":{\"fill_color\":{\"value\":\"#1f77b4\"},\"line_color\":{\"value\":\"#1f77b4\"},\"size\":{\"units\":\"screen\",\"value\":20},\"x\":{\"field\":\"x\"},\"y\":{\"field\":\"y\"}},\"id\":\"1186\",\"type\":\"Cross\"},{\"attributes\":{\"data_source\":{\"id\":\"1185\",\"type\":\"ColumnDataSource\"},\"glyph\":{\"id\":\"1186\",\"type\":\"Cross\"},\"hover_glyph\":null,\"muted_glyph\":null,\"nonselection_glyph\":{\"id\":\"1187\",\"type\":\"Cross\"},\"selection_glyph\":null,\"view\":{\"id\":\"1189\",\"type\":\"CDSView\"}},\"id\":\"1188\",\"type\":\"GlyphRenderer\"},{\"attributes\":{\"fill_color\":{\"value\":\"#1f77b4\"},\"line_color\":{\"value\":\"#1f77b4\"},\"x\":{\"field\":\"x\"},\"y\":{\"field\":\"y\"}},\"id\":\"1104\",\"type\":\"Cross\"},{\"attributes\":{\"formatter\":{\"id\":\"1041\",\"type\":\"BasicTickFormatter\"},\"ticker\":{\"id\":\"1012\",\"type\":\"BasicTicker\"}},\"id\":\"1011\",\"type\":\"LinearAxis\"},{\"attributes\":{\"callback\":null,\"data\":{\"x\":{\"__ndarray__\":\"AAAAAAAAIMAAAAAAAAAAwAAAAAAAAAAAAAAAAAAA8D8AAAAAAAAAQAAAAAAAABhA\",\"dtype\":\"float64\",\"shape\":[6]},\"y\":{\"__ndarray__\":\"ROF6FK4HbsDD9Shcj8IRQAAAAAAAABhArkfhehSu8z/2KFyPwvUUwEjhehSud3dA\",\"dtype\":\"float64\",\"shape\":[6]}},\"selected\":{\"id\":\"1117\",\"type\":\"Selection\"},\"selection_policy\":{\"id\":\"1118\",\"type\":\"UnionRenderers\"}},\"id\":\"1103\",\"type\":\"ColumnDataSource\"},{\"attributes\":{\"callback\":null},\"id\":\"1003\",\"type\":\"DataRange1d\"},{\"attributes\":{},\"id\":\"1012\",\"type\":\"BasicTicker\"},{\"attributes\":{\"data_source\":{\"id\":\"1103\",\"type\":\"ColumnDataSource\"},\"glyph\":{\"id\":\"1104\",\"type\":\"Cross\"},\"hover_glyph\":null,\"muted_glyph\":null,\"nonselection_glyph\":{\"id\":\"1105\",\"type\":\"Cross\"},\"selection_glyph\":null,\"view\":{\"id\":\"1107\",\"type\":\"CDSView\"}},\"id\":\"1106\",\"type\":\"GlyphRenderer\"}],\"root_ids\":[\"1002\"]},\"title\":\"Bokeh Application\",\"version\":\"1.2.0\"}};\n",
       "  var render_items = [{\"docid\":\"244c0727-79ab-4715-8d72-48671d28ae4f\",\"roots\":{\"1002\":\"4c07091d-4258-4fb7-bcec-21289ce50013\"}}];\n",
       "  root.Bokeh.embed.embed_items_notebook(docs_json, render_items);\n",
       "\n",
       "  }\n",
       "  if (root.Bokeh !== undefined) {\n",
       "    embed_document(root);\n",
       "  } else {\n",
       "    var attempts = 0;\n",
       "    var timer = setInterval(function(root) {\n",
       "      if (root.Bokeh !== undefined) {\n",
       "        embed_document(root);\n",
       "        clearInterval(timer);\n",
       "      }\n",
       "      attempts++;\n",
       "      if (attempts > 100) {\n",
       "        console.log(\"Bokeh: ERROR: Unable to run BokehJS code because BokehJS library is missing\");\n",
       "        clearInterval(timer);\n",
       "      }\n",
       "    }, 10, root)\n",
       "  }\n",
       "})(window);"
      ],
      "application/vnd.bokehjs_exec.v0+json": ""
     },
     "metadata": {
      "application/vnd.bokehjs_exec.v0+json": {
       "id": "1002"
      }
     },
     "output_type": "display_data"
    }
   ],
   "source": [
    "p.cross(x,f(x),size=30)\n",
    "show(p)"
   ]
  },
  {
   "cell_type": "code",
   "execution_count": null,
   "metadata": {},
   "outputs": [],
   "source": []
  }
 ],
 "metadata": {
  "kernelspec": {
   "display_name": "Python 3",
   "language": "python",
   "name": "python3"
  },
  "language_info": {
   "codemirror_mode": {
    "name": "ipython",
    "version": 3
   },
   "file_extension": ".py",
   "mimetype": "text/x-python",
   "name": "python",
   "nbconvert_exporter": "python",
   "pygments_lexer": "ipython3",
   "version": "3.7.3"
  }
 },
 "nbformat": 4,
 "nbformat_minor": 2
}
