{
 "cells": [
  {
   "cell_type": "code",
   "execution_count": 34,
   "metadata": {},
   "outputs": [],
   "source": [
    "f = open(r'C:\\Users\\user\\Desktop\\ipython\\新文字文件.txt')\n",
    "boy=[]\n",
    "girl=[]\n",
    "count=1\n",
    "\n",
    "def save_file():\n",
    "    \n",
    "    global boy\n",
    "    global girl\n",
    "    global count\n",
    "    \n",
    "    file_name_boy = 'boy_'+str(count)+'.txt'\n",
    "    file_name_girl = 'girl_'+str(count)+'.txt'\n",
    "        \n",
    "    boy_file = open(file_name_boy,'w')\n",
    "    girl_file = open(file_name_girl,'w')\n",
    "        \n",
    "    boy_file.writelines(boy)\n",
    "    girl_file.writelines(girl)\n",
    "        \n",
    "    boy_file.close()\n",
    "    girl_file.close()\n",
    "        \n",
    "    boy=[]\n",
    "    girl=[]\n",
    "    count+=1\n",
    "\n",
    "for each_line in f:\n",
    "    if each_line[:5] != '=====':\n",
    "        (rule,line) = each_line.split(':',1)\n",
    "        if rule == '蔡':\n",
    "            boy.append(line)\n",
    "        if rule == '方':\n",
    "            girl.append(line)\n",
    "    else:\n",
    "        save_file()\n",
    "\n",
    "save_file()        \n",
    "f.close()"
   ]
  },
  {
   "cell_type": "code",
   "execution_count": 37,
   "metadata": {},
   "outputs": [
    {
     "data": {
      "text/plain": [
       "'nt'"
      ]
     },
     "execution_count": 37,
     "metadata": {},
     "output_type": "execute_result"
    }
   ],
   "source": [
    "import os                #import 作業環境套件\n",
    "k=os.getcwd()            #得到目前目錄\n",
    "os.listdir(k)            #目前目錄所有資料\n",
    "os.name                  #目前的操作系統"
   ]
  },
  {
   "cell_type": "markdown",
   "metadata": {},
   "source": [
    "# 如果希望資料能永久保存，可以用pickle"
   ]
  },
  {
   "cell_type": "code",
   "execution_count": 39,
   "metadata": {},
   "outputs": [
    {
     "name": "stdout",
     "output_type": "stream",
     "text": [
      "[123, 111, '222', ['kk']]\n"
     ]
    }
   ],
   "source": [
    "import pickle                         #資料存取為2進制文件\n",
    "my_list = [123,111,'222',['kk']]\n",
    "pickle_file = open('my_list.pkl','wb')\n",
    "pickle.dump(my_list,pickle_file)\n",
    "pickle_file.close()\n",
    "pickle_file = open('my_list.pkl','rb')\n",
    "my_list2 = pickle.load(pickle_file)\n",
    "print(my_list2)"
   ]
  },
  {
   "cell_type": "markdown",
   "metadata": {},
   "source": [
    "# 出錯如何排除錯誤 "
   ]
  },
  {
   "cell_type": "code",
   "execution_count": 43,
   "metadata": {},
   "outputs": [
    {
     "name": "stdout",
     "output_type": "stream",
     "text": [
      "文件出錯   [Errno 2] No such file or directory: 'kk.txt'\n"
     ]
    }
   ],
   "source": [
    "try:\n",
    "    f = open('kk.txt')\n",
    "    print(f.read())\n",
    "    f.close()\n",
    "except OSError as reason:\n",
    "    print('文件出錯   '+str(reason))\n",
    "finally:\n",
    "    f.close()"
   ]
  },
  {
   "cell_type": "code",
   "execution_count": 48,
   "metadata": {},
   "outputs": [
    {
     "name": "stdout",
     "output_type": "stream",
     "text": [
      "沒有任何異常\n"
     ]
    }
   ],
   "source": [
    "try:\n",
    "    int('123')\n",
    "except ValueError as reason:\n",
    "    print(reason)\n",
    "else:\n",
    "    print('沒有任何異常')"
   ]
  },
  {
   "cell_type": "markdown",
   "metadata": {},
   "source": [
    "# 利用GUI使用者介面"
   ]
  },
  {
   "cell_type": "code",
   "execution_count": 2,
   "metadata": {},
   "outputs": [
    {
     "data": {
      "text/plain": [
       "'OK'"
      ]
     },
     "execution_count": 2,
     "metadata": {},
     "output_type": "execute_result"
    }
   ],
   "source": [
    "import easygui as g\n",
    "import sys \n",
    "g.msgbox('嗨，歡迎來到小遊戲!!!!!','我是標題')"
   ]
  },
  {
   "cell_type": "code",
   "execution_count": 61,
   "metadata": {},
   "outputs": [],
   "source": [
    "if g.ccbox('你希望','我愛你'):\n",
    "    pass      #user choose to continue\n",
    "else:\n",
    "    sys.exit(0)"
   ]
  },
  {
   "cell_type": "code",
   "execution_count": 66,
   "metadata": {},
   "outputs": [
    {
     "name": "stdout",
     "output_type": "stream",
     "text": [
      "[0]\n"
     ]
    },
    {
     "data": {
      "text/plain": [
       "'大便當'"
      ]
     },
     "execution_count": 66,
     "metadata": {},
     "output_type": "execute_result"
    }
   ],
   "source": [
    "g.choicebox('你願意?','我是標題',choices = ['我愛你','大便當'])"
   ]
  },
  {
   "cell_type": "code",
   "execution_count": 68,
   "metadata": {},
   "outputs": [
    {
     "data": {
      "text/plain": [
       "'加油!!'"
      ]
     },
     "execution_count": 68,
     "metadata": {},
     "output_type": "execute_result"
    }
   ],
   "source": [
    "g.msgbox('我一定會學好程式','你的孩子不是你的孩子',ok_button='加油!!')"
   ]
  },
  {
   "cell_type": "code",
   "execution_count": 70,
   "metadata": {},
   "outputs": [],
   "source": [
    "if g.ccbox('要再來一次嗎？', choices=('要啊要啊^_^', '算了吧T_T')):\n",
    "        g.msgbox('不給玩了，再玩就玩壞了......')\n",
    "else:\n",
    "        sys.exit(0) # 記得先 import sys 哈"
   ]
  },
  {
   "cell_type": "code",
   "execution_count": 72,
   "metadata": {},
   "outputs": [
    {
     "data": {
      "text/plain": [
       "str"
      ]
     },
     "execution_count": 72,
     "metadata": {},
     "output_type": "execute_result"
    }
   ],
   "source": [
    "f = g.buttonbox('你愛我嗎?',choices = ('我愛','超愛','超級愛'))\n",
    "type('f')"
   ]
  },
  {
   "cell_type": "code",
   "execution_count": 3,
   "metadata": {},
   "outputs": [
    {
     "ename": "TypeError",
     "evalue": "'NoneType' object is not subscriptable",
     "output_type": "error",
     "traceback": [
      "\u001b[1;31m---------------------------------------------------------------------------\u001b[0m",
      "\u001b[1;31mTypeError\u001b[0m                                 Traceback (most recent call last)",
      "\u001b[1;32m<ipython-input-3-91f3fde95ac8>\u001b[0m in \u001b[0;36m<module>\u001b[1;34m\u001b[0m\n\u001b[0;32m      1\u001b[0m \u001b[0mlist1\u001b[0m \u001b[1;33m=\u001b[0m \u001b[1;33m[\u001b[0m\u001b[1;34m'使用者名稱:'\u001b[0m\u001b[1;33m,\u001b[0m\u001b[1;34m'代碼:'\u001b[0m\u001b[1;33m]\u001b[0m\u001b[1;33m\u001b[0m\u001b[1;33m\u001b[0m\u001b[0m\n\u001b[0;32m      2\u001b[0m \u001b[0mf\u001b[0m \u001b[1;33m=\u001b[0m \u001b[0mg\u001b[0m\u001b[1;33m.\u001b[0m\u001b[0mmultenterbox\u001b[0m\u001b[1;33m(\u001b[0m\u001b[1;34m'來輸入個東西\\n\\n為甚麼要逼我'\u001b[0m\u001b[1;33m,\u001b[0m\u001b[0mfields\u001b[0m \u001b[1;33m=\u001b[0m \u001b[0mlist1\u001b[0m\u001b[1;33m)\u001b[0m\u001b[1;33m\u001b[0m\u001b[1;33m\u001b[0m\u001b[0m\n\u001b[1;32m----> 3\u001b[1;33m \u001b[0mprint\u001b[0m\u001b[1;33m(\u001b[0m\u001b[0mf\u001b[0m\u001b[1;33m[\u001b[0m\u001b[1;36m1\u001b[0m\u001b[1;33m]\u001b[0m\u001b[1;33m)\u001b[0m\u001b[1;33m\u001b[0m\u001b[1;33m\u001b[0m\u001b[0m\n\u001b[0m\u001b[0;32m      4\u001b[0m \u001b[0mg\u001b[0m\u001b[1;33m.\u001b[0m\u001b[0mpasswordbox\u001b[0m\u001b[1;33m(\u001b[0m\u001b[1;34m'Enter your password'\u001b[0m\u001b[1;33m)\u001b[0m\u001b[1;33m\u001b[0m\u001b[1;33m\u001b[0m\u001b[0m\n",
      "\u001b[1;31mTypeError\u001b[0m: 'NoneType' object is not subscriptable"
     ]
    }
   ],
   "source": [
    "list1 = ['使用者名稱:','代碼:']\n",
    "f = g.multenterbox('來輸入個東西\\n\\n為甚麼要逼我',fields = list1)\n",
    "print(f[1])\n",
    "g.passwordbox('Enter your password')"
   ]
  },
  {
   "cell_type": "markdown",
   "metadata": {},
   "source": [
    "# 類別封裝、繼承、多態"
   ]
  },
  {
   "cell_type": "code",
   "execution_count": 8,
   "metadata": {},
   "outputs": [
    {
     "data": {
      "text/plain": [
       "[]"
      ]
     },
     "execution_count": 8,
     "metadata": {},
     "output_type": "execute_result"
    }
   ],
   "source": [
    "list1 = [2,1,7,5,3]\n",
    "list1.sort()\n",
    "list1.append(9)\n",
    "list1\n",
    "class Mylist(list): #繼承list的方法、屬性\n",
    "    pass\n",
    "list2 = Mylist()\n",
    "list2"
   ]
  },
  {
   "cell_type": "code",
   "execution_count": 13,
   "metadata": {},
   "outputs": [
    {
     "data": {
      "text/plain": [
       "'哈哈哈'"
      ]
     },
     "execution_count": 13,
     "metadata": {},
     "output_type": "execute_result"
    }
   ],
   "source": [
    "class Ball:\n",
    "    def __init__(self,name):#創建參數\n",
    "        self.name = name\n",
    "b=Ball('土豆')\n",
    "b.name\n",
    "\n",
    "class person:\n",
    "    __name = '哈哈哈'\n",
    "    def getname(self):\n",
    "        return self.__name\n",
    "\n",
    "P=person()\n",
    "P.getname()"
   ]
  },
  {
   "cell_type": "code",
   "execution_count": 16,
   "metadata": {},
   "outputs": [
    {
     "name": "stdout",
     "output_type": "stream",
     "text": [
      "正在使用該方法...\n",
      "正在使用該方法...\n"
     ]
    }
   ],
   "source": [
    "class Parent:\n",
    "    def hello(self):\n",
    "        print('正在使用該方法...')\n",
    "class Child(Parent):\n",
    "    pass\n",
    "\n",
    "p=Parent()\n",
    "p.hello()\n",
    "c=Child()\n",
    "c.hello()"
   ]
  },
  {
   "cell_type": "code",
   "execution_count": 20,
   "metadata": {},
   "outputs": [],
   "source": [
    "import random as r\n",
    "\n",
    "class Fish:\n",
    "    def __init__(self):\n",
    "        self.x = r.randint(0,10)\n",
    "        self.y = r.randint(0,10)\n",
    "    def move(self):\n",
    "        self.x-=1\n",
    "        print('我的位置是:',self.x,self.y)\n",
    "\n",
    "class Goldfish(Fish):\n",
    "    pass\n",
    "class Carp(Fish):\n",
    "    pass\n",
    "class Salmon(Fish):\n",
    "    pass\n",
    "class Shark(Fish):\n",
    "    def __init__(self):\n",
    "        #Fish.__init__(self)   #第一種繼承父類的方法\n",
    "        super().__init__()     #第二種繼承父類的方法\n",
    "        self.hungry = True\n",
    "    def eat(self):\n",
    "        if self.hungry:\n",
    "            print('餓餓')\n",
    "            self.hungry = False\n",
    "        else:\n",
    "            pass\n"
   ]
  },
  {
   "cell_type": "code",
   "execution_count": 21,
   "metadata": {},
   "outputs": [
    {
     "name": "stdout",
     "output_type": "stream",
     "text": [
      "我的位置是: 1 1\n"
     ]
    }
   ],
   "source": [
    "shark = Shark()\n",
    "shark.move()"
   ]
  },
  {
   "cell_type": "code",
   "execution_count": 22,
   "metadata": {},
   "outputs": [],
   "source": [
    "class Turtle:\n",
    "    def __init__(self,x):\n",
    "        self.num=x\n",
    "class Fish:\n",
    "    def __init__(self,x):\n",
    "        self.num=x\n",
    "class Pool:\n",
    "    def __init__(self,x,y):\n",
    "        self.turtle = Turtle(x)\n",
    "        self.fish = Fish(y)\n",
    "    def print_num(self):\n",
    "        print('水池裡總共有烏龜%d隻、小魚%d條' %(self.turtle.num,self.fish.num))"
   ]
  },
  {
   "cell_type": "code",
   "execution_count": 23,
   "metadata": {},
   "outputs": [
    {
     "name": "stdout",
     "output_type": "stream",
     "text": [
      "水池裡總共有烏龜1隻、小魚10條\n"
     ]
    }
   ],
   "source": [
    "pool = Pool(1,10)\n",
    "pool.print_num()"
   ]
  },
  {
   "cell_type": "code",
   "execution_count": 37,
   "metadata": {},
   "outputs": [
    {
     "ename": "AttributeError",
     "evalue": "'C' object has no attribute 'x'",
     "output_type": "error",
     "traceback": [
      "\u001b[1;31m---------------------------------------------------------------------------\u001b[0m",
      "\u001b[1;31mAttributeError\u001b[0m                            Traceback (most recent call last)",
      "\u001b[1;32m<ipython-input-37-ad89827d89ef>\u001b[0m in \u001b[0;36m<module>\u001b[1;34m\u001b[0m\n\u001b[0;32m     14\u001b[0m \u001b[0mc1\u001b[0m\u001b[1;33m.\u001b[0m\u001b[0mk\u001b[0m\u001b[1;33m\u001b[0m\u001b[1;33m\u001b[0m\u001b[0m\n\u001b[0;32m     15\u001b[0m \u001b[1;32mdel\u001b[0m \u001b[0mc1\u001b[0m\u001b[1;33m.\u001b[0m\u001b[0mx\u001b[0m\u001b[1;33m\u001b[0m\u001b[1;33m\u001b[0m\u001b[0m\n\u001b[1;32m---> 16\u001b[1;33m \u001b[0mc1\u001b[0m\u001b[1;33m.\u001b[0m\u001b[0mx\u001b[0m\u001b[1;33m\u001b[0m\u001b[1;33m\u001b[0m\u001b[0m\n\u001b[0m",
      "\u001b[1;31mAttributeError\u001b[0m: 'C' object has no attribute 'x'"
     ]
    }
   ],
   "source": [
    "class C:\n",
    "    def __init__(self,x=10,y=10):\n",
    "        self.x=x\n",
    "        self.y=y\n",
    "    def getsize(self):\n",
    "        return self.x,self.y\n",
    "    def delsize(self):\n",
    "        del self.x\n",
    "    k=property(getsize,delsize)\n",
    "\n",
    "c1=C()\n",
    "c1.k\n",
    "c1.x=7\n",
    "c1.k\n",
    "del c1.x\n",
    "c1.x"
   ]
  },
  {
   "cell_type": "code",
   "execution_count": 38,
   "metadata": {},
   "outputs": [
    {
     "data": {
      "text/plain": [
       "'I LOVE YOU'"
      ]
     },
     "execution_count": 38,
     "metadata": {},
     "output_type": "execute_result"
    }
   ],
   "source": [
    "class CapStr(str):\n",
    "    def __new__(cls,string):\n",
    "        string = string.upper()\n",
    "        return str.__new__(cls,string)\n",
    "a = CapStr('i love you')\n",
    "a"
   ]
  },
  {
   "cell_type": "code",
   "execution_count": 41,
   "metadata": {
    "scrolled": true
   },
   "outputs": [
    {
     "name": "stdout",
     "output_type": "stream",
     "text": [
      "我是 init 方法\n",
      "我是del方法\n"
     ]
    }
   ],
   "source": [
    "class C:\n",
    "    def __init__(self):\n",
    "        print('我是 init 方法')\n",
    "    def __del__(self):\n",
    "        print('我是del方法')\n",
    "\n",
    "c1 = C()\n",
    "c2=c1\n",
    "c3=c2\n",
    "del c3\n",
    "del c2"
   ]
  },
  {
   "cell_type": "code",
   "execution_count": 110,
   "metadata": {},
   "outputs": [
    {
     "ename": "AttributeError",
     "evalue": "'super' object has no attribute 'int'",
     "output_type": "error",
     "traceback": [
      "\u001b[1;31m---------------------------------------------------------------------------\u001b[0m",
      "\u001b[1;31mAttributeError\u001b[0m                            Traceback (most recent call last)",
      "\u001b[1;32m<ipython-input-110-f12569cc617b>\u001b[0m in \u001b[0;36m<module>\u001b[1;34m\u001b[0m\n\u001b[0;32m      6\u001b[0m \u001b[0mb\u001b[0m\u001b[1;33m=\u001b[0m\u001b[0mint\u001b[0m\u001b[1;33m(\u001b[0m\u001b[1;36m5\u001b[0m\u001b[1;33m)\u001b[0m\u001b[1;33m\u001b[0m\u001b[1;33m\u001b[0m\u001b[0m\n\u001b[0;32m      7\u001b[0m \u001b[0mb\u001b[0m\u001b[1;33m\u001b[0m\u001b[1;33m\u001b[0m\u001b[0m\n\u001b[1;32m----> 8\u001b[1;33m \u001b[0ma\u001b[0m\u001b[1;33m+\u001b[0m\u001b[0mb\u001b[0m\u001b[1;33m\u001b[0m\u001b[1;33m\u001b[0m\u001b[0m\n\u001b[0m",
      "\u001b[1;32m<ipython-input-110-f12569cc617b>\u001b[0m in \u001b[0;36m__add__\u001b[1;34m(self, other)\u001b[0m\n\u001b[0;32m      1\u001b[0m \u001b[1;32mclass\u001b[0m \u001b[0mint\u001b[0m\u001b[1;33m(\u001b[0m\u001b[0mint\u001b[0m\u001b[1;33m)\u001b[0m\u001b[1;33m:\u001b[0m\u001b[1;33m\u001b[0m\u001b[1;33m\u001b[0m\u001b[0m\n\u001b[0;32m      2\u001b[0m     \u001b[1;32mdef\u001b[0m \u001b[0m__add__\u001b[0m\u001b[1;33m(\u001b[0m\u001b[0mself\u001b[0m\u001b[1;33m,\u001b[0m\u001b[0mother\u001b[0m\u001b[1;33m)\u001b[0m\u001b[1;33m:\u001b[0m\u001b[1;33m\u001b[0m\u001b[1;33m\u001b[0m\u001b[0m\n\u001b[1;32m----> 3\u001b[1;33m         \u001b[1;32mreturn\u001b[0m \u001b[0msuper\u001b[0m\u001b[1;33m(\u001b[0m\u001b[1;33m)\u001b[0m\u001b[1;33m.\u001b[0m\u001b[0mint\u001b[0m\u001b[1;33m(\u001b[0m\u001b[0mself\u001b[0m\u001b[1;33m)\u001b[0m\u001b[1;33m+\u001b[0m\u001b[0msuper\u001b[0m\u001b[1;33m(\u001b[0m\u001b[1;33m)\u001b[0m\u001b[1;33m.\u001b[0m\u001b[0mint\u001b[0m\u001b[1;33m(\u001b[0m\u001b[0mother\u001b[0m\u001b[1;33m)\u001b[0m\u001b[1;33m*\u001b[0m\u001b[1;36m5\u001b[0m\u001b[1;33m\u001b[0m\u001b[1;33m\u001b[0m\u001b[0m\n\u001b[0m\u001b[0;32m      4\u001b[0m \u001b[0ma\u001b[0m\u001b[1;33m=\u001b[0m\u001b[0mint\u001b[0m\u001b[1;33m(\u001b[0m\u001b[1;36m3\u001b[0m\u001b[1;33m)\u001b[0m\u001b[1;33m\u001b[0m\u001b[1;33m\u001b[0m\u001b[0m\n\u001b[0;32m      5\u001b[0m \u001b[0ma\u001b[0m\u001b[1;33m\u001b[0m\u001b[1;33m\u001b[0m\u001b[0m\n",
      "\u001b[1;31mAttributeError\u001b[0m: 'super' object has no attribute 'int'"
     ]
    }
   ],
   "source": [
    "class int(int):\n",
    "    def __add__(self,other):\n",
    "        return super().int(self)+super().int(other)*5\n",
    "a=int(3)\n",
    "a\n",
    "b=int(5)\n",
    "b\n",
    "a+b"
   ]
  },
  {
   "cell_type": "code",
   "execution_count": 1,
   "metadata": {},
   "outputs": [
    {
     "ename": "NameError",
     "evalue": "name 'MyTimer' is not defined",
     "output_type": "error",
     "traceback": [
      "\u001b[1;31m---------------------------------------------------------------------------\u001b[0m",
      "\u001b[1;31mNameError\u001b[0m                                 Traceback (most recent call last)",
      "\u001b[1;32m<ipython-input-1-a3a4a89af9ab>\u001b[0m in \u001b[0;36m<module>\u001b[1;34m\u001b[0m\n\u001b[1;32m----> 1\u001b[1;33m \u001b[0mt1\u001b[0m \u001b[1;33m=\u001b[0m \u001b[0mMyTimer\u001b[0m\u001b[1;33m(\u001b[0m\u001b[1;33m)\u001b[0m\u001b[1;33m\u001b[0m\u001b[1;33m\u001b[0m\u001b[0m\n\u001b[0m\u001b[0;32m      2\u001b[0m \u001b[0mt1\u001b[0m\u001b[1;33m\u001b[0m\u001b[1;33m\u001b[0m\u001b[0m\n",
      "\u001b[1;31mNameError\u001b[0m: name 'MyTimer' is not defined"
     ]
    }
   ],
   "source": [
    "t1 = MyTimer()\n",
    "t1"
   ]
  },
  {
   "cell_type": "code",
   "execution_count": 3,
   "metadata": {},
   "outputs": [
    {
     "name": "stdout",
     "output_type": "stream",
     "text": [
      "lkkkkkkkk\n",
      "lllll\n"
     ]
    }
   ],
   "source": [
    "class A():\n",
    "    def __str__(self):\n",
    "        return 'lkkkkkkkk'\n",
    "a=A()\n",
    "print(a)\n",
    "\n",
    "class B():\n",
    "    def __repr__(self):\n",
    "        return 'lllll'\n",
    "b=B()\n",
    "print(b)"
   ]
  },
  {
   "cell_type": "markdown",
   "metadata": {},
   "source": [
    "# 要記住一件事，類別屬性如果跟方法同名，會覆蓋過去"
   ]
  },
  {
   "cell_type": "code",
   "execution_count": 83,
   "metadata": {},
   "outputs": [],
   "source": [
    "import time as t\n",
    "class MyTimer():\n",
    "    def __init__(self):\n",
    "        self.unit = ['年','月','天','小時','分鐘','秒']\n",
    "        self.prompt = '未開始計時'\n",
    "    \n",
    "    def __str__(self):\n",
    "        return self.prompt\n",
    "    \n",
    "    __repr__ = __str__\n",
    "    \n",
    "    def __add__(self,other):\n",
    "        result=[]\n",
    "        prompt='總共運行了'\n",
    "        for index in range(6):\n",
    "            result.append(self.lasted[index]+other.lasted[index])\n",
    "            if result[index]:\n",
    "                prompt+=str(result[index])+str(self.unit[index])\n",
    "        return prompt\n",
    "    \n",
    "    def start(self):\n",
    "        self.start = t.localtime()\n",
    "        print('計時開始'+str(self.start))\n",
    "    def stop(self):\n",
    "        self.stop = t.localtime()\n",
    "        self._calc()\n",
    "        print('計時結束'+str(self.stop))\n",
    "        \n",
    "    #內部方法，計算運行時間\n",
    "    def _calc(self):\n",
    "        self.lasted=[]\n",
    "        self.prompt = '總共運行了'\n",
    "        for index in range(6):\n",
    "            self.lasted.append(self.stop[index]-self.start[index])\n",
    "            #self.prompt+=str(self.lasted[index])\n",
    "            if self.lasted[index]:\n",
    "                self.prompt+=str(self.lasted[index])+str(self.unit[index])\n",
    "    \n",
    "t1 = MyTimer()"
   ]
  },
  {
   "cell_type": "code",
   "execution_count": 84,
   "metadata": {},
   "outputs": [
    {
     "data": {
      "text/plain": [
       "未開始計時"
      ]
     },
     "execution_count": 84,
     "metadata": {},
     "output_type": "execute_result"
    }
   ],
   "source": [
    "t1"
   ]
  },
  {
   "cell_type": "code",
   "execution_count": 85,
   "metadata": {},
   "outputs": [
    {
     "name": "stdout",
     "output_type": "stream",
     "text": [
      "計時開始time.struct_time(tm_year=2019, tm_mon=10, tm_mday=6, tm_hour=18, tm_min=44, tm_sec=16, tm_wday=6, tm_yday=279, tm_isdst=0)\n"
     ]
    }
   ],
   "source": [
    "t1.start()"
   ]
  },
  {
   "cell_type": "code",
   "execution_count": 86,
   "metadata": {},
   "outputs": [
    {
     "name": "stdout",
     "output_type": "stream",
     "text": [
      "計時結束time.struct_time(tm_year=2019, tm_mon=10, tm_mday=6, tm_hour=18, tm_min=44, tm_sec=35, tm_wday=6, tm_yday=279, tm_isdst=0)\n"
     ]
    }
   ],
   "source": [
    "t1.stop()"
   ]
  },
  {
   "cell_type": "code",
   "execution_count": 87,
   "metadata": {},
   "outputs": [
    {
     "data": {
      "text/plain": [
       "總共運行了19秒"
      ]
     },
     "execution_count": 87,
     "metadata": {},
     "output_type": "execute_result"
    }
   ],
   "source": [
    "t1"
   ]
  },
  {
   "cell_type": "code",
   "execution_count": 88,
   "metadata": {},
   "outputs": [
    {
     "data": {
      "text/plain": [
       "'總共運行了38秒'"
      ]
     },
     "execution_count": 88,
     "metadata": {},
     "output_type": "execute_result"
    }
   ],
   "source": [
    "t1+t1"
   ]
  },
  {
   "cell_type": "code",
   "execution_count": 89,
   "metadata": {},
   "outputs": [
    {
     "data": {
      "text/plain": [
       "'x-men'"
      ]
     },
     "execution_count": 89,
     "metadata": {},
     "output_type": "execute_result"
    }
   ],
   "source": [
    "class C:\n",
    "    def __init__(self):\n",
    "        self.x = 'x-men'\n",
    "c = C()\n",
    "c.x"
   ]
  },
  {
   "cell_type": "markdown",
   "metadata": {},
   "source": [
    "# 禮貌地訪問屬性"
   ]
  },
  {
   "cell_type": "code",
   "execution_count": 90,
   "metadata": {},
   "outputs": [
    {
     "data": {
      "text/plain": [
       "'沒有屬性'"
      ]
     },
     "execution_count": 90,
     "metadata": {},
     "output_type": "execute_result"
    }
   ],
   "source": [
    "getattr(c,'y','沒有屬性')     #訪問屬性"
   ]
  },
  {
   "cell_type": "code",
   "execution_count": 100,
   "metadata": {},
   "outputs": [],
   "source": [
    "class D:\n",
    "    def __getattribute__(self,name):\n",
    "        print('getattribute')\n",
    "        return super().__getattribute__(name)\n",
    "    def __getattr__(self,name):\n",
    "        print('getattr')\n",
    "    def __setattr__(self,name,value):\n",
    "        print('setattr')\n",
    "        super().__setattr__(name,value)\n",
    "    def __delattr__(self,name):\n",
    "        print('delattr')\n",
    "        super().__delattr__(name)"
   ]
  },
  {
   "cell_type": "code",
   "execution_count": 106,
   "metadata": {},
   "outputs": [],
   "source": [
    "class Retangle:\n",
    "    def __init__(self,width=0,height=0):\n",
    "        self.width=width\n",
    "        self.height=height\n",
    "    def __setattr__(self,name,value):\n",
    "        if name == 'square':\n",
    "            self.width=value\n",
    "            self.height=value\n",
    "        else:\n",
    "            super().__setattr__(name,value)"
   ]
  },
  {
   "cell_type": "code",
   "execution_count": 107,
   "metadata": {},
   "outputs": [],
   "source": [
    "r=Retangle()"
   ]
  },
  {
   "cell_type": "code",
   "execution_count": 108,
   "metadata": {},
   "outputs": [
    {
     "data": {
      "text/plain": [
       "0"
      ]
     },
     "execution_count": 108,
     "metadata": {},
     "output_type": "execute_result"
    }
   ],
   "source": [
    "r.width"
   ]
  },
  {
   "cell_type": "code",
   "execution_count": 136,
   "metadata": {},
   "outputs": [],
   "source": [
    "class MyDecriptor:\n",
    "#     def __init__(self):\n",
    "#         self.x=0\n",
    "#     def __getattribute__(self,name):\n",
    "#         print('getattribute')\n",
    "#         return super().__getattribute__(name)\n",
    "#     def __getattr__(self,name):\n",
    "#         print('getattr')\n",
    "    def __get__(self,instance,owner):\n",
    "        print('getting....',self,instance,owner)\n",
    "    def __set__(self,instance,value):\n",
    "        print('setting....',self,instance,value)\n",
    "    def __delete__(self,instance):\n",
    "        print('deleting...',self,instance)\n",
    "\n",
    "class Test:\n",
    "    x=MyDecriptor()"
   ]
  },
  {
   "cell_type": "code",
   "execution_count": 137,
   "metadata": {},
   "outputs": [],
   "source": [
    "test = Test()"
   ]
  },
  {
   "cell_type": "code",
   "execution_count": 138,
   "metadata": {},
   "outputs": [
    {
     "name": "stdout",
     "output_type": "stream",
     "text": [
      "getting.... <__main__.MyDecriptor object at 0x000000A97D505978> <__main__.Test object at 0x000000A97D535048> <class '__main__.Test'>\n"
     ]
    }
   ],
   "source": [
    "test.x"
   ]
  },
  {
   "cell_type": "code",
   "execution_count": 115,
   "metadata": {},
   "outputs": [
    {
     "data": {
      "text/plain": [
       "__main__.Test"
      ]
     },
     "execution_count": 115,
     "metadata": {},
     "output_type": "execute_result"
    }
   ],
   "source": [
    "Test"
   ]
  },
  {
   "cell_type": "code",
   "execution_count": 116,
   "metadata": {},
   "outputs": [
    {
     "data": {
      "text/plain": [
       "__main__.MyDecriptor"
      ]
     },
     "execution_count": 116,
     "metadata": {},
     "output_type": "execute_result"
    }
   ],
   "source": [
    "MyDecriptor"
   ]
  },
  {
   "cell_type": "code",
   "execution_count": 140,
   "metadata": {},
   "outputs": [
    {
     "data": {
      "text/plain": [
       "<__main__.Test at 0xa97d535048>"
      ]
     },
     "execution_count": 140,
     "metadata": {},
     "output_type": "execute_result"
    }
   ],
   "source": [
    "test"
   ]
  },
  {
   "cell_type": "code",
   "execution_count": 139,
   "metadata": {},
   "outputs": [
    {
     "name": "stdout",
     "output_type": "stream",
     "text": [
      "setting.... <__main__.MyDecriptor object at 0x000000A97D505978> <__main__.Test object at 0x000000A97D535048> x-man\n"
     ]
    }
   ],
   "source": [
    "test.x = 'x-man'"
   ]
  },
  {
   "cell_type": "code",
   "execution_count": 142,
   "metadata": {},
   "outputs": [],
   "source": [
    "class Myproperty:\n",
    "    def __init__(self,fget=None,fset=None,fdel=None):\n",
    "        self.fget=fget\n",
    "        self.fset=fset\n",
    "        self.fdel=fdel\n",
    "    def __get__(self,instance,owner):\n",
    "        return self.fget(instance)\n",
    "    def __set__(self,instance,value):\n",
    "        self.fset(instance,value)\n",
    "    def __delete__(self,insatnce):\n",
    "        self.fdel(instance)"
   ]
  },
  {
   "cell_type": "code",
   "execution_count": 164,
   "metadata": {},
   "outputs": [],
   "source": [
    "class Celsius:\n",
    "    def __init__(self,value=26.0):\n",
    "        self.value = float(value)\n",
    "        self.x=1\n",
    "    def __get__(self,instance,owner):\n",
    "        return (self.value,self.x)\n",
    "    def __set__(self,instance,value):\n",
    "        self.value = value+1\n",
    "        \n",
    "class Fahrenheit:\n",
    "    def __get__(self,instance,owner):\n",
    "        return instance.cel*1.8+32\n",
    "    def __set__(self,insatnce,value):\n",
    "        instance.cel = (float(value)-32)/1.8\n",
    "        \n",
    "class Temperature:\n",
    "    cel = Celsius()\n",
    "    Feh = Fahrenheit()"
   ]
  },
  {
   "cell_type": "code",
   "execution_count": 165,
   "metadata": {},
   "outputs": [],
   "source": [
    "temp = Temperature()"
   ]
  },
  {
   "cell_type": "code",
   "execution_count": 166,
   "metadata": {},
   "outputs": [
    {
     "data": {
      "text/plain": [
       "(26.0, 1)"
      ]
     },
     "execution_count": 166,
     "metadata": {},
     "output_type": "execute_result"
    }
   ],
   "source": [
    "temp.cel"
   ]
  },
  {
   "cell_type": "code",
   "execution_count": 167,
   "metadata": {},
   "outputs": [],
   "source": [
    "temp.cel=5"
   ]
  },
  {
   "cell_type": "code",
   "execution_count": 168,
   "metadata": {},
   "outputs": [
    {
     "data": {
      "text/plain": [
       "(6, 1)"
      ]
     },
     "execution_count": 168,
     "metadata": {},
     "output_type": "execute_result"
    }
   ],
   "source": [
    "temp.cel"
   ]
  },
  {
   "cell_type": "code",
   "execution_count": null,
   "metadata": {},
   "outputs": [],
   "source": []
  }
 ],
 "metadata": {
  "kernelspec": {
   "display_name": "Python 3",
   "language": "python",
   "name": "python3"
  },
  "language_info": {
   "codemirror_mode": {
    "name": "ipython",
    "version": 3
   },
   "file_extension": ".py",
   "mimetype": "text/x-python",
   "name": "python",
   "nbconvert_exporter": "python",
   "pygments_lexer": "ipython3",
   "version": "3.7.3"
  }
 },
 "nbformat": 4,
 "nbformat_minor": 2
}
